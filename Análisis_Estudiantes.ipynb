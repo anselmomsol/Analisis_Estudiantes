{
 "cells": [
  {
   "cell_type": "code",
   "execution_count": 112,
   "id": "b979428e",
   "metadata": {},
   "outputs": [],
   "source": [
    "#importamos las librerias que creemos que vamos a usar\n",
    "import pandas as pd\n",
    "import numpy as np\n",
    "import matplotlib.pyplot as plt\n",
    "import seaborn as sns\n",
    "from scipy import stats\n",
    "import sklearn"
   ]
  },
  {
   "cell_type": "code",
   "execution_count": 113,
   "id": "89fba244",
   "metadata": {},
   "outputs": [],
   "source": [
    "#creamos el dataframe\n",
    "students = pd.read_csv('StudentsPerformance (1).csv')"
   ]
  },
  {
   "cell_type": "code",
   "execution_count": 114,
   "id": "113dab84",
   "metadata": {},
   "outputs": [
    {
     "data": {
      "text/html": [
       "<div>\n",
       "<style scoped>\n",
       "    .dataframe tbody tr th:only-of-type {\n",
       "        vertical-align: middle;\n",
       "    }\n",
       "\n",
       "    .dataframe tbody tr th {\n",
       "        vertical-align: top;\n",
       "    }\n",
       "\n",
       "    .dataframe thead th {\n",
       "        text-align: right;\n",
       "    }\n",
       "</style>\n",
       "<table border=\"1\" class=\"dataframe\">\n",
       "  <thead>\n",
       "    <tr style=\"text-align: right;\">\n",
       "      <th></th>\n",
       "      <th>gender</th>\n",
       "      <th>race/ethnicity</th>\n",
       "      <th>parental level of education</th>\n",
       "      <th>lunch</th>\n",
       "      <th>test preparation course</th>\n",
       "      <th>math score</th>\n",
       "      <th>reading score</th>\n",
       "      <th>writing score</th>\n",
       "    </tr>\n",
       "  </thead>\n",
       "  <tbody>\n",
       "    <tr>\n",
       "      <th>0</th>\n",
       "      <td>female</td>\n",
       "      <td>group B</td>\n",
       "      <td>NaN</td>\n",
       "      <td>standard</td>\n",
       "      <td>none</td>\n",
       "      <td>1.125000</td>\n",
       "      <td>72</td>\n",
       "      <td>74</td>\n",
       "    </tr>\n",
       "    <tr>\n",
       "      <th>1</th>\n",
       "      <td>female</td>\n",
       "      <td>group C</td>\n",
       "      <td>some college</td>\n",
       "      <td>standard</td>\n",
       "      <td>completed</td>\n",
       "      <td>1.078125</td>\n",
       "      <td>90</td>\n",
       "      <td>88</td>\n",
       "    </tr>\n",
       "    <tr>\n",
       "      <th>2</th>\n",
       "      <td>female</td>\n",
       "      <td>group B</td>\n",
       "      <td>master's degree</td>\n",
       "      <td>standard</td>\n",
       "      <td>none</td>\n",
       "      <td>1.406250</td>\n",
       "      <td>95</td>\n",
       "      <td>93</td>\n",
       "    </tr>\n",
       "    <tr>\n",
       "      <th>3</th>\n",
       "      <td>male</td>\n",
       "      <td>group A</td>\n",
       "      <td>associate's degree</td>\n",
       "      <td>free/reduced</td>\n",
       "      <td>none</td>\n",
       "      <td>0.734375</td>\n",
       "      <td>57</td>\n",
       "      <td>44</td>\n",
       "    </tr>\n",
       "    <tr>\n",
       "      <th>4</th>\n",
       "      <td>male</td>\n",
       "      <td>group C</td>\n",
       "      <td>some college</td>\n",
       "      <td>standard</td>\n",
       "      <td>none</td>\n",
       "      <td>1.187500</td>\n",
       "      <td>78</td>\n",
       "      <td>75</td>\n",
       "    </tr>\n",
       "    <tr>\n",
       "      <th>...</th>\n",
       "      <td>...</td>\n",
       "      <td>...</td>\n",
       "      <td>...</td>\n",
       "      <td>...</td>\n",
       "      <td>...</td>\n",
       "      <td>...</td>\n",
       "      <td>...</td>\n",
       "      <td>...</td>\n",
       "    </tr>\n",
       "    <tr>\n",
       "      <th>995</th>\n",
       "      <td>female</td>\n",
       "      <td>group E</td>\n",
       "      <td>master's degree</td>\n",
       "      <td>standard</td>\n",
       "      <td>completed</td>\n",
       "      <td>1.375000</td>\n",
       "      <td>99</td>\n",
       "      <td>95</td>\n",
       "    </tr>\n",
       "    <tr>\n",
       "      <th>996</th>\n",
       "      <td>male</td>\n",
       "      <td>group C</td>\n",
       "      <td>high school</td>\n",
       "      <td>free/reduced</td>\n",
       "      <td>none</td>\n",
       "      <td>0.968750</td>\n",
       "      <td>55</td>\n",
       "      <td>55</td>\n",
       "    </tr>\n",
       "    <tr>\n",
       "      <th>997</th>\n",
       "      <td>female</td>\n",
       "      <td>group C</td>\n",
       "      <td>high school</td>\n",
       "      <td>free/reduced</td>\n",
       "      <td>completed</td>\n",
       "      <td>0.921875</td>\n",
       "      <td>71</td>\n",
       "      <td>65</td>\n",
       "    </tr>\n",
       "    <tr>\n",
       "      <th>998</th>\n",
       "      <td>female</td>\n",
       "      <td>group D</td>\n",
       "      <td>some college</td>\n",
       "      <td>standard</td>\n",
       "      <td>completed</td>\n",
       "      <td>1.062500</td>\n",
       "      <td>78</td>\n",
       "      <td>77</td>\n",
       "    </tr>\n",
       "    <tr>\n",
       "      <th>999</th>\n",
       "      <td>female</td>\n",
       "      <td>group D</td>\n",
       "      <td>some college</td>\n",
       "      <td>free/reduced</td>\n",
       "      <td>none</td>\n",
       "      <td>1.203125</td>\n",
       "      <td>86</td>\n",
       "      <td>86</td>\n",
       "    </tr>\n",
       "  </tbody>\n",
       "</table>\n",
       "<p>1000 rows × 8 columns</p>\n",
       "</div>"
      ],
      "text/plain": [
       "     gender race/ethnicity parental level of education         lunch  \\\n",
       "0    female        group B                         NaN      standard   \n",
       "1    female        group C                some college      standard   \n",
       "2    female        group B             master's degree      standard   \n",
       "3      male        group A          associate's degree  free/reduced   \n",
       "4      male        group C                some college      standard   \n",
       "..      ...            ...                         ...           ...   \n",
       "995  female        group E             master's degree      standard   \n",
       "996    male        group C                 high school  free/reduced   \n",
       "997  female        group C                 high school  free/reduced   \n",
       "998  female        group D                some college      standard   \n",
       "999  female        group D                some college  free/reduced   \n",
       "\n",
       "    test preparation course  math score  reading score  writing score  \n",
       "0                      none    1.125000             72             74  \n",
       "1                 completed    1.078125             90             88  \n",
       "2                      none    1.406250             95             93  \n",
       "3                      none    0.734375             57             44  \n",
       "4                      none    1.187500             78             75  \n",
       "..                      ...         ...            ...            ...  \n",
       "995               completed    1.375000             99             95  \n",
       "996                    none    0.968750             55             55  \n",
       "997               completed    0.921875             71             65  \n",
       "998               completed    1.062500             78             77  \n",
       "999                    none    1.203125             86             86  \n",
       "\n",
       "[1000 rows x 8 columns]"
      ]
     },
     "execution_count": 114,
     "metadata": {},
     "output_type": "execute_result"
    }
   ],
   "source": [
    "#leemos el dataframe\n",
    "students"
   ]
  },
  {
   "cell_type": "code",
   "execution_count": 115,
   "id": "8d87e160",
   "metadata": {},
   "outputs": [
    {
     "data": {
      "text/plain": [
       "gender                          0\n",
       "race/ethnicity                 11\n",
       "parental level of education    10\n",
       "lunch                           5\n",
       "test preparation course        15\n",
       "math score                      0\n",
       "reading score                   0\n",
       "writing score                   0\n",
       "dtype: int64"
      ]
     },
     "execution_count": 115,
     "metadata": {},
     "output_type": "execute_result"
    }
   ],
   "source": [
    "#chequear si hay datos faltantes\n",
    "students.isna().sum()"
   ]
  },
  {
   "cell_type": "code",
   "execution_count": 116,
   "id": "cbec93b8",
   "metadata": {},
   "outputs": [
    {
     "data": {
      "text/plain": [
       "gender                         0.0\n",
       "race/ethnicity                 1.1\n",
       "parental level of education    1.0\n",
       "lunch                          0.5\n",
       "test preparation course        1.5\n",
       "math score                     0.0\n",
       "reading score                  0.0\n",
       "writing score                  0.0\n",
       "dtype: float64"
      ]
     },
     "execution_count": 116,
     "metadata": {},
     "output_type": "execute_result"
    }
   ],
   "source": [
    "#chequear cuánto(%) representan esos valores que faltan\n",
    "students.isna().sum()/students.shape[0] * 100"
   ]
  },
  {
   "cell_type": "code",
   "execution_count": 117,
   "id": "0aaf2665",
   "metadata": {},
   "outputs": [],
   "source": [
    "#creo otro dataframe para eliminar los valores faltantes\n",
    "students_drop = students.dropna()"
   ]
  },
  {
   "cell_type": "code",
   "execution_count": 118,
   "id": "b3277937",
   "metadata": {},
   "outputs": [
    {
     "data": {
      "text/plain": [
       "(959, 8)"
      ]
     },
     "execution_count": 118,
     "metadata": {},
     "output_type": "execute_result"
    }
   ],
   "source": [
    "students_drop.shape #para saber cuanto mide ahora"
   ]
  },
  {
   "cell_type": "code",
   "execution_count": 119,
   "id": "ec510705",
   "metadata": {},
   "outputs": [
    {
     "data": {
      "text/html": [
       "<div>\n",
       "<style scoped>\n",
       "    .dataframe tbody tr th:only-of-type {\n",
       "        vertical-align: middle;\n",
       "    }\n",
       "\n",
       "    .dataframe tbody tr th {\n",
       "        vertical-align: top;\n",
       "    }\n",
       "\n",
       "    .dataframe thead th {\n",
       "        text-align: right;\n",
       "    }\n",
       "</style>\n",
       "<table border=\"1\" class=\"dataframe\">\n",
       "  <thead>\n",
       "    <tr style=\"text-align: right;\">\n",
       "      <th></th>\n",
       "      <th>gender</th>\n",
       "      <th>race/ethnicity</th>\n",
       "      <th>parental level of education</th>\n",
       "      <th>lunch</th>\n",
       "      <th>test preparation course</th>\n",
       "      <th>math score</th>\n",
       "      <th>reading score</th>\n",
       "      <th>writing score</th>\n",
       "    </tr>\n",
       "  </thead>\n",
       "  <tbody>\n",
       "    <tr>\n",
       "      <th>0</th>\n",
       "      <td>female</td>\n",
       "      <td>group B</td>\n",
       "      <td>NaN</td>\n",
       "      <td>standard</td>\n",
       "      <td>none</td>\n",
       "      <td>1.125000</td>\n",
       "      <td>72</td>\n",
       "      <td>74</td>\n",
       "    </tr>\n",
       "    <tr>\n",
       "      <th>1</th>\n",
       "      <td>female</td>\n",
       "      <td>group C</td>\n",
       "      <td>some college</td>\n",
       "      <td>standard</td>\n",
       "      <td>completed</td>\n",
       "      <td>1.078125</td>\n",
       "      <td>90</td>\n",
       "      <td>88</td>\n",
       "    </tr>\n",
       "    <tr>\n",
       "      <th>2</th>\n",
       "      <td>female</td>\n",
       "      <td>group B</td>\n",
       "      <td>master's degree</td>\n",
       "      <td>standard</td>\n",
       "      <td>none</td>\n",
       "      <td>1.406250</td>\n",
       "      <td>95</td>\n",
       "      <td>93</td>\n",
       "    </tr>\n",
       "    <tr>\n",
       "      <th>3</th>\n",
       "      <td>male</td>\n",
       "      <td>group A</td>\n",
       "      <td>associate's degree</td>\n",
       "      <td>free/reduced</td>\n",
       "      <td>none</td>\n",
       "      <td>0.734375</td>\n",
       "      <td>57</td>\n",
       "      <td>44</td>\n",
       "    </tr>\n",
       "    <tr>\n",
       "      <th>4</th>\n",
       "      <td>male</td>\n",
       "      <td>group C</td>\n",
       "      <td>some college</td>\n",
       "      <td>standard</td>\n",
       "      <td>none</td>\n",
       "      <td>1.187500</td>\n",
       "      <td>78</td>\n",
       "      <td>75</td>\n",
       "    </tr>\n",
       "    <tr>\n",
       "      <th>...</th>\n",
       "      <td>...</td>\n",
       "      <td>...</td>\n",
       "      <td>...</td>\n",
       "      <td>...</td>\n",
       "      <td>...</td>\n",
       "      <td>...</td>\n",
       "      <td>...</td>\n",
       "      <td>...</td>\n",
       "    </tr>\n",
       "    <tr>\n",
       "      <th>995</th>\n",
       "      <td>female</td>\n",
       "      <td>group E</td>\n",
       "      <td>master's degree</td>\n",
       "      <td>standard</td>\n",
       "      <td>completed</td>\n",
       "      <td>1.375000</td>\n",
       "      <td>99</td>\n",
       "      <td>95</td>\n",
       "    </tr>\n",
       "    <tr>\n",
       "      <th>996</th>\n",
       "      <td>male</td>\n",
       "      <td>group C</td>\n",
       "      <td>high school</td>\n",
       "      <td>free/reduced</td>\n",
       "      <td>none</td>\n",
       "      <td>0.968750</td>\n",
       "      <td>55</td>\n",
       "      <td>55</td>\n",
       "    </tr>\n",
       "    <tr>\n",
       "      <th>997</th>\n",
       "      <td>female</td>\n",
       "      <td>group C</td>\n",
       "      <td>high school</td>\n",
       "      <td>free/reduced</td>\n",
       "      <td>completed</td>\n",
       "      <td>0.921875</td>\n",
       "      <td>71</td>\n",
       "      <td>65</td>\n",
       "    </tr>\n",
       "    <tr>\n",
       "      <th>998</th>\n",
       "      <td>female</td>\n",
       "      <td>group D</td>\n",
       "      <td>some college</td>\n",
       "      <td>standard</td>\n",
       "      <td>completed</td>\n",
       "      <td>1.062500</td>\n",
       "      <td>78</td>\n",
       "      <td>77</td>\n",
       "    </tr>\n",
       "    <tr>\n",
       "      <th>999</th>\n",
       "      <td>female</td>\n",
       "      <td>group D</td>\n",
       "      <td>some college</td>\n",
       "      <td>free/reduced</td>\n",
       "      <td>none</td>\n",
       "      <td>1.203125</td>\n",
       "      <td>86</td>\n",
       "      <td>86</td>\n",
       "    </tr>\n",
       "  </tbody>\n",
       "</table>\n",
       "<p>1000 rows × 8 columns</p>\n",
       "</div>"
      ],
      "text/plain": [
       "     gender race/ethnicity parental level of education         lunch  \\\n",
       "0    female        group B                         NaN      standard   \n",
       "1    female        group C                some college      standard   \n",
       "2    female        group B             master's degree      standard   \n",
       "3      male        group A          associate's degree  free/reduced   \n",
       "4      male        group C                some college      standard   \n",
       "..      ...            ...                         ...           ...   \n",
       "995  female        group E             master's degree      standard   \n",
       "996    male        group C                 high school  free/reduced   \n",
       "997  female        group C                 high school  free/reduced   \n",
       "998  female        group D                some college      standard   \n",
       "999  female        group D                some college  free/reduced   \n",
       "\n",
       "    test preparation course  math score  reading score  writing score  \n",
       "0                      none    1.125000             72             74  \n",
       "1                 completed    1.078125             90             88  \n",
       "2                      none    1.406250             95             93  \n",
       "3                      none    0.734375             57             44  \n",
       "4                      none    1.187500             78             75  \n",
       "..                      ...         ...            ...            ...  \n",
       "995               completed    1.375000             99             95  \n",
       "996                    none    0.968750             55             55  \n",
       "997               completed    0.921875             71             65  \n",
       "998               completed    1.062500             78             77  \n",
       "999                    none    1.203125             86             86  \n",
       "\n",
       "[1000 rows x 8 columns]"
      ]
     },
     "execution_count": 119,
     "metadata": {},
     "output_type": "execute_result"
    }
   ],
   "source": [
    "#verificar si hay alguna fila/columna que tenga todos los valores faltantes\n",
    "students.dropna(how='all') "
   ]
  },
  {
   "cell_type": "code",
   "execution_count": 120,
   "id": "c1c31ad6",
   "metadata": {},
   "outputs": [
    {
     "data": {
      "text/html": [
       "<div>\n",
       "<style scoped>\n",
       "    .dataframe tbody tr th:only-of-type {\n",
       "        vertical-align: middle;\n",
       "    }\n",
       "\n",
       "    .dataframe tbody tr th {\n",
       "        vertical-align: top;\n",
       "    }\n",
       "\n",
       "    .dataframe thead th {\n",
       "        text-align: right;\n",
       "    }\n",
       "</style>\n",
       "<table border=\"1\" class=\"dataframe\">\n",
       "  <thead>\n",
       "    <tr style=\"text-align: right;\">\n",
       "      <th></th>\n",
       "      <th>gender</th>\n",
       "      <th>race/ethnicity</th>\n",
       "      <th>parental level of education</th>\n",
       "      <th>lunch</th>\n",
       "      <th>test preparation course</th>\n",
       "      <th>math score</th>\n",
       "      <th>reading score</th>\n",
       "      <th>writing score</th>\n",
       "    </tr>\n",
       "  </thead>\n",
       "  <tbody>\n",
       "    <tr>\n",
       "      <th>0</th>\n",
       "      <td>female</td>\n",
       "      <td>group B</td>\n",
       "      <td>NaN</td>\n",
       "      <td>standard</td>\n",
       "      <td>none</td>\n",
       "      <td>1.125000</td>\n",
       "      <td>72</td>\n",
       "      <td>74</td>\n",
       "    </tr>\n",
       "    <tr>\n",
       "      <th>1</th>\n",
       "      <td>female</td>\n",
       "      <td>group C</td>\n",
       "      <td>some college</td>\n",
       "      <td>standard</td>\n",
       "      <td>completed</td>\n",
       "      <td>1.078125</td>\n",
       "      <td>90</td>\n",
       "      <td>88</td>\n",
       "    </tr>\n",
       "    <tr>\n",
       "      <th>2</th>\n",
       "      <td>female</td>\n",
       "      <td>group B</td>\n",
       "      <td>master's degree</td>\n",
       "      <td>standard</td>\n",
       "      <td>none</td>\n",
       "      <td>1.406250</td>\n",
       "      <td>95</td>\n",
       "      <td>93</td>\n",
       "    </tr>\n",
       "    <tr>\n",
       "      <th>3</th>\n",
       "      <td>male</td>\n",
       "      <td>group A</td>\n",
       "      <td>associate's degree</td>\n",
       "      <td>free/reduced</td>\n",
       "      <td>none</td>\n",
       "      <td>0.734375</td>\n",
       "      <td>57</td>\n",
       "      <td>44</td>\n",
       "    </tr>\n",
       "    <tr>\n",
       "      <th>4</th>\n",
       "      <td>male</td>\n",
       "      <td>group C</td>\n",
       "      <td>some college</td>\n",
       "      <td>standard</td>\n",
       "      <td>none</td>\n",
       "      <td>1.187500</td>\n",
       "      <td>78</td>\n",
       "      <td>75</td>\n",
       "    </tr>\n",
       "    <tr>\n",
       "      <th>...</th>\n",
       "      <td>...</td>\n",
       "      <td>...</td>\n",
       "      <td>...</td>\n",
       "      <td>...</td>\n",
       "      <td>...</td>\n",
       "      <td>...</td>\n",
       "      <td>...</td>\n",
       "      <td>...</td>\n",
       "    </tr>\n",
       "    <tr>\n",
       "      <th>995</th>\n",
       "      <td>female</td>\n",
       "      <td>group E</td>\n",
       "      <td>master's degree</td>\n",
       "      <td>standard</td>\n",
       "      <td>completed</td>\n",
       "      <td>1.375000</td>\n",
       "      <td>99</td>\n",
       "      <td>95</td>\n",
       "    </tr>\n",
       "    <tr>\n",
       "      <th>996</th>\n",
       "      <td>male</td>\n",
       "      <td>group C</td>\n",
       "      <td>high school</td>\n",
       "      <td>free/reduced</td>\n",
       "      <td>none</td>\n",
       "      <td>0.968750</td>\n",
       "      <td>55</td>\n",
       "      <td>55</td>\n",
       "    </tr>\n",
       "    <tr>\n",
       "      <th>997</th>\n",
       "      <td>female</td>\n",
       "      <td>group C</td>\n",
       "      <td>high school</td>\n",
       "      <td>free/reduced</td>\n",
       "      <td>completed</td>\n",
       "      <td>0.921875</td>\n",
       "      <td>71</td>\n",
       "      <td>65</td>\n",
       "    </tr>\n",
       "    <tr>\n",
       "      <th>998</th>\n",
       "      <td>female</td>\n",
       "      <td>group D</td>\n",
       "      <td>some college</td>\n",
       "      <td>standard</td>\n",
       "      <td>completed</td>\n",
       "      <td>1.062500</td>\n",
       "      <td>78</td>\n",
       "      <td>77</td>\n",
       "    </tr>\n",
       "    <tr>\n",
       "      <th>999</th>\n",
       "      <td>female</td>\n",
       "      <td>group D</td>\n",
       "      <td>some college</td>\n",
       "      <td>free/reduced</td>\n",
       "      <td>none</td>\n",
       "      <td>1.203125</td>\n",
       "      <td>86</td>\n",
       "      <td>86</td>\n",
       "    </tr>\n",
       "  </tbody>\n",
       "</table>\n",
       "<p>989 rows × 8 columns</p>\n",
       "</div>"
      ],
      "text/plain": [
       "     gender race/ethnicity parental level of education         lunch  \\\n",
       "0    female        group B                         NaN      standard   \n",
       "1    female        group C                some college      standard   \n",
       "2    female        group B             master's degree      standard   \n",
       "3      male        group A          associate's degree  free/reduced   \n",
       "4      male        group C                some college      standard   \n",
       "..      ...            ...                         ...           ...   \n",
       "995  female        group E             master's degree      standard   \n",
       "996    male        group C                 high school  free/reduced   \n",
       "997  female        group C                 high school  free/reduced   \n",
       "998  female        group D                some college      standard   \n",
       "999  female        group D                some college  free/reduced   \n",
       "\n",
       "    test preparation course  math score  reading score  writing score  \n",
       "0                      none    1.125000             72             74  \n",
       "1                 completed    1.078125             90             88  \n",
       "2                      none    1.406250             95             93  \n",
       "3                      none    0.734375             57             44  \n",
       "4                      none    1.187500             78             75  \n",
       "..                      ...         ...            ...            ...  \n",
       "995               completed    1.375000             99             95  \n",
       "996                    none    0.968750             55             55  \n",
       "997               completed    0.921875             71             65  \n",
       "998               completed    1.062500             78             77  \n",
       "999                    none    1.203125             86             86  \n",
       "\n",
       "[989 rows x 8 columns]"
      ]
     },
     "execution_count": 120,
     "metadata": {},
     "output_type": "execute_result"
    }
   ],
   "source": [
    "#hago una prueba para saber como quedaría el dataframe si elimino esos valores, no lo modifique aún.\n",
    "students.dropna(subset=['race/ethnicity']) "
   ]
  },
  {
   "cell_type": "code",
   "execution_count": 121,
   "id": "822ecf96",
   "metadata": {},
   "outputs": [],
   "source": [
    " #aca si estoy modificando el dataframe\n",
    "students.dropna(subset=['race/ethnicity', 'parental level of education'], inplace=True)"
   ]
  },
  {
   "cell_type": "code",
   "execution_count": 122,
   "id": "df9a117c",
   "metadata": {},
   "outputs": [],
   "source": [
    "#traer metodos de las librerias para la imputación de datos\n",
    "from sklearn.impute import SimpleImputer"
   ]
  },
  {
   "cell_type": "code",
   "execution_count": 123,
   "id": "db147afa",
   "metadata": {},
   "outputs": [
    {
     "data": {
      "image/png": "[encoded data removed]",
      "text/plain": [
       "<Figure size 432x288 with 1 Axes>"
      ]
     },
     "metadata": {
      "needs_background": "light"
     },
     "output_type": "display_data"
    }
   ],
   "source": [
    "#graficar la variable lunch para analizar\n",
    "sns.countplot(x=\"lunch\", data=students, palette=\"Set3\")\n",
    "sns.despine()"
   ]
  },
  {
   "cell_type": "code",
   "execution_count": 124,
   "id": "e429208d",
   "metadata": {},
   "outputs": [
    {
     "data": {
      "text/plain": [
       "standard        622\n",
       "free/reduced    352\n",
       "Name: lunch, dtype: int64"
      ]
     },
     "execution_count": 124,
     "metadata": {},
     "output_type": "execute_result"
    }
   ],
   "source": [
    "#visualizar también en números\n",
    "students['lunch'].value_counts()"
   ]
  },
  {
   "cell_type": "code",
   "execution_count": 125,
   "id": "47265abc",
   "metadata": {},
   "outputs": [],
   "source": [
    "#instanciar la clase de SimpleImputer\n",
    "imputer = SimpleImputer(missing_values=np.nan, strategy='most_frequent')"
   ]
  },
  {
   "cell_type": "code",
   "execution_count": 126,
   "id": "3b875ed3",
   "metadata": {},
   "outputs": [],
   "source": [
    "#aplicando el metodo para rellenar los espacios en blanco con el valor mas frecuente\n",
    "lunch_imputados = imputer.fit_transform(students[['lunch']])"
   ]
  },
  {
   "cell_type": "code",
   "execution_count": 127,
   "id": "5f1847b9",
   "metadata": {},
   "outputs": [
    {
     "data": {
      "text/plain": [
       "(979, 1)"
      ]
     },
     "execution_count": 127,
     "metadata": {},
     "output_type": "execute_result"
    }
   ],
   "source": [
    "np.shape(lunch_imputados)"
   ]
  },
  {
   "cell_type": "code",
   "execution_count": 128,
   "id": "f9cd8551",
   "metadata": {},
   "outputs": [],
   "source": [
    "#modificamos la variable original del dataframe\n",
    "students['lunch'] = lunch_imputados"
   ]
  },
  {
   "cell_type": "code",
   "execution_count": 129,
   "id": "2f184f11",
   "metadata": {},
   "outputs": [
    {
     "data": {
      "text/plain": [
       "standard        627\n",
       "free/reduced    352\n",
       "Name: lunch, dtype: int64"
      ]
     },
     "execution_count": 129,
     "metadata": {},
     "output_type": "execute_result"
    }
   ],
   "source": [
    "#chequeamos que se hayan modificado los valores\n",
    "students['lunch'].value_counts()"
   ]
  },
  {
   "cell_type": "code",
   "execution_count": 130,
   "id": "ebf24f32",
   "metadata": {},
   "outputs": [
    {
     "data": {
      "text/html": [
       "<div>\n",
       "<style scoped>\n",
       "    .dataframe tbody tr th:only-of-type {\n",
       "        vertical-align: middle;\n",
       "    }\n",
       "\n",
       "    .dataframe tbody tr th {\n",
       "        vertical-align: top;\n",
       "    }\n",
       "\n",
       "    .dataframe thead th {\n",
       "        text-align: right;\n",
       "    }\n",
       "</style>\n",
       "<table border=\"1\" class=\"dataframe\">\n",
       "  <thead>\n",
       "    <tr style=\"text-align: right;\">\n",
       "      <th></th>\n",
       "      <th>gender</th>\n",
       "      <th>race/ethnicity</th>\n",
       "      <th>parental level of education</th>\n",
       "      <th>lunch</th>\n",
       "      <th>test preparation course</th>\n",
       "      <th>math score</th>\n",
       "      <th>reading score</th>\n",
       "      <th>writing score</th>\n",
       "    </tr>\n",
       "  </thead>\n",
       "  <tbody>\n",
       "    <tr>\n",
       "      <th>1</th>\n",
       "      <td>female</td>\n",
       "      <td>group C</td>\n",
       "      <td>some college</td>\n",
       "      <td>standard</td>\n",
       "      <td>completed</td>\n",
       "      <td>1.078125</td>\n",
       "      <td>90</td>\n",
       "      <td>88</td>\n",
       "    </tr>\n",
       "    <tr>\n",
       "      <th>2</th>\n",
       "      <td>female</td>\n",
       "      <td>group B</td>\n",
       "      <td>master's degree</td>\n",
       "      <td>standard</td>\n",
       "      <td>none</td>\n",
       "      <td>1.406250</td>\n",
       "      <td>95</td>\n",
       "      <td>93</td>\n",
       "    </tr>\n",
       "    <tr>\n",
       "      <th>3</th>\n",
       "      <td>male</td>\n",
       "      <td>group A</td>\n",
       "      <td>associate's degree</td>\n",
       "      <td>free/reduced</td>\n",
       "      <td>none</td>\n",
       "      <td>0.734375</td>\n",
       "      <td>57</td>\n",
       "      <td>44</td>\n",
       "    </tr>\n",
       "    <tr>\n",
       "      <th>4</th>\n",
       "      <td>male</td>\n",
       "      <td>group C</td>\n",
       "      <td>some college</td>\n",
       "      <td>standard</td>\n",
       "      <td>none</td>\n",
       "      <td>1.187500</td>\n",
       "      <td>78</td>\n",
       "      <td>75</td>\n",
       "    </tr>\n",
       "    <tr>\n",
       "      <th>5</th>\n",
       "      <td>female</td>\n",
       "      <td>group B</td>\n",
       "      <td>associate's degree</td>\n",
       "      <td>standard</td>\n",
       "      <td>none</td>\n",
       "      <td>1.109375</td>\n",
       "      <td>83</td>\n",
       "      <td>78</td>\n",
       "    </tr>\n",
       "  </tbody>\n",
       "</table>\n",
       "</div>"
      ],
      "text/plain": [
       "   gender race/ethnicity parental level of education         lunch  \\\n",
       "1  female        group C                some college      standard   \n",
       "2  female        group B             master's degree      standard   \n",
       "3    male        group A          associate's degree  free/reduced   \n",
       "4    male        group C                some college      standard   \n",
       "5  female        group B          associate's degree      standard   \n",
       "\n",
       "  test preparation course  math score  reading score  writing score  \n",
       "1               completed    1.078125             90             88  \n",
       "2                    none    1.406250             95             93  \n",
       "3                    none    0.734375             57             44  \n",
       "4                    none    1.187500             78             75  \n",
       "5                    none    1.109375             83             78  "
      ]
     },
     "execution_count": 130,
     "metadata": {},
     "output_type": "execute_result"
    }
   ],
   "source": [
    "students.head()"
   ]
  },
  {
   "cell_type": "code",
   "execution_count": 131,
   "id": "d43dd6f0",
   "metadata": {},
   "outputs": [
    {
     "data": {
      "text/plain": [
       "none         621\n",
       "completed    343\n",
       "Name: test preparation course, dtype: int64"
      ]
     },
     "execution_count": 131,
     "metadata": {},
     "output_type": "execute_result"
    }
   ],
   "source": [
    "students['test preparation course'].value_counts()"
   ]
  },
  {
   "cell_type": "code",
   "execution_count": 132,
   "id": "e6b01690",
   "metadata": {},
   "outputs": [],
   "source": [
    "#Reemplazar datos faltantes por una constante\n",
    "imputer_cursos = SimpleImputer(missing_values=np.nan, strategy='constant', fill_value='none')"
   ]
  },
  {
   "cell_type": "code",
   "execution_count": 133,
   "id": "1ba3924a",
   "metadata": {},
   "outputs": [],
   "source": [
    "students['test preparation course'] = imputer_cursos.fit_transform(students[['test preparation course']])"
   ]
  },
  {
   "cell_type": "code",
   "execution_count": 134,
   "id": "10e9b5d9",
   "metadata": {},
   "outputs": [
    {
     "data": {
      "text/plain": [
       "none         636\n",
       "completed    343\n",
       "Name: test preparation course, dtype: int64"
      ]
     },
     "execution_count": 134,
     "metadata": {},
     "output_type": "execute_result"
    }
   ],
   "source": [
    "students['test preparation course'].value_counts()"
   ]
  },
  {
   "cell_type": "code",
   "execution_count": 135,
   "id": "3be5194f",
   "metadata": {},
   "outputs": [
    {
     "data": {
      "text/plain": [
       "gender                         0\n",
       "race/ethnicity                 0\n",
       "parental level of education    0\n",
       "lunch                          0\n",
       "test preparation course        0\n",
       "math score                     0\n",
       "reading score                  0\n",
       "writing score                  0\n",
       "dtype: int64"
      ]
     },
     "execution_count": 135,
     "metadata": {},
     "output_type": "execute_result"
    }
   ],
   "source": [
    "#chequeamos que no haya quedado ningún dato faltante\n",
    "students.isna().sum()"
   ]
  },
  {
   "cell_type": "code",
   "execution_count": 136,
   "id": "9a2cc2cd",
   "metadata": {},
   "outputs": [
    {
     "data": {
      "text/plain": [
       "<seaborn.axisgrid.FacetGrid at 0x163947947f0>"
      ]
     },
     "execution_count": 136,
     "metadata": {},
     "output_type": "execute_result"
    },
    {
     "data": {
      "image/png": "[encoded data removed]",
      "text/plain": [
       "<Figure size 360x360 with 1 Axes>"
      ]
     },
     "metadata": {
      "needs_background": "light"
     },
     "output_type": "display_data"
    }
   ],
   "source": [
    "#detección de outliners\n",
    "sns.displot(students['math score'], color='#F7F6A1')"
   ]
  },
  {
   "cell_type": "code",
   "execution_count": 137,
   "id": "9636b0b4",
   "metadata": {},
   "outputs": [
    {
     "name": "stderr",
     "output_type": "stream",
     "text": [
      "C:\\Users\\Sol\\anaconda3\\lib\\site-packages\\seaborn\\_decorators.py:36: FutureWarning: Pass the following variable as a keyword arg: x. From version 0.12, the only valid positional argument will be `data`, and passing other arguments without an explicit keyword will result in an error or misinterpretation.\n",
      "  warnings.warn(\n"
     ]
    },
    {
     "data": {
      "image/png": "[encoded data removed]",
      "text/plain": [
       "<Figure size 432x288 with 1 Axes>"
      ]
     },
     "metadata": {
      "needs_background": "light"
     },
     "output_type": "display_data"
    }
   ],
   "source": [
    "#grafico de cajas para visualizar mejor\n",
    "sns.boxplot(students['math score'], color='#F7F6A1')\n",
    "sns.despine()"
   ]
  },
  {
   "cell_type": "code",
   "execution_count": 138,
   "id": "94a39b13",
   "metadata": {},
   "outputs": [],
   "source": [
    "#creo la variable z para crear un array de np sobre math score\n",
    "z = stats.zscore(np.array(students['math score']))\n"
   ]
  },
  {
   "cell_type": "code",
   "execution_count": 139,
   "id": "18a12dbd",
   "metadata": {},
   "outputs": [],
   "source": [
    "#crear el umbral\n",
    "thresold = 2.5"
   ]
  },
  {
   "cell_type": "code",
   "execution_count": 140,
   "id": "1432a068",
   "metadata": {},
   "outputs": [],
   "source": [
    "#chequeo si hay outliners y si los hay le cambia el indice\n",
    "z_index = students['math score'][np.abs(z) < thresold].index\n",
    "students = students.loc[z_index]"
   ]
  },
  {
   "cell_type": "code",
   "execution_count": 141,
   "id": "97d7bca4",
   "metadata": {},
   "outputs": [
    {
     "name": "stderr",
     "output_type": "stream",
     "text": [
      "C:\\Users\\Sol\\anaconda3\\lib\\site-packages\\seaborn\\_decorators.py:36: FutureWarning: Pass the following variable as a keyword arg: x. From version 0.12, the only valid positional argument will be `data`, and passing other arguments without an explicit keyword will result in an error or misinterpretation.\n",
      "  warnings.warn(\n"
     ]
    },
    {
     "data": {
      "image/png": "[encoded data removed]",
      "text/plain": [
       "<Figure size 432x288 with 1 Axes>"
      ]
     },
     "metadata": {
      "needs_background": "light"
     },
     "output_type": "display_data"
    }
   ],
   "source": [
    "#realizamos el mismo analisis pero sobre reading score\n",
    "sns.boxplot(students['reading score'], color='#F7F6A1')\n",
    "sns.despine()"
   ]
  },
  {
   "cell_type": "code",
   "execution_count": 142,
   "id": "67e251aa",
   "metadata": {},
   "outputs": [],
   "source": [
    "#en este caso vamos a trabajar con cuartiles\n",
    "q1 = students['reading score'].quantile(0.25) #primer cuartil\n",
    "q3 = students['reading score'].quantile(0.75) #tercer cuartil"
   ]
  },
  {
   "cell_type": "code",
   "execution_count": 143,
   "id": "6119b7b9",
   "metadata": {},
   "outputs": [],
   "source": [
    "#rangos intercuartiles\n",
    "iqr = q3 - q1\n",
    "#limite inferior\n",
    "lb = q1 - (iqr * 1.5)\n",
    "#limite superior\n",
    "ub = q3 + (iqr * 1.5)"
   ]
  },
  {
   "cell_type": "code",
   "execution_count": 144,
   "id": "10c71267",
   "metadata": {},
   "outputs": [],
   "source": [
    "#chequeamos que los valores esten entre los límites\n",
    "students = students[(students['reading score'] > lb) & (students['reading score'] < ub)]   "
   ]
  },
  {
   "cell_type": "code",
   "execution_count": 145,
   "id": "e0e2f4e1",
   "metadata": {},
   "outputs": [],
   "source": [
    "#modificamos el df en base al rango intercuartil\n",
    "students.reset_index(drop=True, inplace=True)  "
   ]
  },
  {
   "cell_type": "code",
   "execution_count": 146,
   "id": "dec3a9a7",
   "metadata": {},
   "outputs": [],
   "source": [
    "#En ningún caso modificamos los datos, solamente se modificaron los indices"
   ]
  },
  {
   "cell_type": "code",
   "execution_count": 147,
   "id": "7641c22c",
   "metadata": {},
   "outputs": [],
   "source": [
    "#creamos una nueva columna que se calcula en base a otras dos columnas\n",
    "students['english score'] = (students['writing score'] + students['reading score']) / 2"
   ]
  },
  {
   "cell_type": "code",
   "execution_count": 148,
   "id": "46bf998a",
   "metadata": {},
   "outputs": [],
   "source": [
    "#transformación de variables categoricas a numericas\n",
    "students['test preparation course'] = students['test preparation course'].apply(lambda x: 0 if x == 'none' else 1)"
   ]
  },
  {
   "cell_type": "code",
   "execution_count": 149,
   "id": "2e8fbffa",
   "metadata": {},
   "outputs": [],
   "source": [
    "#creamos 2 columnas nuevas para desglozar gender en 2 variables numericas\n",
    "students[['female', 'male']] = pd.get_dummies(students['gender'])"
   ]
  },
  {
   "cell_type": "code",
   "execution_count": 150,
   "id": "15929d8e",
   "metadata": {},
   "outputs": [
    {
     "data": {
      "text/html": [
       "<div>\n",
       "<style scoped>\n",
       "    .dataframe tbody tr th:only-of-type {\n",
       "        vertical-align: middle;\n",
       "    }\n",
       "\n",
       "    .dataframe tbody tr th {\n",
       "        vertical-align: top;\n",
       "    }\n",
       "\n",
       "    .dataframe thead th {\n",
       "        text-align: right;\n",
       "    }\n",
       "</style>\n",
       "<table border=\"1\" class=\"dataframe\">\n",
       "  <thead>\n",
       "    <tr style=\"text-align: right;\">\n",
       "      <th></th>\n",
       "      <th>gender</th>\n",
       "      <th>race/ethnicity</th>\n",
       "      <th>parental level of education</th>\n",
       "      <th>lunch</th>\n",
       "      <th>test preparation course</th>\n",
       "      <th>math score</th>\n",
       "      <th>reading score</th>\n",
       "      <th>writing score</th>\n",
       "      <th>english score</th>\n",
       "      <th>female</th>\n",
       "      <th>male</th>\n",
       "    </tr>\n",
       "  </thead>\n",
       "  <tbody>\n",
       "    <tr>\n",
       "      <th>0</th>\n",
       "      <td>female</td>\n",
       "      <td>group C</td>\n",
       "      <td>some college</td>\n",
       "      <td>standard</td>\n",
       "      <td>1</td>\n",
       "      <td>1.078125</td>\n",
       "      <td>90</td>\n",
       "      <td>88</td>\n",
       "      <td>89.0</td>\n",
       "      <td>1</td>\n",
       "      <td>0</td>\n",
       "    </tr>\n",
       "    <tr>\n",
       "      <th>1</th>\n",
       "      <td>female</td>\n",
       "      <td>group B</td>\n",
       "      <td>master's degree</td>\n",
       "      <td>standard</td>\n",
       "      <td>0</td>\n",
       "      <td>1.406250</td>\n",
       "      <td>95</td>\n",
       "      <td>93</td>\n",
       "      <td>94.0</td>\n",
       "      <td>1</td>\n",
       "      <td>0</td>\n",
       "    </tr>\n",
       "    <tr>\n",
       "      <th>2</th>\n",
       "      <td>male</td>\n",
       "      <td>group A</td>\n",
       "      <td>associate's degree</td>\n",
       "      <td>free/reduced</td>\n",
       "      <td>0</td>\n",
       "      <td>0.734375</td>\n",
       "      <td>57</td>\n",
       "      <td>44</td>\n",
       "      <td>50.5</td>\n",
       "      <td>0</td>\n",
       "      <td>1</td>\n",
       "    </tr>\n",
       "    <tr>\n",
       "      <th>3</th>\n",
       "      <td>male</td>\n",
       "      <td>group C</td>\n",
       "      <td>some college</td>\n",
       "      <td>standard</td>\n",
       "      <td>0</td>\n",
       "      <td>1.187500</td>\n",
       "      <td>78</td>\n",
       "      <td>75</td>\n",
       "      <td>76.5</td>\n",
       "      <td>0</td>\n",
       "      <td>1</td>\n",
       "    </tr>\n",
       "    <tr>\n",
       "      <th>4</th>\n",
       "      <td>female</td>\n",
       "      <td>group B</td>\n",
       "      <td>associate's degree</td>\n",
       "      <td>standard</td>\n",
       "      <td>0</td>\n",
       "      <td>1.109375</td>\n",
       "      <td>83</td>\n",
       "      <td>78</td>\n",
       "      <td>80.5</td>\n",
       "      <td>1</td>\n",
       "      <td>0</td>\n",
       "    </tr>\n",
       "  </tbody>\n",
       "</table>\n",
       "</div>"
      ],
      "text/plain": [
       "   gender race/ethnicity parental level of education         lunch  \\\n",
       "0  female        group C                some college      standard   \n",
       "1  female        group B             master's degree      standard   \n",
       "2    male        group A          associate's degree  free/reduced   \n",
       "3    male        group C                some college      standard   \n",
       "4  female        group B          associate's degree      standard   \n",
       "\n",
       "   test preparation course  math score  reading score  writing score  \\\n",
       "0                        1    1.078125             90             88   \n",
       "1                        0    1.406250             95             93   \n",
       "2                        0    0.734375             57             44   \n",
       "3                        0    1.187500             78             75   \n",
       "4                        0    1.109375             83             78   \n",
       "\n",
       "   english score  female  male  \n",
       "0           89.0       1     0  \n",
       "1           94.0       1     0  \n",
       "2           50.5       0     1  \n",
       "3           76.5       0     1  \n",
       "4           80.5       1     0  "
      ]
     },
     "execution_count": 150,
     "metadata": {},
     "output_type": "execute_result"
    }
   ],
   "source": [
    "students.head()"
   ]
  },
  {
   "cell_type": "code",
   "execution_count": 151,
   "id": "ed60bfea",
   "metadata": {},
   "outputs": [],
   "source": [
    "from sklearn.preprocessing import LabelEncoder"
   ]
  },
  {
   "cell_type": "code",
   "execution_count": 152,
   "id": "ecb15929",
   "metadata": {},
   "outputs": [],
   "source": [
    "#instanciamos la clase LabelEncoder \n",
    "test_encoder = LabelEncoder()"
   ]
  },
  {
   "cell_type": "code",
   "execution_count": 153,
   "id": "3855bf63",
   "metadata": {},
   "outputs": [],
   "source": [
    "#aplicamos el metodo fit_transform a la columna race/ethnicity\n",
    "students.loc[:, 'race/ethnicity'] = test_encoder.fit_transform(students['race/ethnicity'])"
   ]
  },
  {
   "cell_type": "code",
   "execution_count": 154,
   "id": "2e20b402",
   "metadata": {},
   "outputs": [
    {
     "data": {
      "text/html": [
       "<div>\n",
       "<style scoped>\n",
       "    .dataframe tbody tr th:only-of-type {\n",
       "        vertical-align: middle;\n",
       "    }\n",
       "\n",
       "    .dataframe tbody tr th {\n",
       "        vertical-align: top;\n",
       "    }\n",
       "\n",
       "    .dataframe thead th {\n",
       "        text-align: right;\n",
       "    }\n",
       "</style>\n",
       "<table border=\"1\" class=\"dataframe\">\n",
       "  <thead>\n",
       "    <tr style=\"text-align: right;\">\n",
       "      <th></th>\n",
       "      <th>gender</th>\n",
       "      <th>race/ethnicity</th>\n",
       "      <th>parental level of education</th>\n",
       "      <th>lunch</th>\n",
       "      <th>test preparation course</th>\n",
       "      <th>math score</th>\n",
       "      <th>reading score</th>\n",
       "      <th>writing score</th>\n",
       "      <th>english score</th>\n",
       "      <th>female</th>\n",
       "      <th>male</th>\n",
       "    </tr>\n",
       "  </thead>\n",
       "  <tbody>\n",
       "    <tr>\n",
       "      <th>0</th>\n",
       "      <td>female</td>\n",
       "      <td>2</td>\n",
       "      <td>some college</td>\n",
       "      <td>standard</td>\n",
       "      <td>1</td>\n",
       "      <td>1.078125</td>\n",
       "      <td>90</td>\n",
       "      <td>88</td>\n",
       "      <td>89.0</td>\n",
       "      <td>1</td>\n",
       "      <td>0</td>\n",
       "    </tr>\n",
       "    <tr>\n",
       "      <th>1</th>\n",
       "      <td>female</td>\n",
       "      <td>1</td>\n",
       "      <td>master's degree</td>\n",
       "      <td>standard</td>\n",
       "      <td>0</td>\n",
       "      <td>1.406250</td>\n",
       "      <td>95</td>\n",
       "      <td>93</td>\n",
       "      <td>94.0</td>\n",
       "      <td>1</td>\n",
       "      <td>0</td>\n",
       "    </tr>\n",
       "    <tr>\n",
       "      <th>2</th>\n",
       "      <td>male</td>\n",
       "      <td>0</td>\n",
       "      <td>associate's degree</td>\n",
       "      <td>free/reduced</td>\n",
       "      <td>0</td>\n",
       "      <td>0.734375</td>\n",
       "      <td>57</td>\n",
       "      <td>44</td>\n",
       "      <td>50.5</td>\n",
       "      <td>0</td>\n",
       "      <td>1</td>\n",
       "    </tr>\n",
       "    <tr>\n",
       "      <th>3</th>\n",
       "      <td>male</td>\n",
       "      <td>2</td>\n",
       "      <td>some college</td>\n",
       "      <td>standard</td>\n",
       "      <td>0</td>\n",
       "      <td>1.187500</td>\n",
       "      <td>78</td>\n",
       "      <td>75</td>\n",
       "      <td>76.5</td>\n",
       "      <td>0</td>\n",
       "      <td>1</td>\n",
       "    </tr>\n",
       "    <tr>\n",
       "      <th>4</th>\n",
       "      <td>female</td>\n",
       "      <td>1</td>\n",
       "      <td>associate's degree</td>\n",
       "      <td>standard</td>\n",
       "      <td>0</td>\n",
       "      <td>1.109375</td>\n",
       "      <td>83</td>\n",
       "      <td>78</td>\n",
       "      <td>80.5</td>\n",
       "      <td>1</td>\n",
       "      <td>0</td>\n",
       "    </tr>\n",
       "  </tbody>\n",
       "</table>\n",
       "</div>"
      ],
      "text/plain": [
       "   gender  race/ethnicity parental level of education         lunch  \\\n",
       "0  female               2                some college      standard   \n",
       "1  female               1             master's degree      standard   \n",
       "2    male               0          associate's degree  free/reduced   \n",
       "3    male               2                some college      standard   \n",
       "4  female               1          associate's degree      standard   \n",
       "\n",
       "   test preparation course  math score  reading score  writing score  \\\n",
       "0                        1    1.078125             90             88   \n",
       "1                        0    1.406250             95             93   \n",
       "2                        0    0.734375             57             44   \n",
       "3                        0    1.187500             78             75   \n",
       "4                        0    1.109375             83             78   \n",
       "\n",
       "   english score  female  male  \n",
       "0           89.0       1     0  \n",
       "1           94.0       1     0  \n",
       "2           50.5       0     1  \n",
       "3           76.5       0     1  \n",
       "4           80.5       1     0  "
      ]
     },
     "execution_count": 154,
     "metadata": {},
     "output_type": "execute_result"
    }
   ],
   "source": [
    "students.head()"
   ]
  },
  {
   "cell_type": "code",
   "execution_count": 155,
   "id": "2a890e34",
   "metadata": {},
   "outputs": [],
   "source": [
    "from sklearn.preprocessing import OneHotEncoder"
   ]
  },
  {
   "cell_type": "code",
   "execution_count": 156,
   "id": "9e703e8b",
   "metadata": {},
   "outputs": [],
   "source": [
    "#instanciamos la clase OneHotEncoder\n",
    "parental_encoder = OneHotEncoder()"
   ]
  },
  {
   "cell_type": "code",
   "execution_count": 157,
   "id": "213cedc8",
   "metadata": {},
   "outputs": [
    {
     "data": {
      "text/plain": [
       "array([[0., 0., 0., 0., 1., 0.],\n",
       "       [0., 0., 0., 1., 0., 0.],\n",
       "       [1., 0., 0., 0., 0., 0.],\n",
       "       ...,\n",
       "       [0., 0., 1., 0., 0., 0.],\n",
       "       [0., 0., 0., 0., 1., 0.],\n",
       "       [0., 0., 0., 0., 1., 0.]])"
      ]
     },
     "execution_count": 157,
     "metadata": {},
     "output_type": "execute_result"
    }
   ],
   "source": [
    "#aplicamos el metodo fit_transform para transformar la categoria en arreglos con valores booleanos\n",
    "parental_encoder.fit_transform(students[['parental level of education']]).toarray()"
   ]
  },
  {
   "cell_type": "code",
   "execution_count": 158,
   "id": "a7549a03",
   "metadata": {},
   "outputs": [],
   "source": [
    "#lo paso a lista\n",
    "niveles = parental_encoder.categories_[0].tolist()"
   ]
  },
  {
   "cell_type": "code",
   "execution_count": 159,
   "id": "22c348a3",
   "metadata": {},
   "outputs": [],
   "source": [
    "#creo las nuevas columnas\n",
    "one_hot_students = pd.DataFrame(parental_encoder.fit_transform(students[['parental level of education']]).toarray(), columns=niveles)"
   ]
  },
  {
   "cell_type": "code",
   "execution_count": 160,
   "id": "724d1414",
   "metadata": {},
   "outputs": [],
   "source": [
    "#concateno al df las nuevas columnas\n",
    "students = pd.concat([students, one_hot_students], axis = 1)"
   ]
  },
  {
   "cell_type": "code",
   "execution_count": 161,
   "id": "b1907a75",
   "metadata": {},
   "outputs": [
    {
     "data": {
      "text/html": [
       "<div>\n",
       "<style scoped>\n",
       "    .dataframe tbody tr th:only-of-type {\n",
       "        vertical-align: middle;\n",
       "    }\n",
       "\n",
       "    .dataframe tbody tr th {\n",
       "        vertical-align: top;\n",
       "    }\n",
       "\n",
       "    .dataframe thead th {\n",
       "        text-align: right;\n",
       "    }\n",
       "</style>\n",
       "<table border=\"1\" class=\"dataframe\">\n",
       "  <thead>\n",
       "    <tr style=\"text-align: right;\">\n",
       "      <th></th>\n",
       "      <th>gender</th>\n",
       "      <th>race/ethnicity</th>\n",
       "      <th>parental level of education</th>\n",
       "      <th>lunch</th>\n",
       "      <th>test preparation course</th>\n",
       "      <th>math score</th>\n",
       "      <th>reading score</th>\n",
       "      <th>writing score</th>\n",
       "      <th>english score</th>\n",
       "      <th>female</th>\n",
       "      <th>male</th>\n",
       "      <th>associate's degree</th>\n",
       "      <th>bachelor's degree</th>\n",
       "      <th>high school</th>\n",
       "      <th>master's degree</th>\n",
       "      <th>some college</th>\n",
       "      <th>some high school</th>\n",
       "    </tr>\n",
       "  </thead>\n",
       "  <tbody>\n",
       "    <tr>\n",
       "      <th>0</th>\n",
       "      <td>female</td>\n",
       "      <td>2</td>\n",
       "      <td>some college</td>\n",
       "      <td>standard</td>\n",
       "      <td>1</td>\n",
       "      <td>1.078125</td>\n",
       "      <td>90</td>\n",
       "      <td>88</td>\n",
       "      <td>89.0</td>\n",
       "      <td>1</td>\n",
       "      <td>0</td>\n",
       "      <td>0.0</td>\n",
       "      <td>0.0</td>\n",
       "      <td>0.0</td>\n",
       "      <td>0.0</td>\n",
       "      <td>1.0</td>\n",
       "      <td>0.0</td>\n",
       "    </tr>\n",
       "    <tr>\n",
       "      <th>1</th>\n",
       "      <td>female</td>\n",
       "      <td>1</td>\n",
       "      <td>master's degree</td>\n",
       "      <td>standard</td>\n",
       "      <td>0</td>\n",
       "      <td>1.406250</td>\n",
       "      <td>95</td>\n",
       "      <td>93</td>\n",
       "      <td>94.0</td>\n",
       "      <td>1</td>\n",
       "      <td>0</td>\n",
       "      <td>0.0</td>\n",
       "      <td>0.0</td>\n",
       "      <td>0.0</td>\n",
       "      <td>1.0</td>\n",
       "      <td>0.0</td>\n",
       "      <td>0.0</td>\n",
       "    </tr>\n",
       "    <tr>\n",
       "      <th>2</th>\n",
       "      <td>male</td>\n",
       "      <td>0</td>\n",
       "      <td>associate's degree</td>\n",
       "      <td>free/reduced</td>\n",
       "      <td>0</td>\n",
       "      <td>0.734375</td>\n",
       "      <td>57</td>\n",
       "      <td>44</td>\n",
       "      <td>50.5</td>\n",
       "      <td>0</td>\n",
       "      <td>1</td>\n",
       "      <td>1.0</td>\n",
       "      <td>0.0</td>\n",
       "      <td>0.0</td>\n",
       "      <td>0.0</td>\n",
       "      <td>0.0</td>\n",
       "      <td>0.0</td>\n",
       "    </tr>\n",
       "    <tr>\n",
       "      <th>3</th>\n",
       "      <td>male</td>\n",
       "      <td>2</td>\n",
       "      <td>some college</td>\n",
       "      <td>standard</td>\n",
       "      <td>0</td>\n",
       "      <td>1.187500</td>\n",
       "      <td>78</td>\n",
       "      <td>75</td>\n",
       "      <td>76.5</td>\n",
       "      <td>0</td>\n",
       "      <td>1</td>\n",
       "      <td>0.0</td>\n",
       "      <td>0.0</td>\n",
       "      <td>0.0</td>\n",
       "      <td>0.0</td>\n",
       "      <td>1.0</td>\n",
       "      <td>0.0</td>\n",
       "    </tr>\n",
       "    <tr>\n",
       "      <th>4</th>\n",
       "      <td>female</td>\n",
       "      <td>1</td>\n",
       "      <td>associate's degree</td>\n",
       "      <td>standard</td>\n",
       "      <td>0</td>\n",
       "      <td>1.109375</td>\n",
       "      <td>83</td>\n",
       "      <td>78</td>\n",
       "      <td>80.5</td>\n",
       "      <td>1</td>\n",
       "      <td>0</td>\n",
       "      <td>1.0</td>\n",
       "      <td>0.0</td>\n",
       "      <td>0.0</td>\n",
       "      <td>0.0</td>\n",
       "      <td>0.0</td>\n",
       "      <td>0.0</td>\n",
       "    </tr>\n",
       "  </tbody>\n",
       "</table>\n",
       "</div>"
      ],
      "text/plain": [
       "   gender  race/ethnicity parental level of education         lunch  \\\n",
       "0  female               2                some college      standard   \n",
       "1  female               1             master's degree      standard   \n",
       "2    male               0          associate's degree  free/reduced   \n",
       "3    male               2                some college      standard   \n",
       "4  female               1          associate's degree      standard   \n",
       "\n",
       "   test preparation course  math score  reading score  writing score  \\\n",
       "0                        1    1.078125             90             88   \n",
       "1                        0    1.406250             95             93   \n",
       "2                        0    0.734375             57             44   \n",
       "3                        0    1.187500             78             75   \n",
       "4                        0    1.109375             83             78   \n",
       "\n",
       "   english score  female  male  associate's degree  bachelor's degree  \\\n",
       "0           89.0       1     0                 0.0                0.0   \n",
       "1           94.0       1     0                 0.0                0.0   \n",
       "2           50.5       0     1                 1.0                0.0   \n",
       "3           76.5       0     1                 0.0                0.0   \n",
       "4           80.5       1     0                 1.0                0.0   \n",
       "\n",
       "   high school  master's degree  some college  some high school  \n",
       "0          0.0              0.0           1.0               0.0  \n",
       "1          0.0              1.0           0.0               0.0  \n",
       "2          0.0              0.0           0.0               0.0  \n",
       "3          0.0              0.0           1.0               0.0  \n",
       "4          0.0              0.0           0.0               0.0  "
      ]
     },
     "execution_count": 161,
     "metadata": {},
     "output_type": "execute_result"
    }
   ],
   "source": [
    "students.head()"
   ]
  },
  {
   "cell_type": "code",
   "execution_count": 162,
   "id": "41fb77e9",
   "metadata": {},
   "outputs": [],
   "source": [
    "from sklearn.preprocessing import LabelBinarizer"
   ]
  },
  {
   "cell_type": "code",
   "execution_count": 163,
   "id": "24c6afcb",
   "metadata": {},
   "outputs": [],
   "source": [
    "#instancio la clase LabelBinarizer\n",
    "lb_lunch = LabelBinarizer()"
   ]
  },
  {
   "cell_type": "code",
   "execution_count": 164,
   "id": "729f4039",
   "metadata": {},
   "outputs": [],
   "source": [
    "#aplicamos fit_transform para reemplazar por 0 y 1\n",
    "students['lunch'] = lb_lunch.fit_transform(students['lunch'])"
   ]
  },
  {
   "cell_type": "code",
   "execution_count": 165,
   "id": "52a977c4",
   "metadata": {
    "scrolled": true
   },
   "outputs": [
    {
     "data": {
      "text/html": [
       "<div>\n",
       "<style scoped>\n",
       "    .dataframe tbody tr th:only-of-type {\n",
       "        vertical-align: middle;\n",
       "    }\n",
       "\n",
       "    .dataframe tbody tr th {\n",
       "        vertical-align: top;\n",
       "    }\n",
       "\n",
       "    .dataframe thead th {\n",
       "        text-align: right;\n",
       "    }\n",
       "</style>\n",
       "<table border=\"1\" class=\"dataframe\">\n",
       "  <thead>\n",
       "    <tr style=\"text-align: right;\">\n",
       "      <th></th>\n",
       "      <th>gender</th>\n",
       "      <th>race/ethnicity</th>\n",
       "      <th>parental level of education</th>\n",
       "      <th>lunch</th>\n",
       "      <th>test preparation course</th>\n",
       "      <th>math score</th>\n",
       "      <th>reading score</th>\n",
       "      <th>writing score</th>\n",
       "      <th>english score</th>\n",
       "      <th>female</th>\n",
       "      <th>male</th>\n",
       "      <th>associate's degree</th>\n",
       "      <th>bachelor's degree</th>\n",
       "      <th>high school</th>\n",
       "      <th>master's degree</th>\n",
       "      <th>some college</th>\n",
       "      <th>some high school</th>\n",
       "    </tr>\n",
       "  </thead>\n",
       "  <tbody>\n",
       "    <tr>\n",
       "      <th>0</th>\n",
       "      <td>female</td>\n",
       "      <td>2</td>\n",
       "      <td>some college</td>\n",
       "      <td>1</td>\n",
       "      <td>1</td>\n",
       "      <td>1.078125</td>\n",
       "      <td>90</td>\n",
       "      <td>88</td>\n",
       "      <td>89.0</td>\n",
       "      <td>1</td>\n",
       "      <td>0</td>\n",
       "      <td>0.0</td>\n",
       "      <td>0.0</td>\n",
       "      <td>0.0</td>\n",
       "      <td>0.0</td>\n",
       "      <td>1.0</td>\n",
       "      <td>0.0</td>\n",
       "    </tr>\n",
       "    <tr>\n",
       "      <th>1</th>\n",
       "      <td>female</td>\n",
       "      <td>1</td>\n",
       "      <td>master's degree</td>\n",
       "      <td>1</td>\n",
       "      <td>0</td>\n",
       "      <td>1.406250</td>\n",
       "      <td>95</td>\n",
       "      <td>93</td>\n",
       "      <td>94.0</td>\n",
       "      <td>1</td>\n",
       "      <td>0</td>\n",
       "      <td>0.0</td>\n",
       "      <td>0.0</td>\n",
       "      <td>0.0</td>\n",
       "      <td>1.0</td>\n",
       "      <td>0.0</td>\n",
       "      <td>0.0</td>\n",
       "    </tr>\n",
       "    <tr>\n",
       "      <th>2</th>\n",
       "      <td>male</td>\n",
       "      <td>0</td>\n",
       "      <td>associate's degree</td>\n",
       "      <td>0</td>\n",
       "      <td>0</td>\n",
       "      <td>0.734375</td>\n",
       "      <td>57</td>\n",
       "      <td>44</td>\n",
       "      <td>50.5</td>\n",
       "      <td>0</td>\n",
       "      <td>1</td>\n",
       "      <td>1.0</td>\n",
       "      <td>0.0</td>\n",
       "      <td>0.0</td>\n",
       "      <td>0.0</td>\n",
       "      <td>0.0</td>\n",
       "      <td>0.0</td>\n",
       "    </tr>\n",
       "    <tr>\n",
       "      <th>3</th>\n",
       "      <td>male</td>\n",
       "      <td>2</td>\n",
       "      <td>some college</td>\n",
       "      <td>1</td>\n",
       "      <td>0</td>\n",
       "      <td>1.187500</td>\n",
       "      <td>78</td>\n",
       "      <td>75</td>\n",
       "      <td>76.5</td>\n",
       "      <td>0</td>\n",
       "      <td>1</td>\n",
       "      <td>0.0</td>\n",
       "      <td>0.0</td>\n",
       "      <td>0.0</td>\n",
       "      <td>0.0</td>\n",
       "      <td>1.0</td>\n",
       "      <td>0.0</td>\n",
       "    </tr>\n",
       "    <tr>\n",
       "      <th>4</th>\n",
       "      <td>female</td>\n",
       "      <td>1</td>\n",
       "      <td>associate's degree</td>\n",
       "      <td>1</td>\n",
       "      <td>0</td>\n",
       "      <td>1.109375</td>\n",
       "      <td>83</td>\n",
       "      <td>78</td>\n",
       "      <td>80.5</td>\n",
       "      <td>1</td>\n",
       "      <td>0</td>\n",
       "      <td>1.0</td>\n",
       "      <td>0.0</td>\n",
       "      <td>0.0</td>\n",
       "      <td>0.0</td>\n",
       "      <td>0.0</td>\n",
       "      <td>0.0</td>\n",
       "    </tr>\n",
       "  </tbody>\n",
       "</table>\n",
       "</div>"
      ],
      "text/plain": [
       "   gender  race/ethnicity parental level of education  lunch  \\\n",
       "0  female               2                some college      1   \n",
       "1  female               1             master's degree      1   \n",
       "2    male               0          associate's degree      0   \n",
       "3    male               2                some college      1   \n",
       "4  female               1          associate's degree      1   \n",
       "\n",
       "   test preparation course  math score  reading score  writing score  \\\n",
       "0                        1    1.078125             90             88   \n",
       "1                        0    1.406250             95             93   \n",
       "2                        0    0.734375             57             44   \n",
       "3                        0    1.187500             78             75   \n",
       "4                        0    1.109375             83             78   \n",
       "\n",
       "   english score  female  male  associate's degree  bachelor's degree  \\\n",
       "0           89.0       1     0                 0.0                0.0   \n",
       "1           94.0       1     0                 0.0                0.0   \n",
       "2           50.5       0     1                 1.0                0.0   \n",
       "3           76.5       0     1                 0.0                0.0   \n",
       "4           80.5       1     0                 1.0                0.0   \n",
       "\n",
       "   high school  master's degree  some college  some high school  \n",
       "0          0.0              0.0           1.0               0.0  \n",
       "1          0.0              1.0           0.0               0.0  \n",
       "2          0.0              0.0           0.0               0.0  \n",
       "3          0.0              0.0           1.0               0.0  \n",
       "4          0.0              0.0           0.0               0.0  "
      ]
     },
     "execution_count": 165,
     "metadata": {},
     "output_type": "execute_result"
    }
   ],
   "source": [
    "students.head()"
   ]
  },
  {
   "cell_type": "code",
   "execution_count": 166,
   "id": "0604d4cb",
   "metadata": {},
   "outputs": [],
   "source": [
    "#elimino las columnas que ya no son necesarias \n",
    "students.drop(['gender', 'parental level of education'], axis=1, inplace=True)"
   ]
  },
  {
   "cell_type": "code",
   "execution_count": 167,
   "id": "19c04639",
   "metadata": {},
   "outputs": [
    {
     "data": {
      "text/html": [
       "<div>\n",
       "<style scoped>\n",
       "    .dataframe tbody tr th:only-of-type {\n",
       "        vertical-align: middle;\n",
       "    }\n",
       "\n",
       "    .dataframe tbody tr th {\n",
       "        vertical-align: top;\n",
       "    }\n",
       "\n",
       "    .dataframe thead th {\n",
       "        text-align: right;\n",
       "    }\n",
       "</style>\n",
       "<table border=\"1\" class=\"dataframe\">\n",
       "  <thead>\n",
       "    <tr style=\"text-align: right;\">\n",
       "      <th></th>\n",
       "      <th>race/ethnicity</th>\n",
       "      <th>lunch</th>\n",
       "      <th>test preparation course</th>\n",
       "      <th>math score</th>\n",
       "      <th>reading score</th>\n",
       "      <th>writing score</th>\n",
       "      <th>english score</th>\n",
       "      <th>female</th>\n",
       "      <th>male</th>\n",
       "      <th>associate's degree</th>\n",
       "      <th>bachelor's degree</th>\n",
       "      <th>high school</th>\n",
       "      <th>master's degree</th>\n",
       "      <th>some college</th>\n",
       "      <th>some high school</th>\n",
       "    </tr>\n",
       "  </thead>\n",
       "  <tbody>\n",
       "    <tr>\n",
       "      <th>0</th>\n",
       "      <td>2</td>\n",
       "      <td>1</td>\n",
       "      <td>1</td>\n",
       "      <td>1.078125</td>\n",
       "      <td>90</td>\n",
       "      <td>88</td>\n",
       "      <td>89.0</td>\n",
       "      <td>1</td>\n",
       "      <td>0</td>\n",
       "      <td>0.0</td>\n",
       "      <td>0.0</td>\n",
       "      <td>0.0</td>\n",
       "      <td>0.0</td>\n",
       "      <td>1.0</td>\n",
       "      <td>0.0</td>\n",
       "    </tr>\n",
       "    <tr>\n",
       "      <th>1</th>\n",
       "      <td>1</td>\n",
       "      <td>1</td>\n",
       "      <td>0</td>\n",
       "      <td>1.406250</td>\n",
       "      <td>95</td>\n",
       "      <td>93</td>\n",
       "      <td>94.0</td>\n",
       "      <td>1</td>\n",
       "      <td>0</td>\n",
       "      <td>0.0</td>\n",
       "      <td>0.0</td>\n",
       "      <td>0.0</td>\n",
       "      <td>1.0</td>\n",
       "      <td>0.0</td>\n",
       "      <td>0.0</td>\n",
       "    </tr>\n",
       "    <tr>\n",
       "      <th>2</th>\n",
       "      <td>0</td>\n",
       "      <td>0</td>\n",
       "      <td>0</td>\n",
       "      <td>0.734375</td>\n",
       "      <td>57</td>\n",
       "      <td>44</td>\n",
       "      <td>50.5</td>\n",
       "      <td>0</td>\n",
       "      <td>1</td>\n",
       "      <td>1.0</td>\n",
       "      <td>0.0</td>\n",
       "      <td>0.0</td>\n",
       "      <td>0.0</td>\n",
       "      <td>0.0</td>\n",
       "      <td>0.0</td>\n",
       "    </tr>\n",
       "    <tr>\n",
       "      <th>3</th>\n",
       "      <td>2</td>\n",
       "      <td>1</td>\n",
       "      <td>0</td>\n",
       "      <td>1.187500</td>\n",
       "      <td>78</td>\n",
       "      <td>75</td>\n",
       "      <td>76.5</td>\n",
       "      <td>0</td>\n",
       "      <td>1</td>\n",
       "      <td>0.0</td>\n",
       "      <td>0.0</td>\n",
       "      <td>0.0</td>\n",
       "      <td>0.0</td>\n",
       "      <td>1.0</td>\n",
       "      <td>0.0</td>\n",
       "    </tr>\n",
       "    <tr>\n",
       "      <th>4</th>\n",
       "      <td>1</td>\n",
       "      <td>1</td>\n",
       "      <td>0</td>\n",
       "      <td>1.109375</td>\n",
       "      <td>83</td>\n",
       "      <td>78</td>\n",
       "      <td>80.5</td>\n",
       "      <td>1</td>\n",
       "      <td>0</td>\n",
       "      <td>1.0</td>\n",
       "      <td>0.0</td>\n",
       "      <td>0.0</td>\n",
       "      <td>0.0</td>\n",
       "      <td>0.0</td>\n",
       "      <td>0.0</td>\n",
       "    </tr>\n",
       "  </tbody>\n",
       "</table>\n",
       "</div>"
      ],
      "text/plain": [
       "   race/ethnicity  lunch  test preparation course  math score  reading score  \\\n",
       "0               2      1                        1    1.078125             90   \n",
       "1               1      1                        0    1.406250             95   \n",
       "2               0      0                        0    0.734375             57   \n",
       "3               2      1                        0    1.187500             78   \n",
       "4               1      1                        0    1.109375             83   \n",
       "\n",
       "   writing score  english score  female  male  associate's degree  \\\n",
       "0             88           89.0       1     0                 0.0   \n",
       "1             93           94.0       1     0                 0.0   \n",
       "2             44           50.5       0     1                 1.0   \n",
       "3             75           76.5       0     1                 0.0   \n",
       "4             78           80.5       1     0                 1.0   \n",
       "\n",
       "   bachelor's degree  high school  master's degree  some college  \\\n",
       "0                0.0          0.0              0.0           1.0   \n",
       "1                0.0          0.0              1.0           0.0   \n",
       "2                0.0          0.0              0.0           0.0   \n",
       "3                0.0          0.0              0.0           1.0   \n",
       "4                0.0          0.0              0.0           0.0   \n",
       "\n",
       "   some high school  \n",
       "0               0.0  \n",
       "1               0.0  \n",
       "2               0.0  \n",
       "3               0.0  \n",
       "4               0.0  "
      ]
     },
     "execution_count": 167,
     "metadata": {},
     "output_type": "execute_result"
    }
   ],
   "source": [
    "students.head()"
   ]
  },
  {
   "cell_type": "code",
   "execution_count": 168,
   "id": "47390f6c",
   "metadata": {},
   "outputs": [],
   "source": [
    "#binning, para convertir lo numerico en categorias y poder vizualizarlo.\n",
    "bins_score = [0, 60, 70, 80, 90, 100]\n",
    "score_categories = pd.cut(students['reading score'], bins=bins_score,\n",
    "                         labels=['desaprobado', 'regular', 'bien', 'muy bien', 'excelente'])"
   ]
  },
  {
   "cell_type": "code",
   "execution_count": 169,
   "id": "502a3ddf",
   "metadata": {},
   "outputs": [
    {
     "name": "stderr",
     "output_type": "stream",
     "text": [
      "C:\\Users\\Sol\\anaconda3\\lib\\site-packages\\seaborn\\_decorators.py:36: FutureWarning: Pass the following variable as a keyword arg: x. From version 0.12, the only valid positional argument will be `data`, and passing other arguments without an explicit keyword will result in an error or misinterpretation.\n",
      "  warnings.warn(\n"
     ]
    },
    {
     "data": {
      "text/plain": [
       "<AxesSubplot:xlabel='reading score', ylabel='count'>"
      ]
     },
     "execution_count": 169,
     "metadata": {},
     "output_type": "execute_result"
    },
    {
     "data": {
      "image/png": "[encoded data removed]",
      "text/plain": [
       "<Figure size 432x288 with 1 Axes>"
      ]
     },
     "metadata": {
      "needs_background": "light"
     },
     "output_type": "display_data"
    }
   ],
   "source": [
    "sns.countplot(score_categories, palette='YlGn')"
   ]
  },
  {
   "cell_type": "code",
   "execution_count": 170,
   "id": "6b0a94e9",
   "metadata": {},
   "outputs": [],
   "source": [
    "#otra forma de vizualización con manera númerica\n",
    "from sklearn.preprocessing import KBinsDiscretizer"
   ]
  },
  {
   "cell_type": "code",
   "execution_count": 171,
   "id": "a9b5369d",
   "metadata": {},
   "outputs": [],
   "source": [
    "kbins = KBinsDiscretizer(n_bins=6, encode='ordinal', strategy='quantile')"
   ]
  },
  {
   "cell_type": "code",
   "execution_count": 172,
   "id": "382dcfaa",
   "metadata": {},
   "outputs": [],
   "source": [
    "bins = kbins.fit_transform(students[['reading score']]).flatten()"
   ]
  },
  {
   "cell_type": "code",
   "execution_count": 173,
   "id": "4614744e",
   "metadata": {},
   "outputs": [
    {
     "data": {
      "text/plain": [
       "array([5., 5., 1., 4., 4., 5., 0., 2., 1., 0.])"
      ]
     },
     "execution_count": 173,
     "metadata": {},
     "output_type": "execute_result"
    }
   ],
   "source": [
    "bins[:10]"
   ]
  },
  {
   "cell_type": "code",
   "execution_count": 174,
   "id": "670e9ac2",
   "metadata": {},
   "outputs": [
    {
     "name": "stderr",
     "output_type": "stream",
     "text": [
      "C:\\Users\\Sol\\anaconda3\\lib\\site-packages\\seaborn\\_decorators.py:36: FutureWarning: Pass the following variable as a keyword arg: x. From version 0.12, the only valid positional argument will be `data`, and passing other arguments without an explicit keyword will result in an error or misinterpretation.\n",
      "  warnings.warn(\n"
     ]
    },
    {
     "data": {
      "image/png": "[encoded data removed]",
      "text/plain": [
       "<Figure size 432x288 with 1 Axes>"
      ]
     },
     "metadata": {
      "needs_background": "light"
     },
     "output_type": "display_data"
    }
   ],
   "source": [
    "sns.countplot(bins, palette='summer')\n",
    "sns.despine()"
   ]
  },
  {
   "cell_type": "code",
   "execution_count": 175,
   "id": "040baccc",
   "metadata": {},
   "outputs": [],
   "source": [
    "#Estandarización de datos\n",
    "from sklearn.preprocessing import MinMaxScaler"
   ]
  },
  {
   "cell_type": "code",
   "execution_count": 176,
   "id": "40cb5397",
   "metadata": {},
   "outputs": [],
   "source": [
    "scaler = MinMaxScaler(feature_range=(0, 100), copy=True)"
   ]
  },
  {
   "cell_type": "code",
   "execution_count": 177,
   "id": "1cdbf17d",
   "metadata": {},
   "outputs": [],
   "source": [
    "#transformando los datos entre 0 y 100\n",
    "students['math score'] = scaler.fit_transform(students[['math score']])"
   ]
  },
  {
   "cell_type": "code",
   "execution_count": 178,
   "id": "072cc350",
   "metadata": {},
   "outputs": [
    {
     "data": {
      "text/plain": [
       "count    962.000000\n",
       "mean      53.147785\n",
       "std       20.001309\n",
       "min        0.000000\n",
       "25%       39.436620\n",
       "50%       52.112676\n",
       "75%       67.605634\n",
       "max      100.000000\n",
       "Name: math score, dtype: float64"
      ]
     },
     "execution_count": 178,
     "metadata": {},
     "output_type": "execute_result"
    }
   ],
   "source": [
    "students['math score'].describe()"
   ]
  },
  {
   "cell_type": "code",
   "execution_count": 181,
   "id": "3d356ec0",
   "metadata": {},
   "outputs": [
    {
     "data": {
      "text/plain": [
       "\",race/ethnicity,lunch,test preparation course,math score,reading score,writing score,english score,female,male,associate's degree,bachelor's degree,high school,master's degree,some college,some high school\\r\\n0,2,1,1,56.33802816901407,90,88,89.0,1,0,0.0,0.0,0.0,0.0,1.0,0.0\\r\\n1,1,1,0,85.91549295774647,95,93,94.0,1,0,0.0,0.0,0.0,1.0,0.0,0.0\\r\\n2,0,0,0,25.352112676056343,57,44,50.5,0,1,1.0,0.0,0.0,0.0,0.0,0.0\\r\\n3,2,1,0,66.19718309859155,78,75,76.5,0,1,0.0,0.0,0.0,0.0,1.0,0.0\\r\\n4,1,1,0,59.15492957746479,83,78,80.5,1,0,1.0,0.0,0.0,0.0,0.0,0.0\\r\\n5,1,1,1,83.09859154929578,95,92,93.5,1,0,0.0,0.0,0.0,0.0,1.0,0.0\\r\\n6,1,0,0,15.492957746478872,43,39,41.0,0,1,0.0,0.0,0.0,0.0,1.0,0.0\\r\\n7,3,0,1,49.29577464788732,64,67,65.5,0,1,0.0,0.0,1.0,0.0,0.0,0.0\\r\\n8,1,0,0,12.676056338028168,60,50,55.0,1,0,0.0,0.0,1.0,0.0,0.0,0.0\\r\\n9,2,1,0,40.84507042253521,54,52,53.0,0,1,1.0,0.0,0.0,0.0,0.0,0.0\\r\\n10,3,1,0,15.492957746478872,52,43,47.5,0,1,1.0,0.0,0.0,0.0,0.0,0.0\\r\\n11,1,1,0,50.704225352112665,81,73,77.0,1,0,0.0,0.0,1.0,0.0,0.0,0.0\\r\\n12,0,1,1,69.01408450704224,72,70,71.0,0,1,0.0,0.0,0.0,0.0,1.0,0.0\\r\\n13,0,1,0,29.577464788732392,53,58,55.5,1,0,0.0,0.0,0.0,1.0,0.0,0.0\\r\\n14,2,1,0,56.33802816901407,75,78,76.5,1,0,0.0,0.0,0.0,0.0,0.0,1.0\\r\\n15,2,1,0,83.09859154929578,89,86,87.5,0,1,0.0,0.0,1.0,0.0,0.0,0.0\\r\\n16,2,0,1,23.943661971830984,42,46,44.0,0,1,0.0,0.0,0.0,1.0,0.0,0.0\\r\\n17,2,0,0,35.2112676056338,58,61,59.5,1,0,1.0,0.0,0.0,0.0,0.0,0.0\\r\\n18,3,1,0,52.112676056338024,69,63,66.0,0,1,0.0,0.0,1.0,0.0,0.0,0.0\\r\\n19,1,0,1,50.704225352112665,75,70,72.5,1,0,0.0,0.0,0.0,0.0,1.0,0.0\\r\\n20,3,1,0,21.12676056338028,54,53,53.5,0,1,0.0,0.0,0.0,0.0,1.0,0.0\\r\\n21,2,1,0,56.33802816901407,73,73,73.0,1,0,0.0,0.0,0.0,0.0,0.0,1.0\\r\\n22,3,0,1,63.38028169014084,71,80,75.5,0,1,0.0,1.0,0.0,0.0,0.0,0.0\\r\\n23,0,0,0,61.97183098591548,74,72,73.0,0,1,0.0,0.0,0.0,1.0,0.0,0.0\\r\\n24,1,1,0,56.33802816901407,54,55,54.5,0,1,0.0,0.0,0.0,0.0,1.0,0.0\\r\\n25,2,1,0,53.521126760563384,69,75,72.0,1,0,0.0,1.0,0.0,0.0,0.0,0.0\\r\\n26,2,1,0,57.74647887323943,70,65,67.5,0,1,0.0,0.0,1.0,0.0,0.0,0.0\\r\\n27,3,1,0,46.478873239436616,70,75,72.5,1,0,0.0,0.0,0.0,1.0,0.0,0.0\\r\\n28,3,1,0,56.33802816901407,74,74,74.0,1,0,0.0,0.0,0.0,0.0,1.0,0.0\\r\\n29,1,1,0,47.887323943661976,65,61,63.0,1,0,0.0,0.0,0.0,0.0,1.0,0.0\\r\\n30,4,0,0,38.028169014084504,72,65,68.5,1,0,0.0,0.0,0.0,1.0,0.0,0.0\\r\\n31,3,1,0,15.492957746478872,42,38,40.0,0,1,0.0,0.0,0.0,0.0,1.0,0.0\\r\\n32,4,1,0,95.77464788732394,87,82,84.5,0,1,0.0,0.0,0.0,0.0,1.0,0.0\\r\\n33,4,1,1,73.2394366197183,81,79,80.0,0,1,1.0,0.0,0.0,0.0,0.0,0.0\\r\\n34,3,1,0,63.38028169014084,81,83,82.0,1,0,1.0,0.0,0.0,0.0,0.0,0.0\\r\\n35,3,0,0,29.577464788732392,64,59,61.5,1,0,0.0,0.0,0.0,0.0,0.0,1.0\\r\\n36,3,0,1,64.7887323943662,90,88,89.0,1,0,1.0,0.0,0.0,0.0,0.0,0.0\\r\\n37,1,0,0,39.43661971830985,56,57,56.5,0,1,1.0,0.0,0.0,0.0,0.0,0.0\\r\\n38,2,0,0,36.61971830985916,61,54,57.5,0,1,1.0,0.0,0.0,0.0,0.0,0.0\\r\\n39,2,1,0,40.84507042253521,73,68,70.5,1,0,1.0,0.0,0.0,0.0,0.0,0.0\\r\\n40,1,1,0,33.80281690140844,58,65,61.5,1,0,1.0,0.0,0.0,0.0,0.0,0.0\\r\\n41,1,0,1,42.25352112676057,65,66,65.5,0,1,0.0,0.0,0.0,0.0,1.0,0.0\\r\\n42,4,0,0,29.577464788732392,56,54,55.0,1,0,1.0,0.0,0.0,0.0,0.0,0.0\\r\\n43,1,1,0,50.704225352112665,54,57,55.5,0,1,1.0,0.0,0.0,0.0,0.0,0.0\\r\\n44,0,1,1,36.61971830985916,65,62,63.5,1,0,1.0,0.0,0.0,0.0,0.0,0.0\\r\\n45,2,1,0,52.112676056338024,71,76,73.5,1,0,0.0,0.0,1.0,0.0,0.0,0.0\\r\\n46,3,0,1,39.43661971830985,74,76,75.0,1,0,1.0,0.0,0.0,0.0,0.0,0.0\\r\\n47,2,1,1,74.64788732394365,84,82,83.0,0,1,0.0,0.0,1.0,0.0,0.0,0.0\\r\\n48,4,0,1,67.6056338028169,69,68,68.5,0,1,1.0,0.0,0.0,0.0,0.0,0.0\\r\\n49,2,1,0,33.80281690140844,44,42,43.0,0,1,0.0,0.0,0.0,0.0,1.0,0.0\\r\\n50,3,1,0,83.09859154929578,78,75,76.5,0,1,0.0,0.0,1.0,0.0,0.0,0.0\\r\\n51,2,0,1,59.15492957746479,84,87,85.5,1,0,0.0,0.0,0.0,0.0,0.0,1.0\\r\\n52,2,0,0,5.633802816901408,41,43,42.0,1,0,0.0,0.0,1.0,0.0,0.0,0.0\\r\\n53,4,1,1,74.64788732394365,85,86,85.5,1,0,1.0,0.0,0.0,0.0,0.0,0.0\\r\\n54,3,1,0,32.394366197183096,55,49,52.0,0,1,1.0,0.0,0.0,0.0,0.0,0.0\\r\\n55,3,1,1,40.84507042253521,59,58,58.5,0,1,0.0,0.0,0.0,0.0,1.0,0.0\\r\\n56,4,0,1,70.42253521126761,74,72,73.0,0,1,0.0,1.0,0.0,0.0,0.0,0.0\\r\\n57,0,0,0,14.08450704225352,39,34,36.5,0,1,0.0,0.0,0.0,0.0,0.0,1.0\\r\\n58,0,0,0,46.478873239436616,61,55,58.0,0,1,1.0,0.0,0.0,0.0,0.0,0.0\\r\\n59,2,1,0,56.33802816901407,80,71,75.5,1,0,1.0,0.0,0.0,0.0,0.0,0.0\\r\\n60,3,1,0,42.25352112676057,58,59,58.5,1,0,0.0,0.0,0.0,0.0,0.0,1.0\\r\\n61,1,1,0,53.521126760563384,64,61,62.5,0,1,0.0,0.0,0.0,0.0,0.0,1.0\\r\\n62,3,0,0,22.535211267605632,37,37,37.0,0,1,0.0,0.0,0.0,0.0,0.0,1.0\\r\\n63,2,1,0,43.66197183098591,72,74,73.0,1,0,0.0,0.0,0.0,0.0,1.0,0.0\\r\\n64,1,0,0,45.07042253521126,58,56,57.0,0,1,1.0,0.0,0.0,0.0,0.0,0.0\\r\\n65,2,1,0,14.08450704225352,64,57,60.5,1,0,1.0,0.0,0.0,0.0,0.0,0.0\\r\\n66,3,0,1,40.84507042253521,63,73,68.0,1,0,0.0,0.0,0.0,0.0,1.0,0.0\\r\\n67,3,1,1,47.887323943661976,55,63,59.0,0,1,0.0,0.0,0.0,0.0,1.0,0.0\\r\\n68,0,0,0,16.901408450704224,51,48,49.5,1,0,1.0,0.0,0.0,0.0,0.0,0.0\\r\\n69,2,0,0,45.07042253521126,57,56,56.5,0,1,0.0,0.0,0.0,0.0,0.0,1.0\\r\\n70,2,1,0,28.169014084507033,49,41,45.0,0,1,0.0,0.0,0.0,0.0,0.0,1.0\\r\\n71,1,0,0,21.12676056338028,41,38,39.5,0,1,1.0,0.0,0.0,0.0,0.0,0.0\\r\\n72,0,1,1,71.83098591549296,78,81,79.5,0,1,0.0,1.0,0.0,0.0,0.0,0.0\\r\\n73,3,1,1,45.07042253521126,74,72,73.0,1,0,0.0,0.0,0.0,0.0,0.0,1.0\\r\\n74,4,1,0,46.478873239436616,68,68,68.0,1,0,0.0,0.0,0.0,1.0,0.0,0.0\\r\\n75,1,1,0,25.352112676056343,49,50,49.5,1,0,1.0,0.0,0.0,0.0,0.0,0.0\\r\\n76,1,0,0,28.169014084507033,45,45,45.0,0,1,0.0,0.0,1.0,0.0,0.0,0.0\\r\\n77,0,0,1,29.577464788732392,47,54,50.5,0,1,0.0,0.0,0.0,0.0,1.0,0.0\\r\\n78,4,1,0,60.56338028169014,64,63,63.5,0,1,1.0,0.0,0.0,0.0,0.0,0.0\\r\\n79,3,0,0,18.309859154929576,39,34,36.5,0,1,0.0,0.0,1.0,0.0,0.0,0.0\\r\\n80,2,1,0,61.97183098591548,80,82,81.0,1,0,0.0,0.0,0.0,0.0,1.0,0.0\\r\\n81,2,0,0,66.19718309859155,83,88,85.5,1,0,0.0,0.0,0.0,0.0,1.0,0.0\\r\\n82,3,1,0,59.15492957746479,71,74,72.5,1,0,1.0,0.0,0.0,0.0,0.0,0.0\\r\\n83,0,1,0,40.84507042253521,70,67,68.5,1,0,0.0,0.0,0.0,0.0,1.0,0.0\\r\\n84,3,1,0,61.97183098591548,86,82,84.0,1,0,0.0,0.0,0.0,0.0,0.0,1.0\\r\\n85,2,1,0,50.704225352112665,72,74,73.0,1,0,0.0,1.0,0.0,0.0,0.0,0.0\\r\\n86,2,1,0,59.15492957746479,79,71,75.0,0,1,0.0,0.0,1.0,0.0,0.0,0.0\\r\\n87,2,0,1,19.718309859154928,45,50,47.5,0,1,1.0,0.0,0.0,0.0,0.0,0.0\\r\\n88,1,1,0,70.42253521126761,86,92,89.0,1,0,0.0,0.0,0.0,0.0,1.0,0.0\\r\\n89,2,0,1,69.01408450704224,81,82,81.5,0,1,1.0,0.0,0.0,0.0,0.0,0.0\\r\\n90,1,1,1,50.704225352112665,66,62,64.0,0,1,0.0,0.0,0.0,0.0,0.0,1.0\\r\\n91,4,1,1,47.887323943661976,72,70,71.0,1,0,0.0,0.0,0.0,0.0,1.0,0.0\\r\\n92,3,0,0,40.84507042253521,67,62,64.5,1,0,0.0,0.0,0.0,0.0,1.0,0.0\\r\\n93,3,1,0,50.704225352112665,67,62,64.5,1,0,0.0,1.0,0.0,0.0,0.0,0.0\\r\\n94,1,1,0,70.42253521126761,67,67,67.0,0,1,0.0,0.0,0.0,0.0,1.0,0.0\\r\\n95,3,1,1,54.92957746478873,74,74,74.0,0,1,0.0,1.0,0.0,0.0,0.0,0.0\\r\\n96,3,1,0,78.87323943661971,91,89,90.0,1,0,1.0,0.0,0.0,0.0,0.0,0.0\\r\\n97,1,1,1,43.66197183098591,44,47,45.5,0,1,0.0,0.0,1.0,0.0,0.0,0.0\\r\\n98,2,1,0,40.84507042253521,67,72,69.5,1,0,0.0,0.0,0.0,0.0,1.0,0.0\\r\\n99,3,1,0,81.69014084507043,100,100,100.0,1,0,0.0,0.0,0.0,1.0,0.0,0.0\\r\\n100,4,1,1,52.112676056338024,63,64,63.5,0,1,1.0,0.0,0.0,0.0,0.0,0.0\\r\\n101,1,0,0,32.394366197183096,76,70,73.0,1,0,1.0,0.0,0.0,0.0,0.0,0.0\\r\\n102,1,1,0,57.74647887323943,64,72,68.0,1,0,0.0,0.0,0.0,0.0,0.0,1.0\\r\\n103,3,0,1,67.6056338028169,89,98,93.5,1,0,1.0,0.0,0.0,0.0,0.0,0.0\\r\\n104,2,1,0,46.478873239436616,55,49,52.0,0,1,0.0,0.0,1.0,0.0,0.0,0.0\\r\\n105,0,1,0,35.2112676056338,53,47,50.0,0,1,1.0,0.0,0.0,0.0,0.0,0.0\\r\\n106,3,1,0,30.98591549295775,58,54,56.0,1,0,0.0,0.0,0.0,0.0,1.0,0.0\\r\\n107,4,1,1,98.59154929577466,100,100,100.0,1,0,0.0,1.0,0.0,0.0,0.0,0.0\\r\\n108,2,1,0,77.46478873239437,77,74,75.5,0,1,0.0,0.0,1.0,0.0,0.0,0.0\\r\\n109,1,0,0,64.7887323943662,85,82,83.5,1,0,0.0,1.0,0.0,0.0,0.0,0.0\\r\\n110,3,1,0,69.01408450704224,82,79,80.5,1,0,0.0,1.0,0.0,0.0,0.0,0.0\\r\\n111,3,1,0,30.98591549295775,63,61,62.0,1,0,0.0,0.0,0.0,0.0,0.0,1.0\\r\\n112,2,1,0,36.61971830985916,69,65,67.0,1,0,0.0,0.0,0.0,0.0,1.0,0.0\\r\\n113,2,1,1,70.42253521126761,92,89,90.5,1,0,0.0,1.0,0.0,0.0,0.0,0.0\\r\\n114,1,1,1,87.32394366197184,89,92,90.5,0,1,1.0,0.0,0.0,0.0,0.0,0.0\\r\\n115,2,1,1,83.09859154929578,93,93,93.0,1,0,0.0,0.0,0.0,0.0,1.0,0.0\\r\\n116,3,0,0,47.887323943661976,57,56,56.5,0,1,0.0,0.0,1.0,0.0,0.0,0.0\\r\\n117,4,1,0,76.05633802816902,80,73,76.5,0,1,0.0,0.0,0.0,0.0,1.0,0.0\\r\\n118,1,1,0,81.69014084507043,95,86,90.5,1,0,0.0,0.0,1.0,0.0,0.0,0.0\\r\\n119,1,1,0,60.56338028169014,68,67,67.5,0,1,0.0,0.0,0.0,0.0,0.0,1.0\\r\\n120,3,1,1,50.704225352112665,77,74,75.5,0,1,0.0,0.0,0.0,0.0,1.0,0.0\\r\\n121,3,1,0,74.64788732394365,82,74,78.0,0,1,0.0,0.0,0.0,1.0,0.0,0.0\\r\\n122,0,1,0,30.98591549295775,49,51,50.0,1,0,0.0,1.0,0.0,0.0,0.0,0.0\\r\\n123,3,1,0,84.50704225352112,84,82,83.0,0,1,0.0,0.0,0.0,1.0,0.0,0.0\\r\\n124,2,0,1,33.80281690140844,37,40,38.5,0,1,0.0,0.0,0.0,0.0,0.0,1.0\\r\\n125,4,0,1,81.69014084507043,74,70,72.0,0,1,0.0,0.0,0.0,0.0,1.0,0.0\\r\\n126,2,1,1,64.7887323943662,81,84,82.5,1,0,0.0,0.0,0.0,0.0,1.0,0.0\\r\\n127,3,0,1,63.38028169014084,79,75,77.0,0,1,0.0,1.0,0.0,0.0,0.0,0.0\\r\\n128,2,1,0,40.84507042253521,55,48,51.5,0,1,0.0,1.0,0.0,0.0,0.0,0.0\\r\\n129,1,1,1,30.98591549295775,54,41,47.5,0,1,0.0,0.0,0.0,0.0,0.0,1.0\\r\\n130,4,1,0,57.74647887323943,55,56,55.5,0,1,0.0,0.0,1.0,0.0,0.0,0.0\\r\\n131,2,1,0,42.25352112676057,66,67,66.5,1,0,1.0,0.0,0.0,0.0,0.0,0.0\\r\\n132,3,1,1,59.15492957746479,61,69,65.0,0,1,0.0,0.0,0.0,0.0,1.0,0.0\\r\\n133,3,1,0,66.19718309859155,72,71,71.5,1,0,0.0,0.0,0.0,0.0,0.0,1.0\\r\\n134,2,0,0,42.25352112676057,62,64,63.0,1,0,0.0,0.0,0.0,0.0,1.0,0.0\\r\\n135,4,0,1,18.309859154929576,55,54,54.5,1,0,0.0,0.0,0.0,0.0,1.0,0.0\\r\\n136,0,1,0,39.43661971830985,43,47,45.0,0,1,0.0,0.0,1.0,0.0,0.0,0.0\\r\\n137,3,1,0,83.09859154929578,73,78,75.5,0,1,0.0,0.0,0.0,0.0,1.0,0.0\\r\\n138,1,1,0,83.09859154929578,84,75,79.5,0,1,0.0,0.0,0.0,0.0,0.0,1.0\\r\\n139,2,0,0,61.97183098591548,68,66,67.0,0,1,1.0,0.0,0.0,0.0,0.0,0.0\\r\\n140,3,1,1,54.92957746478873,75,81,78.0,1,0,0.0,1.0,0.0,0.0,0.0,0.0\\r\\n141,4,0,1,100.0,100,93,96.5,0,1,1.0,0.0,0.0,0.0,0.0,0.0\\r\\n142,0,1,1,46.478873239436616,67,69,68.0,0,1,0.0,0.0,0.0,0.0,0.0,1.0\\r\\n143,0,1,0,67.6056338028169,67,68,67.5,0,1,0.0,1.0,0.0,0.0,0.0,0.0\\r\\n144,1,1,1,42.25352112676057,70,66,68.0,1,0,1.0,0.0,0.0,0.0,0.0,0.0\\r\\n145,3,1,0,35.2112676056338,49,47,48.0,0,1,0.0,1.0,0.0,0.0,0.0,0.0\\r\\n146,3,1,0,46.478873239436616,67,61,64.0,0,1,0.0,0.0,0.0,0.0,0.0,1.0\\r\\n147,2,1,1,57.74647887323943,89,88,88.5,1,0,0.0,0.0,0.0,0.0,1.0,0.0\\r\\n148,4,0,1,52.112676056338024,74,78,76.0,1,0,0.0,0.0,1.0,0.0,0.0,0.0\\r\\n149,1,0,0,43.66197183098591,60,60,60.0,0,1,0.0,0.0,0.0,0.0,1.0,0.0\\r\\n150,1,1,1,45.07042253521126,86,87,86.5,1,0,1.0,0.0,0.0,0.0,0.0,0.0\\r\\n151,3,0,0,52.112676056338024,62,64,63.0,0,1,1.0,0.0,0.0,0.0,0.0,0.0\\r\\n152,1,0,1,74.64788732394365,78,74,76.0,0,1,1.0,0.0,0.0,0.0,0.0,0.0\\r\\n153,4,0,1,64.7887323943662,88,85,86.5,1,0,0.0,0.0,0.0,0.0,1.0,0.0\\r\\n154,1,0,0,28.169014084507033,53,52,52.5,0,1,0.0,0.0,0.0,1.0,0.0,0.0\\r\\n155,2,1,0,32.394366197183096,53,49,51.0,0,1,0.0,0.0,1.0,0.0,0.0,0.0\\r\\n156,2,1,1,94.36619718309859,100,100,100.0,1,0,0.0,1.0,0.0,0.0,0.0,0.0\\r\\n157,2,0,1,33.80281690140844,51,51,51.0,0,1,0.0,0.0,1.0,0.0,0.0,0.0\\r\\n158,1,0,1,40.84507042253521,76,78,77.0,1,0,0.0,0.0,0.0,1.0,0.0,0.0\\r\\n159,1,1,1,54.92957746478873,83,78,80.5,1,0,0.0,0.0,1.0,0.0,0.0,0.0\\r\\n160,2,0,1,53.521126760563384,75,70,72.5,1,0,0.0,0.0,0.0,0.0,1.0,0.0\\r\\n161,0,1,1,60.56338028169014,73,74,73.5,0,1,0.0,0.0,1.0,0.0,0.0,0.0\\r\\n162,4,1,0,91.5492957746479,88,78,83.0,0,1,0.0,0.0,0.0,0.0,0.0,1.0\\r\\n163,3,1,0,70.42253521126761,86,81,83.5,1,0,0.0,0.0,0.0,0.0,1.0,0.0\\r\\n164,2,1,0,47.887323943661976,67,70,68.5,1,0,1.0,0.0,0.0,0.0,0.0,0.0\\r\\n165,2,0,1,19.718309859154928,51,54,52.5,1,0,0.0,1.0,0.0,0.0,0.0,0.0\\r\\n166,2,1,1,73.2394366197183,91,87,89.0,1,0,0.0,0.0,0.0,1.0,0.0,0.0\\r\\n167,1,0,1,23.943661971830984,54,58,56.0,1,0,0.0,0.0,1.0,0.0,0.0,0.0\\r\\n168,2,1,1,59.15492957746479,77,77,77.0,1,0,1.0,0.0,0.0,0.0,0.0,0.0\\r\\n169,1,0,1,32.394366197183096,70,62,66.0,1,0,0.0,0.0,0.0,1.0,0.0,0.0\\r\\n170,3,1,1,95.77464788732394,100,100,100.0,1,0,0.0,0.0,0.0,0.0,0.0,1.0\\r\\n171,2,0,1,46.478873239436616,68,75,71.5,0,1,0.0,0.0,0.0,1.0,0.0,0.0\\r\\n172,2,0,0,23.943661971830984,64,66,65.0,1,0,0.0,0.0,0.0,0.0,1.0,0.0\\r\\n173,4,1,0,29.577464788732392,50,47,48.5,1,0,0.0,0.0,1.0,0.0,0.0,0.0\\r\\n174,3,1,0,50.704225352112665,69,70,69.5,1,0,1.0,0.0,0.0,0.0,0.0,0.0\\r\\n175,2,0,1,22.535211267605632,52,49,50.5,0,1,0.0,0.0,0.0,0.0,0.0,1.0\\r\\n176,2,0,1,50.704225352112665,67,65,66.0,0,1,1.0,0.0,0.0,0.0,0.0,0.0\\r\\n177,4,1,0,71.83098591549296,76,65,70.5,0,1,0.0,0.0,1.0,0.0,0.0,0.0\\r\\n178,3,1,1,46.478873239436616,66,68,67.0,0,1,0.0,0.0,0.0,0.0,0.0,1.0\\r\\n179,1,0,0,26.76056338028169,52,45,48.5,0,1,0.0,0.0,0.0,0.0,0.0,1.0\\r\\n180,2,1,0,67.6056338028169,88,87,87.5,1,0,0.0,1.0,0.0,0.0,0.0,0.0\\r\\n181,4,1,0,52.112676056338024,65,69,67.0,1,0,1.0,0.0,0.0,0.0,0.0,0.0\\r\\n182,3,1,1,66.19718309859155,83,79,81.0,0,1,0.0,0.0,0.0,0.0,1.0,0.0\\r\\n183,3,1,1,67.6056338028169,62,62,62.0,0,1,0.0,0.0,0.0,0.0,1.0,0.0\\r\\n184,2,1,1,56.33802816901407,84,85,84.5,1,0,0.0,0.0,0.0,1.0,0.0,0.0\\r\\n185,3,1,0,45.07042253521126,55,52,53.5,0,1,1.0,0.0,0.0,0.0,0.0,0.0\\r\\n186,2,0,1,42.25352112676057,69,65,67.0,0,1,0.0,0.0,0.0,0.0,0.0,1.0\\r\\n187,4,0,0,36.61971830985916,56,51,53.5,0,1,0.0,0.0,1.0,0.0,0.0,0.0\\r\\n188,1,0,0,22.535211267605632,53,55,54.0,1,0,0.0,0.0,0.0,0.0,1.0,0.0\\r\\n189,1,0,0,69.01408450704224,79,76,77.5,1,0,0.0,1.0,0.0,0.0,0.0,0.0\\r\\n190,2,1,1,53.521126760563384,84,86,85.0,1,0,1.0,0.0,0.0,0.0,0.0,0.0\\r\\n191,3,0,0,50.704225352112665,81,77,79.0,1,0,0.0,0.0,0.0,0.0,1.0,0.0\\r\\n192,2,1,0,56.33802816901407,77,69,73.0,0,1,1.0,0.0,0.0,0.0,0.0,0.0\\r\\n193,1,1,0,39.43661971830985,69,68,68.5,1,0,1.0,0.0,0.0,0.0,0.0,0.0\\r\\n194,2,1,0,42.25352112676057,41,42,41.5,0,1,0.0,0.0,0.0,0.0,1.0,0.0\\r\\n195,3,1,1,63.38028169014084,71,78,74.5,0,1,0.0,0.0,0.0,0.0,0.0,1.0\\r\\n196,4,1,0,74.64788732394365,62,62,62.0,0,1,0.0,1.0,0.0,0.0,0.0,0.0\\r\\n197,4,1,1,73.2394366197183,80,76,78.0,0,1,0.0,0.0,1.0,0.0,0.0,0.0\\r\\n198,1,0,0,63.38028169014084,81,76,78.5,1,0,0.0,0.0,0.0,0.0,1.0,0.0\\r\\n199,1,0,0,40.84507042253521,61,66,63.5,1,0,0.0,0.0,0.0,0.0,1.0,0.0\\r\\n200,3,0,1,71.83098591549296,79,79,79.0,0,1,0.0,0.0,0.0,0.0,0.0,1.0\\r\\n201,2,0,0,18.309859154929576,62,60,61.0,1,0,0.0,0.0,1.0,0.0,0.0,0.0\\r\\n202,2,0,1,43.66197183098591,51,56,53.5,0,1,1.0,0.0,0.0,0.0,0.0,0.0\\r\\n203,4,1,1,81.69014084507043,91,81,86.0,0,1,0.0,0.0,1.0,0.0,0.0,0.0\\r\\n204,1,1,1,77.46478873239437,83,75,79.0,0,1,0.0,0.0,0.0,0.0,0.0,1.0\\r\\n205,4,0,1,76.05633802816902,86,88,87.0,1,0,1.0,0.0,0.0,0.0,0.0,0.0\\r\\n206,2,0,0,7.04225352112676,42,39,40.5,1,0,0.0,0.0,1.0,0.0,0.0,0.0\\r\\n207,1,0,0,52.112676056338024,77,70,73.5,0,1,0.0,0.0,1.0,0.0,0.0,0.0\\r\\n208,1,1,1,45.07042253521126,56,56,56.0,0,1,0.0,0.0,0.0,0.0,0.0,1.0\\r\\n209,3,1,1,38.028169014084504,68,74,71.0,1,0,0.0,0.0,1.0,0.0,0.0,0.0\\r\\n210,1,1,0,81.69014084507043,85,73,79.0,0,1,1.0,0.0,0.0,0.0,0.0,0.0\\r\\n211,2,0,0,36.61971830985916,65,62,63.5,1,0,0.0,0.0,0.0,0.0,0.0,1.0\\r\\n212,3,1,0,80.28169014084506,80,75,77.5,0,1,0.0,0.0,0.0,0.0,0.0,1.0\\r\\n213,1,1,1,32.394366197183096,66,73,69.5,1,0,1.0,0.0,0.0,0.0,0.0,0.0\\r\\n214,4,0,0,22.535211267605632,56,54,55.0,1,0,0.0,0.0,0.0,1.0,0.0,0.0\\r\\n215,2,1,0,60.56338028169014,72,71,71.5,1,0,0.0,0.0,0.0,0.0,1.0,0.0\\r\\n216,3,1,0,39.43661971830985,50,54,52.0,0,1,0.0,0.0,1.0,0.0,0.0,0.0\\r\\n217,0,0,0,54.92957746478873,72,64,68.0,0,1,0.0,0.0,0.0,0.0,0.0,1.0\\r\\n218,2,1,1,83.09859154929578,95,94,94.5,1,0,0.0,0.0,0.0,0.0,1.0,0.0\\r\\n219,3,1,0,66.19718309859155,64,66,65.0,0,1,0.0,0.0,0.0,0.0,1.0,0.0\\r\\n220,2,1,0,23.943661971830984,43,42,42.5,0,1,1.0,0.0,0.0,0.0,0.0,0.0\\r\\n221,1,1,0,53.521126760563384,86,83,84.5,1,0,0.0,1.0,0.0,0.0,0.0,0.0\\r\\n222,4,1,0,88.73239436619718,87,78,82.5,0,1,0.0,0.0,0.0,0.0,0.0,1.0\\r\\n223,2,1,1,76.05633802816902,82,84,83.0,0,1,0.0,1.0,0.0,0.0,0.0,0.0\\r\\n224,3,1,0,71.83098591549296,75,77,76.0,0,1,1.0,0.0,0.0,0.0,0.0,0.0\\r\\n225,3,0,0,47.887323943661976,66,67,66.5,0,1,0.0,1.0,0.0,0.0,0.0,0.0\\r\\n226,3,1,1,49.29577464788732,60,74,67.0,1,0,0.0,0.0,0.0,0.0,0.0,1.0\\r\\n227,1,1,0,35.2112676056338,52,51,51.5,0,1,0.0,0.0,0.0,0.0,1.0,0.0\\r\\n228,2,1,0,77.46478873239437,80,80,80.0,0,1,1.0,0.0,0.0,0.0,0.0,0.0\\r\\n229,3,0,1,61.97183098591548,68,66,67.0,0,1,0.0,0.0,1.0,0.0,0.0,0.0\\r\\n230,4,1,0,71.83098591549296,83,83,83.0,1,0,0.0,1.0,0.0,0.0,0.0,0.0\\r\\n231,3,1,0,38.028169014084504,52,55,53.5,1,0,0.0,0.0,1.0,0.0,0.0,0.0\\r\\n232,4,1,0,42.25352112676057,51,43,47.0,0,1,0.0,0.0,0.0,0.0,1.0,0.0\\r\\n233,3,1,0,64.7887323943662,74,69,71.5,0,1,0.0,0.0,0.0,0.0,0.0,1.0\\r\\n234,2,1,0,78.87323943661971,76,71,73.5,0,1,1.0,0.0,0.0,0.0,0.0,0.0\\r\\n235,4,1,0,84.50704225352112,76,74,75.0,0,1,1.0,0.0,0.0,0.0,0.0,0.0\\r\\n236,1,1,1,40.84507042253521,70,68,69.0,1,0,0.0,0.0,1.0,0.0,0.0,0.0\\r\\n237,1,1,0,50.704225352112665,64,62,63.0,1,0,0.0,0.0,1.0,0.0,0.0,0.0\\r\\n238,2,1,0,54.92957746478873,60,53,56.5,0,1,0.0,0.0,1.0,0.0,0.0,0.0\\r\\n239,0,1,1,25.352112676056343,49,49,49.0,0,1,0.0,0.0,0.0,0.0,0.0,1.0\\r\\n240,3,0,0,59.15492957746479,83,83,83.0,1,0,0.0,0.0,0.0,0.0,1.0,0.0\\r\\n241,1,1,1,43.66197183098591,70,70,70.0,1,0,0.0,0.0,0.0,0.0,0.0,1.0\\r\\n242,3,1,0,71.83098591549296,80,72,76.0,0,1,0.0,0.0,0.0,1.0,0.0,0.0\\r\\n243,3,1,0,35.2112676056338,52,52,52.0,0,1,0.0,0.0,1.0,0.0,0.0,0.0\\r\\n244,4,1,0,46.478873239436616,73,70,71.5,1,0,0.0,0.0,0.0,0.0,1.0,0.0\\r\\n245,2,0,0,49.29577464788732,73,68,70.5,1,0,1.0,0.0,0.0,0.0,0.0,0.0\\r\\n246,2,1,1,69.01408450704224,77,77,77.0,0,1,1.0,0.0,0.0,0.0,0.0,0.0\\r\\n247,1,1,0,57.74647887323943,75,78,76.5,1,0,0.0,0.0,0.0,0.0,1.0,0.0\\r\\n248,2,0,1,50.704225352112665,81,81,81.0,1,0,0.0,0.0,0.0,1.0,0.0,0.0\\r\\n249,2,0,1,49.29577464788732,79,77,78.0,1,0,0.0,0.0,0.0,0.0,0.0,1.0\\r\\n250,2,1,1,70.42253521126761,79,78,78.5,0,1,0.0,0.0,0.0,0.0,1.0,0.0\\r\\n251,2,0,0,21.12676056338028,50,51,50.5,1,0,0.0,0.0,0.0,0.0,0.0,1.0\\r\\n252,4,1,0,98.59154929577466,93,90,91.5,1,0,0.0,0.0,1.0,0.0,0.0,0.0\\r\\n253,3,1,0,66.19718309859155,73,68,70.5,0,1,0.0,0.0,1.0,0.0,0.0,0.0\\r\\n254,3,0,0,42.25352112676057,42,41,41.5,0,1,0.0,0.0,0.0,0.0,0.0,1.0\\r\\n255,2,1,0,47.887323943661976,75,81,78.0,1,0,0.0,1.0,0.0,0.0,0.0,0.0\\r\\n256,3,1,0,56.33802816901407,72,77,74.5,1,0,0.0,0.0,1.0,0.0,0.0,0.0\\r\\n257,4,0,0,59.15492957746479,76,70,73.0,1,0,0.0,0.0,0.0,0.0,1.0,0.0\\r\\n258,2,1,0,56.33802816901407,63,61,62.0,0,1,0.0,1.0,0.0,0.0,0.0,0.0\\r\\n259,2,1,0,40.84507042253521,49,42,45.5,0,1,0.0,0.0,0.0,0.0,1.0,0.0\\r\\n260,3,0,0,25.352112676056343,53,58,55.5,1,0,1.0,0.0,0.0,0.0,0.0,0.0\\r\\n261,3,1,0,50.704225352112665,70,71,70.5,1,0,0.0,0.0,0.0,0.0,1.0,0.0\\r\\n262,1,1,1,83.09859154929578,85,76,80.5,0,1,0.0,0.0,0.0,0.0,1.0,0.0\\r\\n263,2,1,0,76.05633802816902,78,73,75.5,0,1,0.0,1.0,0.0,0.0,0.0,0.0\\r\\n264,2,1,1,78.87323943661971,92,93,92.5,1,0,0.0,0.0,0.0,0.0,0.0,1.0\\r\\n265,4,1,1,42.25352112676057,63,75,69.0,1,0,0.0,0.0,1.0,0.0,0.0,0.0\\r\\n266,2,0,0,50.704225352112665,86,80,83.0,1,0,0.0,0.0,0.0,0.0,0.0,1.0\\r\\n267,1,0,0,61.97183098591548,56,57,56.5,0,1,0.0,1.0,0.0,0.0,0.0,0.0\\r\\n268,3,1,0,33.80281690140844,52,42,47.0,0,1,0.0,0.0,1.0,0.0,0.0,0.0\\r\\n269,3,1,0,22.535211267605632,48,46,47.0,0,1,0.0,0.0,1.0,0.0,0.0,0.0\\r\\n270,3,0,0,61.97183098591548,79,84,81.5,1,0,0.0,1.0,0.0,0.0,0.0,0.0\\r\\n271,3,0,1,57.74647887323943,78,78,78.0,1,0,0.0,0.0,0.0,0.0,1.0,0.0\\r\\n272,1,1,0,11.267605633802816,46,46,46.0,1,0,0.0,0.0,0.0,0.0,0.0,1.0\\r\\n273,1,1,1,73.2394366197183,82,82,82.0,0,1,1.0,0.0,0.0,0.0,0.0,0.0\\r\\n274,4,1,1,95.77464788732394,82,88,85.0,0,1,1.0,0.0,0.0,0.0,0.0,0.0\\r\\n275,1,1,0,53.521126760563384,89,82,85.5,1,0,0.0,0.0,0.0,0.0,0.0,1.0\\r\\n276,1,0,0,83.09859154929578,75,76,75.5,0,1,0.0,1.0,0.0,0.0,0.0,0.0\\r\\n277,4,1,1,67.6056338028169,76,77,76.5,0,1,0.0,0.0,0.0,0.0,0.0,1.0\\r\\n278,2,1,0,66.19718309859155,70,68,69.0,0,1,1.0,0.0,0.0,0.0,0.0,0.0\\r\\n279,3,1,0,80.28169014084506,73,70,71.5,0,1,0.0,0.0,0.0,0.0,0.0,1.0\\r\\n280,2,1,1,47.887323943661976,60,57,58.5,0,1,0.0,0.0,0.0,0.0,0.0,1.0\\r\\n281,4,1,0,50.704225352112665,73,75,74.0,1,0,0.0,1.0,0.0,0.0,0.0,0.0\\r\\n282,3,0,1,69.01408450704224,77,80,78.5,0,1,0.0,0.0,1.0,0.0,0.0,0.0\\r\\n283,1,0,0,53.521126760563384,62,60,61.0,0,1,1.0,0.0,0.0,0.0,0.0,0.0\\r\\n284,4,1,1,59.15492957746479,74,68,71.0,0,1,1.0,0.0,0.0,0.0,0.0,0.0\\r\\n285,2,0,1,15.492957746478872,46,50,48.0,0,1,0.0,0.0,1.0,0.0,0.0,0.0\\r\\n286,3,0,0,85.91549295774647,87,75,81.0,0,1,1.0,0.0,0.0,0.0,0.0,0.0\\r\\n287,0,0,1,73.2394366197183,78,81,79.5,0,1,0.0,0.0,0.0,0.0,1.0,0.0\\r\\n288,3,0,0,38.028169014084504,54,52,53.0,0,1,0.0,0.0,0.0,0.0,0.0,1.0\\r\\n289,2,1,1,53.521126760563384,84,81,82.5,1,0,1.0,0.0,0.0,0.0,0.0,0.0\\r\\n290,1,1,0,71.83098591549296,76,64,70.0,0,1,1.0,0.0,0.0,0.0,0.0,0.0\\r\\n291,2,1,0,63.38028169014084,75,83,79.0,1,0,1.0,0.0,0.0,0.0,0.0,0.0\\r\\n292,0,1,0,56.33802816901407,67,69,68.0,0,1,0.0,0.0,0.0,0.0,1.0,0.0\\r\\n293,4,1,1,98.59154929577466,87,81,84.0,0,1,0.0,0.0,0.0,0.0,1.0,0.0\\r\\n294,2,1,0,30.98591549295775,52,44,48.0,0,1,0.0,0.0,0.0,0.0,0.0,1.0\\r\\n295,1,0,0,33.80281690140844,71,67,69.0,1,0,1.0,0.0,0.0,0.0,0.0,0.0\\r\\n296,3,0,0,28.169014084507033,57,52,54.5,1,0,0.0,0.0,1.0,0.0,0.0,0.0\\r\\n297,1,1,0,61.97183098591548,76,80,78.0,1,0,1.0,0.0,0.0,0.0,0.0,0.0\\r\\n298,1,1,0,52.112676056338024,60,57,58.5,0,1,0.0,1.0,0.0,0.0,0.0,0.0\\r\\n299,3,1,1,53.521126760563384,61,68,64.5,0,1,0.0,1.0,0.0,0.0,0.0,0.0\\r\\n300,2,0,1,54.92957746478873,67,69,68.0,1,0,1.0,0.0,0.0,0.0,0.0,0.0\\r\\n301,2,1,1,42.25352112676057,64,75,69.5,1,0,0.0,1.0,0.0,0.0,0.0,0.0\\r\\n302,2,1,0,59.15492957746479,66,65,65.5,0,1,0.0,0.0,1.0,0.0,0.0,0.0\\r\\n303,3,1,1,67.6056338028169,82,91,86.5,1,0,0.0,0.0,0.0,1.0,0.0,0.0\\r\\n304,2,1,0,76.05633802816902,72,78,75.0,0,1,1.0,0.0,0.0,0.0,0.0,0.0\\r\\n305,1,1,0,47.887323943661976,71,69,70.0,0,1,0.0,1.0,0.0,0.0,0.0,0.0\\r\\n306,3,0,0,38.028169014084504,65,63,64.0,1,0,1.0,0.0,0.0,0.0,0.0,0.0\\r\\n307,2,0,1,53.521126760563384,79,84,81.5,1,0,0.0,0.0,1.0,0.0,0.0,0.0\\r\\n308,4,1,0,64.7887323943662,86,79,82.5,1,0,0.0,0.0,1.0,0.0,0.0,0.0\\r\\n309,2,1,0,59.15492957746479,81,80,80.5,1,0,0.0,0.0,0.0,0.0,1.0,0.0\\r\\n310,2,0,0,19.718309859154928,53,53,53.0,1,0,0.0,0.0,0.0,0.0,0.0,1.0\\r\\n311,2,0,0,16.901408450704224,46,43,44.5,1,0,0.0,0.0,1.0,0.0,0.0,0.0\\r\\n312,2,1,0,74.64788732394365,90,94,92.0,1,0,0.0,0.0,0.0,0.0,1.0,0.0\\r\\n313,2,1,0,45.07042253521126,61,62,61.5,0,1,0.0,0.0,0.0,0.0,1.0,0.0\\r\\n314,2,1,1,74.64788732394365,75,77,76.0,0,1,1.0,0.0,0.0,0.0,0.0,0.0\\r\\n315,1,1,0,16.901408450704224,55,51,53.0,1,0,0.0,0.0,0.0,0.0,0.0,1.0\\r\\n316,2,1,0,59.15492957746479,60,61,60.5,0,1,0.0,0.0,1.0,0.0,0.0,0.0\\r\\n317,2,1,0,25.352112676056343,37,35,36.0,0,1,1.0,0.0,0.0,0.0,0.0,0.0\\r\\n318,4,1,1,46.478873239436616,56,53,54.5,0,1,1.0,0.0,0.0,0.0,0.0,0.0\\r\\n319,1,1,0,85.91549295774647,78,81,79.5,0,1,1.0,0.0,0.0,0.0,0.0,0.0\\r\\n320,2,1,0,76.05633802816902,93,95,94.0,1,0,0.0,1.0,0.0,0.0,0.0,0.0\\r\\n321,1,0,0,45.07042253521126,68,66,67.0,1,0,0.0,0.0,0.0,0.0,1.0,0.0\\r\\n322,3,1,1,66.19718309859155,70,69,69.5,0,1,0.0,0.0,0.0,0.0,0.0,1.0\\r\\n323,2,1,0,28.169014084507033,51,43,47.0,0,1,1.0,0.0,0.0,0.0,0.0,0.0\\r\\n324,3,0,0,8.450704225352112,55,60,57.5,1,0,0.0,0.0,0.0,0.0,0.0,1.0\\r\\n325,2,0,0,40.84507042253521,61,52,56.5,0,1,0.0,0.0,1.0,0.0,0.0,0.0\\r\\n326,2,1,0,45.07042253521126,73,63,68.0,1,0,0.0,0.0,1.0,0.0,0.0,0.0\\r\\n327,1,1,1,56.33802816901407,76,74,75.0,1,0,0.0,0.0,1.0,0.0,0.0,0.0\\r\\n328,3,1,1,53.521126760563384,72,67,69.5,0,1,1.0,0.0,0.0,0.0,0.0,0.0\\r\\n329,3,1,0,70.42253521126761,73,67,70.0,0,1,0.0,0.0,0.0,0.0,1.0,0.0\\r\\n330,2,1,0,60.56338028169014,80,75,77.5,1,0,0.0,0.0,1.0,0.0,0.0,0.0\\r\\n331,1,1,0,46.478873239436616,61,57,59.0,0,1,0.0,0.0,0.0,0.0,1.0,0.0\\r\\n332,2,1,1,67.6056338028169,94,95,94.5,1,0,0.0,1.0,0.0,0.0,0.0,0.0\\r\\n333,3,0,0,64.7887323943662,74,66,70.0,0,1,0.0,0.0,1.0,0.0,0.0,0.0\\r\\n334,4,1,0,81.69014084507043,74,76,75.0,0,1,1.0,0.0,0.0,0.0,0.0,0.0\\r\\n335,1,1,0,32.394366197183096,65,69,67.0,1,0,0.0,1.0,0.0,0.0,0.0,0.0\\r\\n336,4,1,0,52.112676056338024,57,52,54.5,0,1,0.0,0.0,0.0,0.0,1.0,0.0\\r\\n337,2,1,1,47.887323943661976,78,80,79.0,1,0,0.0,0.0,0.0,0.0,1.0,0.0\\r\\n338,2,1,0,23.943661971830984,58,57,57.5,1,0,1.0,0.0,0.0,0.0,0.0,0.0\\r\\n339,2,1,0,42.25352112676057,71,70,70.5,1,0,0.0,0.0,0.0,0.0,1.0,0.0\\r\\n340,1,1,0,45.07042253521126,72,70,71.0,1,0,0.0,1.0,0.0,0.0,0.0,0.0\\r\\n341,0,1,0,47.887323943661976,61,61,61.0,0,1,1.0,0.0,0.0,0.0,0.0,0.0\\r\\n342,2,0,1,18.309859154929576,66,69,67.5,1,0,0.0,0.0,0.0,0.0,1.0,0.0\\r\\n343,3,0,0,42.25352112676057,62,61,61.5,0,1,0.0,0.0,0.0,0.0,1.0,0.0\\r\\n344,3,1,0,71.83098591549296,90,89,89.5,1,0,0.0,0.0,0.0,0.0,1.0,0.0\\r\\n345,1,1,0,40.84507042253521,62,59,60.5,1,0,0.0,0.0,1.0,0.0,0.0,0.0\\r\\n346,1,1,1,78.87323943661971,84,78,81.0,0,1,0.0,0.0,0.0,0.0,0.0,1.0\\r\\n347,2,1,0,32.394366197183096,58,58,58.0,1,0,0.0,0.0,0.0,0.0,1.0,0.0\\r\\n348,2,1,0,42.25352112676057,60,58,59.0,0,1,0.0,0.0,0.0,0.0,1.0,0.0\\r\\n349,0,0,1,28.169014084507033,58,60,59.0,0,1,0.0,1.0,0.0,0.0,0.0,0.0\\r\\n350,2,1,1,56.33802816901407,58,53,55.5,0,1,0.0,0.0,1.0,0.0,0.0,0.0\\r\\n351,2,0,0,45.07042253521126,66,61,63.5,0,1,0.0,1.0,0.0,0.0,0.0,0.0\\r\\n352,0,0,0,21.12676056338028,64,58,61.0,1,0,0.0,0.0,0.0,0.0,0.0,1.0\\r\\n353,3,1,0,61.97183098591548,84,85,84.5,1,0,0.0,0.0,0.0,0.0,0.0,1.0\\r\\n354,4,1,0,77.46478873239437,77,71,74.0,0,1,0.0,0.0,0.0,0.0,1.0,0.0\\r\\n355,2,0,1,22.535211267605632,73,70,71.5,1,0,0.0,0.0,0.0,0.0,1.0,0.0\\r\\n356,3,1,0,63.38028169014084,74,72,73.0,0,1,0.0,0.0,0.0,0.0,0.0,1.0\\r\\n357,3,1,1,74.64788732394365,97,96,96.5,1,0,0.0,0.0,0.0,0.0,1.0,0.0\\r\\n358,3,1,0,42.25352112676057,70,73,71.5,1,0,0.0,1.0,0.0,0.0,0.0,0.0\\r\\n359,4,0,0,23.943661971830984,43,41,42.0,0,1,1.0,0.0,0.0,0.0,0.0,0.0\\r\\n360,3,1,0,71.83098591549296,90,82,86.0,1,0,0.0,0.0,0.0,0.0,0.0,1.0\\r\\n361,3,0,1,78.87323943661971,95,100,97.5,1,0,0.0,0.0,0.0,1.0,0.0,0.0\\r\\n362,0,1,0,59.15492957746479,83,77,80.0,1,0,0.0,0.0,0.0,0.0,0.0,1.0\\r\\n363,0,1,0,52.112676056338024,64,62,63.0,0,1,0.0,1.0,0.0,0.0,0.0,0.0\\r\\n364,1,1,0,71.83098591549296,86,83,84.5,1,0,1.0,0.0,0.0,0.0,0.0,0.0\\r\\n365,2,1,1,81.69014084507043,100,95,97.5,0,1,1.0,0.0,0.0,0.0,0.0,0.0\\r\\n366,2,0,0,70.42253521126761,81,71,76.0,0,1,0.0,0.0,0.0,1.0,0.0,0.0\\r\\n367,4,0,0,12.676056338028168,49,45,47.0,1,0,0.0,0.0,0.0,0.0,0.0,1.0\\r\\n368,0,0,0,12.676056338028168,43,43,43.0,1,0,0.0,0.0,0.0,0.0,0.0,1.0\\r\\n369,4,1,0,53.521126760563384,76,75,75.5,1,0,0.0,0.0,0.0,0.0,1.0,0.0\\r\\n370,4,1,0,49.29577464788732,73,70,71.5,1,0,0.0,1.0,0.0,0.0,0.0,0.0\\r\\n371,2,0,0,39.43661971830985,78,67,72.5,1,0,1.0,0.0,0.0,0.0,0.0,0.0\\r\\n372,3,1,0,46.478873239436616,64,64,64.0,1,0,0.0,0.0,1.0,0.0,0.0,0.0\\r\\n373,3,1,0,61.97183098591548,70,75,72.5,0,1,0.0,0.0,0.0,1.0,0.0,0.0\\r\\n374,3,1,0,67.6056338028169,68,77,72.5,1,0,0.0,0.0,0.0,0.0,1.0,0.0\\r\\n375,4,1,0,66.19718309859155,67,67,67.0,0,1,0.0,0.0,0.0,0.0,1.0,0.0\\r\\n376,2,1,1,39.43661971830985,54,56,55.0,0,1,1.0,0.0,0.0,0.0,0.0,0.0\\r\\n377,2,1,1,50.704225352112665,74,77,75.5,1,0,0.0,0.0,0.0,0.0,0.0,1.0\\r\\n378,0,0,0,26.76056338028169,45,41,43.0,0,1,0.0,0.0,1.0,0.0,0.0,0.0\\r\\n379,1,0,0,29.577464788732392,67,63,65.0,1,0,0.0,0.0,1.0,0.0,0.0,0.0\\r\\n380,2,1,0,78.87323943661971,89,95,92.0,1,0,1.0,0.0,0.0,0.0,0.0,0.0\\r\\n381,1,1,0,63.38028169014084,63,57,60.0,0,1,0.0,0.0,0.0,0.0,0.0,1.0\\r\\n382,3,1,0,43.66197183098591,59,54,56.5,0,1,0.0,0.0,0.0,0.0,0.0,1.0\\r\\n383,2,1,1,42.25352112676057,54,67,60.5,1,0,0.0,0.0,0.0,0.0,0.0,1.0\\r\\n384,0,1,0,33.80281690140844,43,43,43.0,0,1,0.0,0.0,0.0,0.0,1.0,0.0\\r\\n385,0,0,0,28.169014084507033,65,55,60.0,1,0,0.0,0.0,0.0,0.0,1.0,0.0\\r\\n386,3,1,1,83.09859154929578,99,100,99.5,1,0,0.0,0.0,1.0,0.0,0.0,0.0\\r\\n387,2,1,0,35.2112676056338,59,62,60.5,1,0,0.0,0.0,1.0,0.0,0.0,0.0\\r\\n388,2,1,0,47.887323943661976,73,68,70.5,1,0,0.0,0.0,0.0,0.0,0.0,1.0\\r\\n389,1,1,1,50.704225352112665,65,63,64.0,0,1,1.0,0.0,0.0,0.0,0.0,0.0\\r\\n390,1,1,0,74.64788732394365,80,77,78.5,1,0,1.0,0.0,0.0,0.0,0.0,0.0\\r\\n391,3,0,1,32.394366197183096,57,56,56.5,1,0,0.0,0.0,1.0,0.0,0.0,0.0\\r\\n392,3,1,1,81.69014084507043,84,85,84.5,0,1,1.0,0.0,0.0,0.0,0.0,0.0\\r\\n393,3,1,1,57.74647887323943,71,74,72.5,1,0,0.0,0.0,0.0,1.0,0.0,0.0\\r\\n394,4,1,1,77.46478873239437,83,78,80.5,0,1,0.0,0.0,0.0,0.0,1.0,0.0\\r\\n395,3,1,0,59.15492957746479,66,60,63.0,0,1,1.0,0.0,0.0,0.0,0.0,0.0\\r\\n396,1,1,1,47.887323943661976,67,67,67.0,0,1,0.0,0.0,0.0,0.0,0.0,1.0\\r\\n397,2,0,1,30.98591549295775,72,79,75.5,1,0,0.0,1.0,0.0,0.0,0.0,0.0\\r\\n398,4,1,0,77.46478873239437,73,69,71.0,0,1,0.0,0.0,1.0,0.0,0.0,0.0\\r\\n399,2,1,1,59.15492957746479,74,68,71.0,0,1,0.0,1.0,0.0,0.0,0.0,0.0\\r\\n400,2,1,0,63.38028169014084,73,67,70.0,0,1,1.0,0.0,0.0,0.0,0.0,0.0\\r\\n401,3,1,0,54.92957746478873,59,62,60.5,0,1,0.0,0.0,0.0,0.0,1.0,0.0\\r\\n402,4,0,1,39.43661971830985,56,54,55.0,0,1,0.0,0.0,1.0,0.0,0.0,0.0\\r\\n403,2,0,1,74.64788732394365,93,93,93.0,1,0,1.0,0.0,0.0,0.0,0.0,0.0\\r\\n404,3,1,1,39.43661971830985,58,64,61.0,1,0,0.0,0.0,1.0,0.0,0.0,0.0\\r\\n405,3,0,1,25.352112676056343,58,67,62.5,1,0,0.0,0.0,0.0,1.0,0.0,0.0\\r\\n406,0,1,1,42.25352112676057,85,80,82.5,1,0,0.0,0.0,0.0,0.0,0.0,1.0\\r\\n407,1,0,0,16.901408450704224,39,34,36.5,0,1,0.0,0.0,0.0,0.0,1.0,0.0\\r\\n408,2,0,0,46.478873239436616,67,62,64.5,1,0,0.0,0.0,0.0,0.0,1.0,0.0\\r\\n409,2,1,0,80.28169014084506,83,86,84.5,0,1,0.0,1.0,0.0,0.0,0.0,0.0\\r\\n410,2,0,0,56.33802816901407,71,65,68.0,0,1,0.0,0.0,0.0,0.0,0.0,1.0\\r\\n411,0,0,0,50.704225352112665,59,53,56.0,0,1,0.0,0.0,0.0,0.0,0.0,1.0\\r\\n412,2,0,0,49.29577464788732,66,59,62.5,0,1,1.0,0.0,0.0,0.0,0.0,0.0\\r\\n413,2,1,0,45.07042253521126,72,70,71.0,1,0,0.0,0.0,1.0,0.0,0.0,0.0\\r\\n414,2,1,0,45.07042253521126,56,55,55.5,0,1,0.0,0.0,1.0,0.0,0.0,0.0\\r\\n415,0,0,0,25.352112676056343,59,50,54.5,1,0,0.0,0.0,0.0,0.0,0.0,1.0\\r\\n416,2,1,0,61.97183098591548,66,66,66.0,0,1,0.0,0.0,0.0,0.0,0.0,1.0\\r\\n417,2,0,1,29.577464788732392,48,53,50.5,0,1,0.0,0.0,0.0,0.0,1.0,0.0\\r\\n418,3,1,0,64.7887323943662,68,64,66.0,0,1,1.0,0.0,0.0,0.0,0.0,0.0\\r\\n419,3,0,0,64.7887323943662,66,73,69.5,0,1,1.0,0.0,0.0,0.0,0.0,0.0\\r\\n420,2,1,0,57.74647887323943,56,51,53.5,0,1,0.0,0.0,1.0,0.0,0.0,0.0\\r\\n421,3,1,1,84.50704225352112,88,82,85.0,0,1,0.0,0.0,0.0,0.0,0.0,1.0\\r\\n422,2,1,1,53.521126760563384,81,79,80.0,1,0,0.0,0.0,0.0,0.0,1.0,0.0\\r\\n423,3,1,0,69.01408450704224,81,80,80.5,1,0,0.0,0.0,1.0,0.0,0.0,0.0\\r\\n424,0,0,0,42.25352112676057,73,69,71.0,1,0,0.0,0.0,0.0,0.0,0.0,1.0\\r\\n425,1,1,0,61.97183098591548,83,76,79.5,1,0,1.0,0.0,0.0,0.0,0.0,0.0\\r\\n426,0,0,0,70.42253521126761,82,73,77.5,0,1,0.0,0.0,0.0,0.0,0.0,1.0\\r\\n427,2,1,1,53.521126760563384,74,77,75.5,1,0,0.0,0.0,0.0,0.0,0.0,1.0\\r\\n428,3,0,0,56.33802816901407,66,60,63.0,0,1,0.0,0.0,0.0,0.0,1.0,0.0\\r\\n429,2,1,1,80.28169014084506,81,80,80.5,0,1,0.0,0.0,1.0,0.0,0.0,0.0\\r\\n430,1,1,0,25.352112676056343,46,42,44.0,0,1,0.0,0.0,1.0,0.0,0.0,0.0\\r\\n431,1,1,0,73.2394366197183,73,72,72.5,0,1,1.0,0.0,0.0,0.0,0.0,0.0\\r\\n432,2,0,1,49.29577464788732,85,85,85.0,1,0,0.0,0.0,0.0,0.0,1.0,0.0\\r\\n433,4,1,0,100.0,92,97,94.5,1,0,0.0,0.0,0.0,0.0,1.0,0.0\\r\\n434,2,0,0,50.704225352112665,77,74,75.5,1,0,1.0,0.0,0.0,0.0,0.0,0.0\\r\\n435,2,0,0,50.704225352112665,58,49,53.5,0,1,0.0,0.0,0.0,0.0,1.0,0.0\\r\\n436,2,0,0,33.80281690140844,61,62,61.5,1,0,1.0,0.0,0.0,0.0,0.0,0.0\\r\\n437,2,0,0,11.267605633802816,56,47,51.5,0,1,0.0,1.0,0.0,0.0,0.0,0.0\\r\\n438,3,1,0,70.42253521126761,89,89,89.0,1,0,0.0,1.0,0.0,0.0,0.0,0.0\\r\\n439,3,0,0,33.80281690140844,54,48,51.0,0,1,1.0,0.0,0.0,0.0,0.0,0.0\\r\\n440,4,1,0,100.0,100,100,100.0,1,0,0.0,1.0,0.0,0.0,0.0,0.0\\r\\n441,1,1,0,60.56338028169014,65,68,66.5,0,1,0.0,0.0,1.0,0.0,0.0,0.0\\r\\n442,2,0,0,33.80281690140844,58,55,56.5,0,1,0.0,1.0,0.0,0.0,0.0,0.0\\r\\n443,1,0,0,35.2112676056338,54,45,49.5,0,1,0.0,0.0,0.0,0.0,1.0,0.0\\r\\n444,4,1,0,59.15492957746479,70,76,73.0,1,0,0.0,0.0,0.0,0.0,1.0,0.0\\r\\n445,2,0,0,67.6056338028169,90,91,90.5,1,0,0.0,0.0,0.0,0.0,1.0,0.0\\r\\n446,0,1,1,64.7887323943662,58,62,60.0,0,1,0.0,1.0,0.0,0.0,0.0,0.0\\r\\n447,2,1,0,77.46478873239437,87,91,89.0,1,0,0.0,0.0,0.0,0.0,1.0,0.0\\r\\n448,0,0,1,60.56338028169014,67,65,66.0,0,1,0.0,0.0,1.0,0.0,0.0,0.0\\r\\n449,0,0,1,67.6056338028169,88,85,86.5,1,0,0.0,0.0,1.0,0.0,0.0,0.0\\r\\n450,2,1,0,87.32394366197184,74,76,75.0,0,1,0.0,0.0,0.0,0.0,1.0,0.0\\r\\n451,2,1,1,76.05633802816902,85,90,87.5,1,0,1.0,0.0,0.0,0.0,0.0,0.0\\r\\n452,2,1,0,47.887323943661976,69,74,71.5,1,0,0.0,0.0,1.0,0.0,0.0,0.0\\r\\n453,2,1,1,54.92957746478873,86,84,85.0,1,0,1.0,0.0,0.0,0.0,0.0,0.0\\r\\n454,3,1,0,42.25352112676057,67,61,64.0,1,0,0.0,0.0,0.0,0.0,0.0,1.0\\r\\n455,1,1,1,85.91549295774647,90,91,90.5,1,0,1.0,0.0,0.0,0.0,0.0,0.0\\r\\n456,3,1,1,59.15492957746479,76,83,79.5,1,0,0.0,1.0,0.0,0.0,0.0,0.0\\r\\n457,4,1,1,66.19718309859155,62,66,64.0,0,1,0.0,1.0,0.0,0.0,0.0,0.0\\r\\n458,3,1,0,71.83098591549296,68,72,70.0,0,1,1.0,0.0,0.0,0.0,0.0,0.0\\r\\n459,3,1,0,36.61971830985916,64,70,67.0,1,0,0.0,0.0,0.0,1.0,0.0,0.0\\r\\n460,4,1,0,66.19718309859155,71,67,69.0,0,1,1.0,0.0,0.0,0.0,0.0,0.0\\r\\n461,1,1,1,61.97183098591548,71,68,69.5,0,1,0.0,0.0,1.0,0.0,0.0,0.0\\r\\n462,3,0,0,32.394366197183096,59,56,57.5,1,0,1.0,0.0,0.0,0.0,0.0,0.0\\r\\n463,2,0,0,54.92957746478873,68,61,64.5,0,1,0.0,0.0,0.0,0.0,1.0,0.0\\r\\n464,0,1,0,42.25352112676057,52,46,49.0,0,1,0.0,0.0,1.0,0.0,0.0,0.0\\r\\n465,1,1,0,28.169014084507033,52,54,53.0,1,0,1.0,0.0,0.0,0.0,0.0,0.0\\r\\n466,2,1,0,57.74647887323943,74,71,72.5,0,1,0.0,0.0,1.0,0.0,0.0,0.0\\r\\n467,3,0,0,45.07042253521126,47,56,51.5,0,1,0.0,0.0,0.0,0.0,1.0,0.0\\r\\n468,2,0,0,43.66197183098591,75,74,74.5,1,0,1.0,0.0,0.0,0.0,0.0,0.0\\r\\n469,1,1,1,49.29577464788732,53,57,55.0,0,1,0.0,0.0,0.0,0.0,0.0,1.0\\r\\n470,0,0,1,70.42253521126761,82,82,82.0,0,1,1.0,0.0,0.0,0.0,0.0,0.0\\r\\n471,0,0,0,50.704225352112665,85,76,80.5,1,0,1.0,0.0,0.0,0.0,0.0,0.0\\r\\n472,2,1,0,49.29577464788732,64,70,67.0,1,0,1.0,0.0,0.0,0.0,0.0,0.0\\r\\n473,2,1,0,76.05633802816902,83,90,86.5,1,0,0.0,0.0,0.0,0.0,1.0,0.0\\r\\n474,2,1,0,73.2394366197183,88,90,89.0,1,0,0.0,1.0,0.0,0.0,0.0,0.0\\r\\n475,1,1,0,35.2112676056338,64,68,66.0,1,0,0.0,0.0,1.0,0.0,0.0,0.0\\r\\n476,3,1,1,54.92957746478873,64,66,65.0,0,1,0.0,0.0,1.0,0.0,0.0,0.0\\r\\n477,2,1,0,35.2112676056338,48,52,50.0,1,0,0.0,0.0,0.0,0.0,1.0,0.0\\r\\n478,3,0,1,42.25352112676057,78,76,77.0,1,0,0.0,0.0,0.0,0.0,1.0,0.0\\r\\n479,1,1,0,52.112676056338024,69,68,68.5,1,0,0.0,0.0,0.0,0.0,0.0,1.0\\r\\n480,4,1,0,66.19718309859155,71,72,71.5,0,1,0.0,0.0,0.0,0.0,1.0,0.0\\r\\n481,3,1,0,63.38028169014084,79,82,80.5,1,0,0.0,0.0,0.0,1.0,0.0,0.0\\r\\n482,1,1,1,91.5492957746479,87,92,89.5,1,0,1.0,0.0,0.0,0.0,0.0,0.0\\r\\n483,2,0,0,47.887323943661976,61,54,57.5,0,1,0.0,0.0,0.0,0.0,1.0,0.0\\r\\n484,4,1,1,92.95774647887325,89,92,90.5,1,0,1.0,0.0,0.0,0.0,0.0,0.0\\r\\n485,3,0,0,15.492957746478872,59,54,56.5,1,0,0.0,0.0,0.0,1.0,0.0,0.0\\r\\n486,1,1,0,74.64788732394365,82,80,81.0,1,0,0.0,0.0,0.0,0.0,0.0,1.0\\r\\n487,0,1,0,54.92957746478873,70,66,68.0,0,1,0.0,0.0,1.0,0.0,0.0,0.0\\r\\n488,1,0,0,36.61971830985916,59,54,56.5,0,1,0.0,1.0,0.0,0.0,0.0,0.0\\r\\n489,2,1,0,70.42253521126761,78,77,77.5,0,1,0.0,0.0,0.0,1.0,0.0,0.0\\r\\n490,2,1,0,80.28169014084506,92,87,89.5,1,0,0.0,1.0,0.0,0.0,0.0,0.0\\r\\n491,3,1,0,66.19718309859155,71,73,72.0,0,1,0.0,0.0,0.0,0.0,1.0,0.0\\r\\n492,0,1,0,49.29577464788732,50,43,46.5,0,1,0.0,0.0,0.0,0.0,0.0,1.0\\r\\n493,3,0,0,46.478873239436616,49,52,50.5,0,1,0.0,0.0,0.0,0.0,0.0,1.0\\r\\n494,1,1,1,35.2112676056338,61,62,61.5,1,0,0.0,0.0,0.0,0.0,0.0,1.0\\r\\n495,1,0,1,67.6056338028169,97,94,95.5,1,0,0.0,0.0,0.0,1.0,0.0,0.0\\r\\n496,2,1,1,66.19718309859155,87,85,86.0,1,0,0.0,0.0,0.0,0.0,0.0,1.0\\r\\n497,3,1,0,63.38028169014084,89,84,86.5,1,0,0.0,0.0,0.0,0.0,1.0,0.0\\r\\n498,4,1,1,52.112676056338024,74,73,73.5,1,0,0.0,0.0,0.0,0.0,1.0,0.0\\r\\n499,3,1,1,52.112676056338024,78,78,78.0,1,0,0.0,0.0,0.0,0.0,0.0,1.0\\r\\n500,1,0,1,53.521126760563384,78,79,78.5,1,0,0.0,0.0,1.0,0.0,0.0,0.0\\r\\n501,3,1,0,59.15492957746479,49,52,50.5,0,1,0.0,0.0,0.0,0.0,1.0,0.0\\r\\n502,2,1,0,87.32394366197184,86,84,85.0,1,0,1.0,0.0,0.0,0.0,0.0,0.0\\r\\n503,3,1,0,56.33802816901407,58,57,57.5,0,1,0.0,1.0,0.0,0.0,0.0,0.0\\r\\n504,2,0,0,35.2112676056338,59,50,54.5,0,1,0.0,0.0,0.0,1.0,0.0,0.0\\r\\n505,2,1,1,33.80281690140844,52,49,50.5,0,1,0.0,0.0,1.0,0.0,0.0,0.0\\r\\n506,4,1,0,54.92957746478873,60,59,59.5,0,1,0.0,0.0,0.0,0.0,1.0,0.0\\r\\n507,2,0,1,38.028169014084504,61,60,60.5,0,1,0.0,0.0,0.0,0.0,0.0,1.0\\r\\n508,2,0,0,9.859154929577464,53,43,48.0,1,0,0.0,0.0,1.0,0.0,0.0,0.0\\r\\n509,3,0,0,0.0,41,47,44.0,1,0,0.0,1.0,0.0,0.0,0.0,0.0\\r\\n510,2,1,0,46.478873239436616,74,70,72.0,1,0,1.0,0.0,0.0,0.0,0.0,0.0\\r\\n511,2,1,1,54.92957746478873,67,73,70.0,1,0,1.0,0.0,0.0,0.0,0.0,0.0\\r\\n512,2,1,0,25.352112676056343,54,53,53.5,1,0,0.0,0.0,0.0,0.0,0.0,1.0\\r\\n513,4,1,1,46.478873239436616,61,58,59.5,0,1,1.0,0.0,0.0,0.0,0.0,0.0\\r\\n514,4,1,1,70.42253521126761,88,94,91.0,1,0,1.0,0.0,0.0,0.0,0.0,0.0\\r\\n515,1,1,1,61.97183098591548,69,68,68.5,0,1,0.0,0.0,1.0,0.0,0.0,0.0\\r\\n516,2,0,1,52.112676056338024,83,83,83.0,1,0,0.0,1.0,0.0,0.0,0.0,0.0\\r\\n517,2,1,1,30.98591549295775,60,58,59.0,0,1,1.0,0.0,0.0,0.0,0.0,0.0\\r\\n518,3,1,0,30.98591549295775,66,62,64.0,1,0,0.0,0.0,1.0,0.0,0.0,0.0\\r\\n519,4,1,1,78.87323943661971,66,71,68.5,0,1,0.0,1.0,0.0,0.0,0.0,0.0\\r\\n520,0,1,1,95.77464788732394,92,86,89.0,0,1,1.0,0.0,0.0,0.0,0.0,0.0\\r\\n521,2,1,1,64.7887323943662,69,68,68.5,0,1,0.0,0.0,1.0,0.0,0.0,0.0\\r\\n522,3,0,1,70.42253521126761,82,80,81.0,0,1,1.0,0.0,0.0,0.0,0.0,0.0\\r\\n523,3,1,0,74.64788732394365,95,89,92.0,1,0,1.0,0.0,0.0,0.0,0.0,0.0\\r\\n524,3,1,0,49.29577464788732,63,66,64.5,1,0,0.0,0.0,0.0,1.0,0.0,0.0\\r\\n525,4,0,1,69.01408450704224,83,80,81.5,0,1,0.0,0.0,0.0,0.0,0.0,1.0\\r\\n526,0,1,1,88.73239436619718,100,97,98.5,1,0,0.0,0.0,0.0,0.0,0.0,1.0\\r\\n527,2,1,1,60.56338028169014,67,64,65.5,0,1,0.0,0.0,1.0,0.0,0.0,0.0\\r\\n528,2,0,0,46.478873239436616,67,64,65.5,1,0,0.0,0.0,1.0,0.0,0.0,0.0\\r\\n529,2,1,0,70.42253521126761,72,69,70.5,0,1,0.0,0.0,0.0,1.0,0.0,0.0\\r\\n530,2,0,0,70.42253521126761,76,65,70.5,0,1,0.0,0.0,0.0,0.0,0.0,1.0\\r\\n531,1,0,1,81.69014084507043,90,88,89.0,0,1,0.0,1.0,0.0,0.0,0.0,0.0\\r\\n532,1,1,0,15.492957746478872,48,50,49.0,1,0,1.0,0.0,0.0,0.0,0.0,0.0\\r\\n533,3,0,0,67.6056338028169,62,64,63.0,0,1,0.0,0.0,0.0,0.0,1.0,0.0\\r\\n534,4,1,0,33.80281690140844,45,40,42.5,0,1,1.0,0.0,0.0,0.0,0.0,0.0\\r\\n535,2,0,0,4.225352112676056,39,33,36.0,1,0,0.0,0.0,0.0,0.0,1.0,0.0\\r\\n536,2,1,1,36.61971830985916,72,79,75.5,1,0,1.0,0.0,0.0,0.0,0.0,0.0\\r\\n537,2,0,0,45.07042253521126,67,66,66.5,0,1,0.0,0.0,0.0,1.0,0.0,0.0\\r\\n538,1,0,0,33.80281690140844,70,70,70.0,1,0,1.0,0.0,0.0,0.0,0.0,0.0\\r\\n539,3,1,0,61.97183098591548,66,62,64.0,0,1,0.0,0.0,0.0,0.0,0.0,1.0\\r\\n540,3,1,1,63.38028169014084,75,79,77.0,1,0,0.0,0.0,0.0,0.0,1.0,0.0\\r\\n541,2,1,0,47.887323943661976,74,74,74.0,1,0,0.0,0.0,0.0,0.0,1.0,0.0\\r\\n542,2,1,1,94.36619718309859,90,92,91.0,0,1,0.0,1.0,0.0,0.0,0.0,0.0\\r\\n543,3,0,1,47.887323943661976,80,80,80.0,1,0,0.0,0.0,0.0,0.0,1.0,0.0\\r\\n544,1,0,0,26.76056338028169,51,46,48.5,0,1,0.0,1.0,0.0,0.0,0.0,0.0\\r\\n545,1,1,0,26.76056338028169,43,45,44.0,0,1,1.0,0.0,0.0,0.0,0.0,0.0\\r\\n546,4,0,1,88.73239436619718,100,100,100.0,1,0,0.0,1.0,0.0,0.0,0.0,0.0\\r\\n547,3,0,0,45.07042253521126,71,78,74.5,1,0,0.0,0.0,0.0,1.0,0.0,0.0\\r\\n548,1,0,0,47.887323943661976,48,47,47.5,0,1,0.0,0.0,1.0,0.0,0.0,0.0\\r\\n549,3,0,0,54.92957746478873,68,67,67.5,0,1,0.0,1.0,0.0,0.0,0.0,0.0\\r\\n550,1,1,1,59.15492957746479,75,70,72.5,0,1,0.0,0.0,0.0,0.0,1.0,0.0\\r\\n551,0,1,0,87.32394366197184,96,92,94.0,0,1,0.0,1.0,0.0,0.0,0.0,0.0\\r\\n552,2,1,0,33.80281690140844,62,56,59.0,1,0,0.0,0.0,0.0,0.0,1.0,0.0\\r\\n553,2,0,1,29.577464788732392,66,64,65.0,1,0,0.0,0.0,1.0,0.0,0.0,0.0\\r\\n554,4,1,0,63.38028169014084,81,71,76.0,1,0,0.0,0.0,1.0,0.0,0.0,0.0\\r\\n555,0,0,1,15.492957746478872,55,53,54.0,0,1,1.0,0.0,0.0,0.0,0.0,0.0\\r\\n556,0,1,1,45.07042253521126,51,52,51.5,0,1,0.0,0.0,0.0,0.0,1.0,0.0\\r\\n557,1,1,0,73.2394366197183,91,89,90.0,1,0,0.0,0.0,1.0,0.0,0.0,0.0\\r\\n558,1,0,1,26.76056338028169,56,58,57.0,1,0,0.0,0.0,0.0,0.0,1.0,0.0\\r\\n559,3,1,0,33.80281690140844,61,68,64.5,1,0,0.0,0.0,0.0,1.0,0.0,0.0\\r\\n560,3,1,0,73.2394366197183,97,96,96.5,1,0,0.0,0.0,0.0,0.0,0.0,1.0\\r\\n561,4,1,0,67.6056338028169,79,80,79.5,1,0,0.0,0.0,0.0,0.0,0.0,1.0\\r\\n562,3,0,0,47.887323943661976,73,78,75.5,1,0,0.0,1.0,0.0,0.0,0.0,0.0\\r\\n563,3,1,1,61.97183098591548,75,80,77.5,1,0,1.0,0.0,0.0,0.0,0.0,0.0\\r\\n564,3,1,0,56.33802816901407,77,77,77.0,1,0,0.0,0.0,0.0,0.0,1.0,0.0\\r\\n565,2,1,0,50.704225352112665,76,76,76.0,1,0,1.0,0.0,0.0,0.0,0.0,0.0\\r\\n566,0,1,0,36.61971830985916,73,73,73.0,1,0,0.0,0.0,1.0,0.0,0.0,0.0\\r\\n567,2,0,0,21.12676056338028,63,62,62.5,1,0,0.0,1.0,0.0,0.0,0.0,0.0\\r\\n568,2,1,0,35.2112676056338,64,65,64.5,1,0,0.0,0.0,0.0,0.0,1.0,0.0\\r\\n569,0,1,0,26.76056338028169,66,65,65.5,1,0,0.0,0.0,0.0,0.0,0.0,1.0\\r\\n570,2,0,0,40.84507042253521,57,54,55.5,0,1,0.0,0.0,0.0,0.0,1.0,0.0\\r\\n571,0,1,0,59.15492957746479,62,50,56.0,0,1,0.0,0.0,0.0,0.0,0.0,1.0\\r\\n572,4,1,0,54.92957746478873,68,64,66.0,0,1,0.0,1.0,0.0,0.0,0.0,0.0\\r\\n573,4,1,0,63.38028169014084,76,73,74.5,1,0,0.0,0.0,1.0,0.0,0.0,0.0\\r\\n574,2,1,1,88.73239436619718,100,99,99.5,1,0,0.0,1.0,0.0,0.0,0.0,0.0\\r\\n575,2,1,1,38.028169014084504,79,72,75.5,1,0,0.0,1.0,0.0,0.0,0.0,0.0\\r\\n576,0,1,0,33.80281690140844,54,48,51.0,0,1,0.0,0.0,0.0,0.0,0.0,1.0\\r\\n577,3,1,0,56.33802816901407,77,73,75.0,1,0,0.0,0.0,1.0,0.0,0.0,0.0\\r\\n578,3,1,0,50.704225352112665,82,81,81.5,1,0,0.0,0.0,0.0,0.0,0.0,1.0\\r\\n579,3,1,0,35.2112676056338,60,63,61.5,1,0,0.0,0.0,0.0,1.0,0.0,0.0\\r\\n580,4,1,0,66.19718309859155,78,80,79.0,1,0,0.0,0.0,0.0,0.0,1.0,0.0\\r\\n581,3,0,0,43.66197183098591,57,51,54.0,0,1,0.0,0.0,1.0,0.0,0.0,0.0\\r\\n582,3,0,1,77.46478873239437,89,90,89.5,0,1,0.0,0.0,0.0,1.0,0.0,0.0\\r\\n583,2,1,0,64.7887323943662,72,62,67.0,0,1,0.0,0.0,0.0,0.0,0.0,1.0\\r\\n584,2,1,0,78.87323943661971,84,82,83.0,1,0,1.0,0.0,0.0,0.0,0.0,0.0\\r\\n585,2,0,0,15.492957746478872,58,54,56.0,1,0,0.0,0.0,0.0,1.0,0.0,0.0\\r\\n586,4,1,0,45.07042253521126,64,62,63.0,1,0,0.0,0.0,0.0,0.0,1.0,0.0\\r\\n587,1,1,0,40.84507042253521,63,65,64.0,1,0,1.0,0.0,0.0,0.0,0.0,0.0\\r\\n588,3,0,1,56.33802816901407,60,63,61.5,0,1,0.0,0.0,0.0,0.0,1.0,0.0\\r\\n589,2,1,0,40.84507042253521,59,66,62.5,1,0,0.0,0.0,0.0,0.0,1.0,0.0\\r\\n590,2,1,1,91.5492957746479,90,91,90.5,0,1,0.0,1.0,0.0,0.0,0.0,0.0\\r\\n591,2,1,0,50.704225352112665,77,74,75.5,1,0,1.0,0.0,0.0,0.0,0.0,0.0\\r\\n592,0,1,0,74.64788732394365,93,93,93.0,1,0,1.0,0.0,0.0,0.0,0.0,0.0\\r\\n593,2,1,0,43.66197183098591,68,72,70.0,1,0,0.0,0.0,1.0,0.0,0.0,0.0\\r\\n594,4,1,0,11.267605633802816,45,38,41.5,1,0,0.0,1.0,0.0,0.0,0.0,0.0\\r\\n595,3,1,0,83.09859154929578,78,83,80.5,0,1,0.0,1.0,0.0,0.0,0.0,0.0\\r\\n596,3,1,0,92.95774647887325,81,84,82.5,0,1,0.0,0.0,0.0,1.0,0.0,0.0\\r\\n597,2,0,1,50.704225352112665,73,68,70.5,0,1,1.0,0.0,0.0,0.0,0.0,0.0\\r\\n598,2,0,0,8.450704225352112,61,54,57.5,1,0,0.0,0.0,1.0,0.0,0.0,0.0\\r\\n599,1,0,0,46.478873239436616,63,56,59.5,0,1,0.0,1.0,0.0,0.0,0.0,0.0\\r\\n600,2,0,1,40.84507042253521,51,52,51.5,0,1,0.0,0.0,1.0,0.0,0.0,0.0\\r\\n601,0,1,1,100.0,96,86,91.0,0,1,0.0,0.0,0.0,0.0,1.0,0.0\\r\\n602,4,0,0,45.07042253521126,58,62,60.0,1,0,0.0,1.0,0.0,0.0,0.0,0.0\\r\\n603,3,1,1,100.0,97,99,98.0,0,1,0.0,0.0,0.0,0.0,1.0,0.0\\r\\n604,1,0,1,56.33802816901407,70,63,66.5,0,1,1.0,0.0,0.0,0.0,0.0,0.0\\r\\n605,3,1,0,45.07042253521126,48,46,47.0,0,1,1.0,0.0,0.0,0.0,0.0,0.0\\r\\n606,3,0,0,28.169014084507033,57,46,51.5,0,1,0.0,0.0,0.0,0.0,1.0,0.0\\r\\n607,2,1,1,21.12676056338028,51,55,53.0,1,0,0.0,0.0,0.0,0.0,0.0,1.0\\r\\n608,3,1,0,53.521126760563384,64,70,67.0,0,1,0.0,0.0,0.0,0.0,1.0,0.0\\r\\n609,1,1,0,70.42253521126761,60,65,62.5,0,1,0.0,0.0,1.0,0.0,0.0,0.0\\r\\n610,1,1,1,52.112676056338024,74,81,77.5,1,0,0.0,1.0,0.0,0.0,0.0,0.0\\r\\n611,2,1,0,64.7887323943662,88,85,86.5,1,0,0.0,0.0,1.0,0.0,0.0,0.0\\r\\n612,3,1,0,77.46478873239437,84,80,82.0,0,1,0.0,0.0,0.0,0.0,0.0,1.0\\r\\n613,0,1,0,59.15492957746479,74,64,69.0,0,1,0.0,0.0,1.0,0.0,0.0,0.0\\r\\n614,1,0,1,53.521126760563384,80,81,80.5,1,0,0.0,0.0,1.0,0.0,0.0,0.0\\r\\n615,3,1,1,71.83098591549296,92,88,90.0,1,0,0.0,0.0,0.0,0.0,0.0,1.0\\r\\n616,4,1,0,80.28169014084506,76,74,75.0,0,1,0.0,0.0,0.0,0.0,1.0,0.0\\r\\n617,3,1,0,66.19718309859155,74,73,73.5,1,0,1.0,0.0,0.0,0.0,0.0,0.0\\r\\n618,3,1,0,16.901408450704224,52,51,51.5,0,1,0.0,0.0,1.0,0.0,0.0,0.0\\r\\n619,3,0,1,63.38028169014084,88,90,89.0,1,0,1.0,0.0,0.0,0.0,0.0,0.0\\r\\n620,1,0,0,60.56338028169014,81,79,80.0,1,0,0.0,0.0,0.0,0.0,0.0,1.0\\r\\n621,4,1,1,63.38028169014084,79,80,79.5,1,0,0.0,0.0,1.0,0.0,0.0,0.0\\r\\n622,1,1,0,57.74647887323943,65,60,62.5,0,1,0.0,0.0,1.0,0.0,0.0,0.0\\r\\n623,1,1,1,50.704225352112665,81,81,81.0,1,0,0.0,1.0,0.0,0.0,0.0,0.0\\r\\n624,3,1,0,42.25352112676057,70,65,67.5,1,0,1.0,0.0,0.0,0.0,0.0,0.0\\r\\n625,4,0,0,49.29577464788732,62,68,65.0,1,0,0.0,0.0,1.0,0.0,0.0,0.0\\r\\n626,1,1,0,29.577464788732392,53,55,54.0,1,0,0.0,0.0,1.0,0.0,0.0,0.0\\r\\n627,3,1,1,56.33802816901407,79,81,80.0,1,0,0.0,0.0,0.0,0.0,1.0,0.0\\r\\n628,2,0,1,30.98591549295775,56,53,54.5,0,1,0.0,0.0,0.0,0.0,0.0,1.0\\r\\n629,0,1,1,54.92957746478873,80,76,78.0,1,0,0.0,0.0,1.0,0.0,0.0,0.0\\r\\n630,3,1,0,78.87323943661971,86,98,92.0,1,0,0.0,0.0,0.0,0.0,1.0,0.0\\r\\n631,0,1,1,50.704225352112665,70,74,72.0,1,0,1.0,0.0,0.0,0.0,0.0,0.0\\r\\n632,1,1,0,61.97183098591548,79,79,79.0,1,0,0.0,0.0,0.0,0.0,0.0,1.0\\r\\n633,1,1,0,46.478873239436616,67,67,67.0,1,0,0.0,0.0,0.0,0.0,1.0,0.0\\r\\n634,2,0,0,67.6056338028169,67,64,65.5,0,1,1.0,0.0,0.0,0.0,0.0,0.0\\r\\n635,3,1,0,56.33802816901407,66,61,63.5,0,1,0.0,0.0,0.0,0.0,0.0,1.0\\r\\n636,3,0,0,19.718309859154928,60,58,59.0,1,0,1.0,0.0,0.0,0.0,0.0,0.0\\r\\n637,3,1,0,85.91549295774647,87,85,86.0,0,1,1.0,0.0,0.0,0.0,0.0,0.0\\r\\n638,2,0,0,63.38028169014084,77,73,75.0,0,1,0.0,0.0,0.0,0.0,1.0,0.0\\r\\n639,2,1,0,61.97183098591548,66,63,64.5,0,1,0.0,0.0,0.0,0.0,0.0,1.0\\r\\n640,3,0,0,36.61971830985916,71,69,70.0,1,0,0.0,0.0,0.0,0.0,1.0,0.0\\r\\n641,2,1,0,50.704225352112665,69,67,68.0,1,0,0.0,0.0,1.0,0.0,0.0,0.0\\r\\n642,3,1,0,71.83098591549296,63,63,63.0,0,1,1.0,0.0,0.0,0.0,0.0,0.0\\r\\n643,2,0,1,29.577464788732392,60,60,60.0,1,0,0.0,0.0,0.0,0.0,0.0,1.0\\r\\n644,2,0,1,47.887323943661976,73,71,72.0,1,0,0.0,0.0,0.0,0.0,1.0,0.0\\r\\n645,1,0,0,67.6056338028169,85,87,86.0,1,0,0.0,1.0,0.0,0.0,0.0,0.0\\r\\n646,2,1,0,61.97183098591548,74,61,67.5,0,1,0.0,0.0,0.0,0.0,1.0,0.0\\r\\n647,3,1,1,73.2394366197183,72,77,74.5,0,1,1.0,0.0,0.0,0.0,0.0,0.0\\r\\n648,2,0,0,52.112676056338024,76,68,72.0,1,0,0.0,0.0,1.0,0.0,0.0,0.0\\r\\n649,3,0,0,32.394366197183096,57,50,53.5,0,1,1.0,0.0,0.0,0.0,0.0,0.0\\r\\n650,2,1,0,56.33802816901407,78,76,77.0,1,0,0.0,0.0,0.0,0.0,1.0,0.0\\r\\n651,2,1,1,50.704225352112665,84,84,84.0,1,0,1.0,0.0,0.0,0.0,0.0,0.0\\r\\n652,3,1,1,56.33802816901407,77,78,77.5,1,0,0.0,0.0,1.0,0.0,0.0,0.0\\r\\n653,4,1,1,61.97183098591548,78,76,77.0,1,0,0.0,0.0,0.0,0.0,1.0,0.0\\r\\n654,2,1,1,57.74647887323943,82,76,79.0,1,0,0.0,0.0,0.0,0.0,0.0,1.0\\r\\n655,3,0,0,73.2394366197183,75,78,76.5,0,1,1.0,0.0,0.0,0.0,0.0,0.0\\r\\n656,3,0,0,47.887323943661976,61,60,60.5,0,1,0.0,0.0,0.0,0.0,1.0,0.0\\r\\n657,3,1,0,53.521126760563384,72,74,73.0,1,0,0.0,0.0,1.0,0.0,0.0,0.0\\r\\n658,1,1,0,43.66197183098591,68,60,64.0,0,1,0.0,0.0,1.0,0.0,0.0,0.0\\r\\n659,1,1,0,46.478873239436616,55,54,54.5,0,1,0.0,0.0,1.0,0.0,0.0,0.0\\r\\n660,2,0,1,0.0,40,44,42.0,1,0,0.0,0.0,0.0,0.0,0.0,1.0\\r\\n661,1,1,1,46.478873239436616,66,68,67.0,0,1,0.0,0.0,0.0,0.0,1.0,0.0\\r\\n662,4,1,1,91.5492957746479,99,100,99.5,1,0,0.0,0.0,0.0,1.0,0.0,0.0\\r\\n663,4,1,1,78.87323943661971,75,68,71.5,0,1,0.0,0.0,0.0,0.0,1.0,0.0\\r\\n664,3,0,0,67.6056338028169,78,73,75.5,0,1,1.0,0.0,0.0,0.0,0.0,0.0\\r\\n665,0,0,0,33.80281690140844,58,44,51.0,0,1,0.0,0.0,1.0,0.0,0.0,0.0\\r\\n666,4,0,0,90.14084507042253,90,83,86.5,0,1,0.0,0.0,0.0,0.0,1.0,0.0\\r\\n667,2,1,0,28.169014084507033,53,53,53.0,1,0,1.0,0.0,0.0,0.0,0.0,0.0\\r\\n668,4,0,0,61.97183098591548,76,78,77.0,1,0,1.0,0.0,0.0,0.0,0.0,0.0\\r\\n669,2,0,1,52.112676056338024,74,81,77.5,1,0,0.0,1.0,0.0,0.0,0.0,0.0\\r\\n670,3,1,0,67.6056338028169,77,73,75.0,1,0,1.0,0.0,0.0,0.0,0.0,0.0\\r\\n671,2,1,0,28.169014084507033,63,56,59.5,1,0,0.0,0.0,0.0,0.0,0.0,1.0\\r\\n672,3,0,0,70.42253521126761,89,86,87.5,1,0,0.0,0.0,0.0,0.0,1.0,0.0\\r\\n673,0,1,0,42.25352112676057,72,70,71.0,1,0,0.0,1.0,0.0,0.0,0.0,0.0\\r\\n674,3,1,1,39.43661971830985,78,79,78.5,1,0,1.0,0.0,0.0,0.0,0.0,0.0\\r\\n675,2,0,0,52.112676056338024,66,59,62.5,0,1,0.0,0.0,1.0,0.0,0.0,0.0\\r\\n676,4,1,1,70.42253521126761,81,82,81.5,1,0,0.0,1.0,0.0,0.0,0.0,0.0\\r\\n677,1,1,0,39.43661971830985,67,72,69.5,1,0,0.0,0.0,0.0,0.0,0.0,1.0\\r\\n678,0,1,1,81.69014084507043,84,87,85.5,0,1,0.0,1.0,0.0,0.0,0.0,0.0\\r\\n679,3,1,0,47.887323943661976,64,67,65.5,1,0,0.0,0.0,0.0,0.0,1.0,0.0\\r\\n680,1,0,1,42.25352112676057,63,64,63.5,1,0,0.0,0.0,0.0,0.0,0.0,1.0\\r\\n681,0,0,0,46.478873239436616,72,65,68.5,0,1,0.0,1.0,0.0,0.0,0.0,0.0\\r\\n682,2,1,0,52.112676056338024,59,52,55.5,0,1,0.0,0.0,0.0,0.0,1.0,0.0\\r\\n683,3,1,0,84.50704225352112,87,79,83.0,0,1,0.0,0.0,1.0,0.0,0.0,0.0\\r\\n684,3,0,1,18.309859154929576,61,58,59.5,1,0,1.0,0.0,0.0,0.0,0.0,0.0\\r\\n685,2,1,1,90.14084507042253,84,90,87.0,0,1,0.0,0.0,0.0,0.0,1.0,0.0\\r\\n686,4,1,1,71.83098591549296,85,85,85.0,1,0,0.0,0.0,0.0,0.0,0.0,1.0\\r\\n687,3,1,0,97.18309859154928,100,99,99.5,1,0,0.0,0.0,0.0,0.0,1.0,0.0\\r\\n688,3,1,0,73.2394366197183,81,84,82.5,0,1,0.0,0.0,0.0,1.0,0.0,0.0\\r\\n689,1,1,1,43.66197183098591,70,74,72.0,1,0,0.0,0.0,0.0,0.0,0.0,1.0\\r\\n690,1,0,1,66.19718309859155,94,87,90.5,1,0,1.0,0.0,0.0,0.0,0.0,0.0\\r\\n691,2,1,1,61.97183098591548,78,72,75.0,0,1,1.0,0.0,0.0,0.0,0.0,0.0\\r\\n692,2,1,0,66.19718309859155,76,74,75.0,1,0,0.0,0.0,1.0,0.0,0.0,0.0\\r\\n693,4,0,1,87.32394366197184,73,80,76.5,0,1,1.0,0.0,0.0,0.0,0.0,0.0\\r\\n694,2,0,0,46.478873239436616,72,70,71.0,1,0,0.0,0.0,0.0,0.0,1.0,0.0\\r\\n695,3,0,1,36.61971830985916,59,59,59.0,0,1,0.0,0.0,0.0,0.0,0.0,1.0\\r\\n696,1,0,1,63.38028169014084,90,88,89.0,1,0,0.0,0.0,0.0,0.0,0.0,1.0\\r\\n697,1,1,0,25.352112676056343,43,41,42.0,0,1,0.0,0.0,0.0,0.0,1.0,0.0\\r\\n698,4,1,1,73.2394366197183,74,71,72.5,0,1,0.0,0.0,0.0,0.0,1.0,0.0\\r\\n699,4,1,1,50.704225352112665,75,77,76.0,1,0,1.0,0.0,0.0,0.0,0.0,0.0\\r\\n700,4,1,1,54.92957746478873,51,57,54.0,0,1,0.0,0.0,0.0,0.0,0.0,1.0\\r\\n701,3,0,0,61.97183098591548,92,84,88.0,1,0,0.0,0.0,1.0,0.0,0.0,0.0\\r\\n702,2,1,0,33.80281690140844,39,37,38.0,0,1,0.0,0.0,0.0,0.0,1.0,0.0\\r\\n703,1,0,1,54.92957746478873,77,80,78.5,1,0,1.0,0.0,0.0,0.0,0.0,0.0\\r\\n704,0,0,0,36.61971830985916,46,43,44.5,0,1,0.0,0.0,0.0,0.0,0.0,1.0\\r\\n705,2,1,1,81.69014084507043,89,94,91.5,1,0,0.0,0.0,0.0,0.0,1.0,0.0\\r\\n706,3,1,0,36.61971830985916,47,44,45.5,0,1,0.0,0.0,0.0,0.0,0.0,1.0\\r\\n707,4,0,0,33.80281690140844,58,57,57.5,1,0,0.0,0.0,0.0,0.0,1.0,0.0\\r\\n708,2,1,0,53.521126760563384,57,59,58.0,0,1,0.0,0.0,0.0,1.0,0.0,0.0\\r\\n709,2,1,0,88.73239436619718,79,84,81.5,0,1,1.0,0.0,0.0,0.0,0.0,0.0\\r\\n710,1,0,1,33.80281690140844,66,73,69.5,1,0,0.0,0.0,0.0,0.0,1.0,0.0\\r\\n711,3,1,0,73.2394366197183,71,73,72.0,0,1,1.0,0.0,0.0,0.0,0.0,0.0\\r\\n712,2,0,0,45.07042253521126,60,55,57.5,0,1,0.0,0.0,1.0,0.0,0.0,0.0\\r\\n713,3,1,0,71.83098591549296,73,72,72.5,0,1,0.0,1.0,0.0,0.0,0.0,0.0\\r\\n714,0,0,0,11.267605633802816,57,56,56.5,1,0,1.0,0.0,0.0,0.0,0.0,0.0\\r\\n715,2,1,0,73.2394366197183,84,82,83.0,1,0,0.0,0.0,1.0,0.0,0.0,0.0\\r\\n716,2,1,1,42.25352112676057,73,72,72.5,1,0,1.0,0.0,0.0,0.0,0.0,0.0\\r\\n717,1,0,0,36.61971830985916,55,47,51.0,0,1,0.0,0.0,0.0,0.0,1.0,0.0\\r\\n718,3,1,0,60.56338028169014,79,74,76.5,0,1,1.0,0.0,0.0,0.0,0.0,0.0\\r\\n719,3,1,0,56.33802816901407,75,71,73.0,0,1,0.0,0.0,1.0,0.0,0.0,0.0\\r\\n720,2,1,0,56.33802816901407,64,68,66.0,0,1,0.0,0.0,0.0,0.0,1.0,0.0\\r\\n721,2,0,0,29.577464788732392,60,59,59.5,1,0,0.0,1.0,0.0,0.0,0.0,0.0\\r\\n722,1,1,1,81.69014084507043,84,86,85.0,0,1,0.0,0.0,0.0,0.0,1.0,0.0\\r\\n723,3,1,0,59.15492957746479,69,68,68.5,0,1,0.0,0.0,0.0,0.0,0.0,1.0\\r\\n724,4,1,0,54.92957746478873,72,65,68.5,0,1,0.0,0.0,0.0,0.0,1.0,0.0\\r\\n725,2,0,1,70.42253521126761,77,75,76.0,0,1,0.0,0.0,0.0,1.0,0.0,0.0\\r\\n726,2,1,1,67.6056338028169,90,85,87.5,1,0,0.0,0.0,0.0,0.0,0.0,1.0\\r\\n727,2,0,0,40.84507042253521,55,53,54.0,0,1,1.0,0.0,0.0,0.0,0.0,0.0\\r\\n728,4,1,0,77.46478873239437,95,92,93.5,1,0,1.0,0.0,0.0,0.0,0.0,0.0\\r\\n729,3,1,0,36.61971830985916,58,52,55.0,0,1,0.0,0.0,0.0,0.0,1.0,0.0\\r\\n730,4,0,1,57.74647887323943,68,72,70.0,0,1,0.0,1.0,0.0,0.0,0.0,0.0\\r\\n731,3,0,1,32.394366197183096,59,65,62.0,1,0,0.0,0.0,0.0,0.0,1.0,0.0\\r\\n732,1,1,1,56.33802816901407,77,77,77.0,0,1,0.0,0.0,0.0,0.0,1.0,0.0\\r\\n733,2,0,0,33.80281690140844,72,64,68.0,1,0,0.0,0.0,1.0,0.0,0.0,0.0\\r\\n734,3,1,0,26.76056338028169,58,54,56.0,1,0,0.0,0.0,0.0,0.0,0.0,1.0\\r\\n735,3,1,1,69.01408450704224,81,86,83.5,0,1,0.0,0.0,0.0,0.0,0.0,1.0\\r\\n736,1,1,0,46.478873239436616,62,63,62.5,1,0,0.0,0.0,1.0,0.0,0.0,0.0\\r\\n737,3,1,0,43.66197183098591,63,59,61.0,0,1,0.0,0.0,0.0,0.0,1.0,0.0\\r\\n738,1,1,0,63.38028169014084,72,72,72.0,1,0,0.0,0.0,1.0,0.0,0.0,0.0\\r\\n739,2,1,1,40.84507042253521,75,77,76.0,1,0,0.0,0.0,1.0,0.0,0.0,0.0\\r\\n740,1,1,1,66.19718309859155,62,60,61.0,0,1,0.0,0.0,1.0,0.0,0.0,0.0\\r\\n741,3,1,0,54.92957746478873,71,75,73.0,1,0,0.0,0.0,0.0,0.0,0.0,1.0\\r\\n742,0,0,0,40.84507042253521,60,57,58.5,0,1,0.0,0.0,0.0,0.0,1.0,0.0\\r\\n743,1,1,0,32.394366197183096,48,49,48.5,0,1,0.0,0.0,1.0,0.0,0.0,0.0\\r\\n744,3,1,0,64.7887323943662,73,74,73.5,0,1,0.0,1.0,0.0,0.0,0.0,0.0\\r\\n745,1,0,1,32.394366197183096,67,72,69.5,1,0,0.0,0.0,0.0,0.0,0.0,1.0\\r\\n746,2,0,0,46.478873239436616,78,79,78.5,1,0,0.0,1.0,0.0,0.0,0.0,0.0\\r\\n747,1,1,0,52.112676056338024,65,60,62.5,0,1,0.0,0.0,0.0,0.0,1.0,0.0\\r\\n748,1,0,0,28.169014084507033,58,55,56.5,1,0,0.0,0.0,0.0,0.0,0.0,1.0\\r\\n749,1,1,0,52.112676056338024,72,70,71.0,1,0,0.0,0.0,1.0,0.0,0.0,0.0\\r\\n750,2,0,0,8.450704225352112,44,43,43.5,1,0,0.0,0.0,0.0,0.0,1.0,0.0\\r\\n751,0,1,1,60.56338028169014,79,82,80.5,1,0,0.0,0.0,0.0,0.0,1.0,0.0\\r\\n752,4,1,1,91.5492957746479,85,82,83.5,0,1,1.0,0.0,0.0,0.0,0.0,0.0\\r\\n753,3,0,0,23.943661971830984,56,57,56.5,1,0,1.0,0.0,0.0,0.0,0.0,0.0\\r\\n754,1,1,0,67.6056338028169,90,84,87.0,1,0,0.0,0.0,0.0,1.0,0.0,0.0\\r\\n755,1,0,1,66.19718309859155,85,82,83.5,1,0,0.0,0.0,1.0,0.0,0.0,0.0\\r\\n756,2,1,1,32.394366197183096,59,62,60.5,1,0,1.0,0.0,0.0,0.0,0.0,0.0\\r\\n757,2,1,1,87.32394366197184,81,79,80.0,0,1,0.0,1.0,0.0,0.0,0.0,0.0\\r\\n758,1,1,1,4.225352112676056,51,44,47.5,1,0,0.0,0.0,0.0,0.0,0.0,1.0\\r\\n759,4,0,0,60.56338028169014,79,77,78.0,1,0,0.0,0.0,0.0,0.0,0.0,1.0\\r\\n760,2,0,0,54.92957746478873,65,61,63.0,0,1,1.0,0.0,0.0,0.0,0.0,0.0\\r\\n761,2,0,0,32.394366197183096,65,61,63.0,1,0,0.0,0.0,0.0,1.0,0.0,0.0\\r\\n762,1,1,0,26.76056338028169,62,60,61.0,1,0,0.0,0.0,1.0,0.0,0.0,0.0\\r\\n763,3,0,0,43.66197183098591,66,70,68.0,1,0,0.0,0.0,0.0,0.0,1.0,0.0\\r\\n764,3,0,0,52.112676056338024,74,69,71.5,0,1,0.0,0.0,1.0,0.0,0.0,0.0\\r\\n765,4,1,1,84.50704225352112,84,77,80.5,0,1,0.0,0.0,0.0,0.0,0.0,1.0\\r\\n766,1,1,0,18.309859154929576,52,51,51.5,1,0,0.0,0.0,1.0,0.0,0.0,0.0\\r\\n767,4,0,1,39.43661971830985,68,73,70.5,1,0,1.0,0.0,0.0,0.0,0.0,0.0\\r\\n768,3,1,0,57.74647887323943,70,70,70.0,0,1,0.0,0.0,1.0,0.0,0.0,0.0\\r\\n769,4,0,0,57.74647887323943,84,81,82.5,1,0,1.0,0.0,0.0,0.0,0.0,0.0\\r\\n770,4,1,0,56.33802816901407,60,54,57.0,0,1,0.0,0.0,0.0,0.0,1.0,0.0\\r\\n771,2,1,0,32.394366197183096,55,57,56.0,1,0,1.0,0.0,0.0,0.0,0.0,0.0\\r\\n772,2,1,1,53.521126760563384,73,68,70.5,0,1,0.0,0.0,0.0,0.0,0.0,1.0\\r\\n773,2,1,1,66.19718309859155,80,73,76.5,0,1,0.0,0.0,0.0,0.0,0.0,1.0\\r\\n774,4,1,0,81.69014084507043,94,95,94.5,1,0,1.0,0.0,0.0,0.0,0.0,0.0\\r\\n775,2,1,0,61.97183098591548,76,78,77.0,1,0,0.0,0.0,0.0,0.0,1.0,0.0\\r\\n776,0,0,0,64.7887323943662,81,74,77.5,0,1,0.0,0.0,0.0,0.0,1.0,0.0\\r\\n777,3,0,0,49.29577464788732,74,75,74.5,1,0,0.0,0.0,0.0,0.0,1.0,0.0\\r\\n778,4,0,0,16.901408450704224,45,40,42.5,1,0,0.0,0.0,1.0,0.0,0.0,0.0\\r\\n779,2,1,0,85.91549295774647,75,69,72.0,0,1,0.0,0.0,1.0,0.0,0.0,0.0\\r\\n780,1,1,0,42.25352112676057,54,51,52.5,0,1,0.0,1.0,0.0,0.0,0.0,0.0\\r\\n781,0,0,0,22.535211267605632,47,49,48.0,0,1,0.0,0.0,1.0,0.0,0.0,0.0\\r\\n782,2,1,1,35.2112676056338,64,67,65.5,1,0,0.0,0.0,0.0,1.0,0.0,0.0\\r\\n783,4,1,1,81.69014084507043,84,76,80.0,0,1,0.0,0.0,0.0,0.0,0.0,1.0\\r\\n784,1,1,1,91.5492957746479,86,87,86.5,0,1,0.0,0.0,0.0,0.0,0.0,1.0\\r\\n785,0,1,0,22.535211267605632,59,64,61.5,1,0,0.0,1.0,0.0,0.0,0.0,0.0\\r\\n786,3,0,1,45.07042253521126,70,76,73.0,0,1,0.0,1.0,0.0,0.0,0.0,0.0\\r\\n787,1,0,0,43.66197183098591,72,68,70.0,1,0,0.0,0.0,1.0,0.0,0.0,0.0\\r\\n788,2,1,0,67.6056338028169,91,88,89.5,1,0,0.0,0.0,0.0,0.0,0.0,1.0\\r\\n789,0,1,1,78.87323943661971,90,92,91.0,1,0,0.0,0.0,0.0,0.0,0.0,1.0\\r\\n790,3,0,0,69.01408450704224,90,93,91.5,1,0,0.0,1.0,0.0,0.0,0.0,0.0\\r\\n791,4,0,1,28.169014084507033,52,51,51.5,0,1,0.0,0.0,0.0,0.0,1.0,0.0\\r\\n792,1,0,0,59.15492957746479,87,82,84.5,1,0,0.0,0.0,1.0,0.0,0.0,0.0\\r\\n793,2,0,0,26.76056338028169,58,52,55.0,1,0,0.0,0.0,0.0,0.0,0.0,1.0\\r\\n794,2,1,0,46.478873239436616,67,58,62.5,0,1,0.0,0.0,1.0,0.0,0.0,0.0\\r\\n795,2,0,1,38.028169014084504,68,70,69.0,1,0,1.0,0.0,0.0,0.0,0.0,0.0\\r\\n796,2,1,0,50.704225352112665,69,76,72.5,1,0,0.0,0.0,0.0,0.0,0.0,1.0\\r\\n797,3,0,1,56.33802816901407,86,81,83.5,1,0,0.0,0.0,0.0,0.0,0.0,1.0\\r\\n798,1,1,0,54.92957746478873,54,53,53.5,0,1,0.0,0.0,0.0,0.0,0.0,1.0\\r\\n799,0,0,0,45.07042253521126,60,57,58.5,1,0,0.0,0.0,0.0,0.0,1.0,0.0\\r\\n800,2,0,1,63.38028169014084,86,89,87.5,1,0,0.0,1.0,0.0,0.0,0.0,0.0\\r\\n801,0,1,0,49.29577464788732,60,58,59.0,0,1,0.0,1.0,0.0,0.0,0.0,0.0\\r\\n802,1,1,1,67.6056338028169,82,89,85.5,1,0,0.0,0.0,1.0,0.0,0.0,0.0\\r\\n803,1,1,0,40.84507042253521,50,45,47.5,0,1,0.0,0.0,0.0,0.0,1.0,0.0\\r\\n804,2,1,1,43.66197183098591,64,74,69.0,1,0,0.0,0.0,1.0,0.0,0.0,0.0\\r\\n805,4,1,0,61.97183098591548,64,57,60.5,0,1,0.0,0.0,1.0,0.0,0.0,0.0\\r\\n806,1,0,1,40.84507042253521,57,53,55.0,0,1,1.0,0.0,0.0,0.0,0.0,0.0\\r\\n807,2,1,0,52.112676056338024,77,73,75.0,1,0,1.0,0.0,0.0,0.0,0.0,0.0\\r\\n808,3,0,0,14.08450704225352,52,46,49.0,1,0,0.0,0.0,1.0,0.0,0.0,0.0\\r\\n809,2,1,0,49.29577464788732,58,51,54.5,0,1,0.0,0.0,0.0,0.0,0.0,1.0\\r\\n810,1,0,1,63.38028169014084,77,76,76.5,0,1,0.0,0.0,0.0,0.0,1.0,0.0\\r\\n811,3,0,1,15.492957746478872,65,64,64.5,1,0,0.0,0.0,0.0,0.0,0.0,1.0\\r\\n812,4,1,0,85.91549295774647,85,84,84.5,0,1,0.0,0.0,0.0,1.0,0.0,0.0\\r\\n813,2,1,1,87.32394366197184,85,85,85.0,0,1,0.0,0.0,0.0,1.0,0.0,0.0\\r\\n814,3,1,0,49.29577464788732,54,50,52.0,0,1,0.0,0.0,1.0,0.0,0.0,0.0\\r\\n815,3,1,0,71.83098591549296,75,69,72.0,0,1,1.0,0.0,0.0,0.0,0.0,0.0\\r\\n816,2,1,0,59.15492957746479,67,67,67.0,0,1,0.0,0.0,0.0,1.0,0.0,0.0\\r\\n817,0,1,0,45.07042253521126,68,63,65.5,1,0,0.0,0.0,1.0,0.0,0.0,0.0\\r\\n818,4,1,0,81.69014084507043,85,93,89.0,1,0,0.0,0.0,0.0,0.0,1.0,0.0\\r\\n819,4,1,0,74.64788732394365,67,61,64.0,0,1,0.0,0.0,0.0,0.0,0.0,1.0\\r\\n820,2,1,0,46.478873239436616,64,55,59.5,0,1,0.0,0.0,0.0,0.0,0.0,1.0\\r\\n821,1,1,0,95.77464788732394,97,96,96.5,1,0,0.0,1.0,0.0,0.0,0.0,0.0\\r\\n822,1,0,0,64.7887323943662,68,65,66.5,0,1,0.0,0.0,0.0,0.0,1.0,0.0\\r\\n823,2,1,0,50.704225352112665,79,81,80.0,1,0,0.0,1.0,0.0,0.0,0.0,0.0\\r\\n824,1,1,1,32.394366197183096,49,46,47.5,0,1,0.0,0.0,1.0,0.0,0.0,0.0\\r\\n825,2,0,0,81.69014084507043,73,72,72.5,0,1,1.0,0.0,0.0,0.0,0.0,0.0\\r\\n826,2,1,0,33.80281690140844,62,53,57.5,1,0,1.0,0.0,0.0,0.0,0.0,0.0\\r\\n827,4,0,0,73.2394366197183,86,87,86.5,1,0,0.0,0.0,0.0,1.0,0.0,0.0\\r\\n828,3,0,1,14.08450704225352,42,38,40.0,0,1,0.0,1.0,0.0,0.0,0.0,0.0\\r\\n829,2,1,1,59.15492957746479,71,80,75.5,1,0,0.0,0.0,0.0,0.0,1.0,0.0\\r\\n830,2,1,0,95.77464788732394,93,91,92.0,0,1,1.0,0.0,0.0,0.0,0.0,0.0\\r\\n831,3,1,1,74.64788732394365,82,88,85.0,0,1,0.0,0.0,0.0,0.0,1.0,0.0\\r\\n832,2,0,0,42.25352112676057,53,52,52.5,0,1,0.0,0.0,1.0,0.0,0.0,0.0\\r\\n833,1,1,0,45.07042253521126,42,41,41.5,0,1,1.0,0.0,0.0,0.0,0.0,0.0\\r\\n834,4,0,1,69.01408450704224,74,72,73.0,0,1,1.0,0.0,0.0,0.0,0.0,0.0\\r\\n835,2,0,0,28.169014084507033,51,51,51.0,0,1,1.0,0.0,0.0,0.0,0.0,0.0\\r\\n836,1,1,0,42.25352112676057,58,47,52.5,0,1,0.0,0.0,1.0,0.0,0.0,0.0\\r\\n837,2,1,1,57.74647887323943,72,76,74.0,1,0,0.0,0.0,0.0,0.0,1.0,0.0\\r\\n838,1,1,1,74.64788732394365,84,78,81.0,0,1,1.0,0.0,0.0,0.0,0.0,0.0\\r\\n839,4,0,0,85.91549295774647,90,82,86.0,0,1,1.0,0.0,0.0,0.0,0.0,0.0\\r\\n840,2,0,0,19.718309859154928,62,61,61.5,1,0,0.0,1.0,0.0,0.0,0.0,0.0\\r\\n841,2,0,0,71.83098591549296,64,66,65.0,0,1,0.0,0.0,0.0,0.0,1.0,0.0\\r\\n842,3,1,0,73.2394366197183,82,84,83.0,0,1,0.0,0.0,0.0,0.0,1.0,0.0\\r\\n843,2,1,0,39.43661971830985,61,54,57.5,0,1,0.0,0.0,0.0,0.0,0.0,1.0\\r\\n844,3,1,0,42.25352112676057,72,80,76.0,1,0,0.0,0.0,0.0,0.0,0.0,1.0\\r\\n845,3,1,0,49.29577464788732,76,74,75.0,1,0,1.0,0.0,0.0,0.0,0.0,0.0\\r\\n846,2,1,1,47.887323943661976,64,66,65.0,0,1,0.0,1.0,0.0,0.0,0.0,0.0\\r\\n847,4,1,1,59.15492957746479,70,70,70.0,1,0,0.0,1.0,0.0,0.0,0.0,0.0\\r\\n848,1,0,0,49.29577464788732,73,71,72.0,1,0,0.0,0.0,1.0,0.0,0.0,0.0\\r\\n849,3,0,0,36.61971830985916,46,44,45.0,0,1,0.0,1.0,0.0,0.0,0.0,0.0\\r\\n850,4,1,0,30.98591549295775,51,54,52.5,1,0,1.0,0.0,0.0,0.0,0.0,0.0\\r\\n851,2,1,1,46.478873239436616,76,80,78.0,1,0,1.0,0.0,0.0,0.0,0.0,0.0\\r\\n852,4,1,1,90.14084507042253,100,95,97.5,1,0,1.0,0.0,0.0,0.0,0.0,0.0\\r\\n853,2,0,0,35.2112676056338,72,59,65.5,0,1,0.0,0.0,1.0,0.0,0.0,0.0\\r\\n854,3,0,0,56.33802816901407,65,74,69.5,1,0,0.0,0.0,0.0,0.0,1.0,0.0\\r\\n855,3,0,0,21.12676056338028,51,48,49.5,0,1,0.0,0.0,1.0,0.0,0.0,0.0\\r\\n856,4,1,1,80.28169014084506,85,91,88.0,1,0,0.0,0.0,0.0,0.0,1.0,0.0\\r\\n857,4,1,0,78.87323943661971,92,85,88.5,1,0,1.0,0.0,0.0,0.0,0.0,0.0\\r\\n858,0,0,0,29.577464788732392,67,73,70.0,1,0,0.0,0.0,0.0,1.0,0.0,0.0\\r\\n859,3,1,1,83.09859154929578,74,75,74.5,0,1,0.0,0.0,0.0,0.0,0.0,1.0\\r\\n860,4,1,0,42.25352112676057,62,69,65.5,1,0,1.0,0.0,0.0,0.0,0.0,0.0\\r\\n861,4,0,0,4.225352112676056,34,38,36.0,1,0,0.0,0.0,0.0,0.0,0.0,1.0\\r\\n862,1,0,1,47.887323943661976,78,79,78.5,1,0,0.0,0.0,0.0,0.0,0.0,1.0\\r\\n863,3,1,1,53.521126760563384,54,63,58.5,0,1,1.0,0.0,0.0,0.0,0.0,0.0\\r\\n864,3,1,1,50.704225352112665,78,82,80.0,1,0,0.0,0.0,0.0,0.0,0.0,1.0\\r\\n865,3,1,0,78.87323943661971,84,89,86.5,0,1,0.0,0.0,0.0,1.0,0.0,0.0\\r\\n866,2,1,0,61.97183098591548,78,74,76.0,1,0,0.0,0.0,0.0,1.0,0.0,0.0\\r\\n867,0,0,1,7.04225352112676,48,41,44.5,1,0,0.0,0.0,1.0,0.0,0.0,0.0\\r\\n868,3,0,1,90.14084507042253,100,100,100.0,1,0,0.0,1.0,0.0,0.0,0.0,0.0\\r\\n869,3,0,0,53.521126760563384,84,84,84.0,1,0,0.0,0.0,0.0,0.0,0.0,1.0\\r\\n870,3,1,0,83.09859154929578,77,77,77.0,0,1,0.0,0.0,0.0,0.0,1.0,0.0\\r\\n871,1,1,0,39.43661971830985,48,51,49.5,0,1,0.0,0.0,1.0,0.0,0.0,0.0\\r\\n872,3,1,1,70.42253521126761,84,91,87.5,1,0,0.0,0.0,0.0,0.0,1.0,0.0\\r\\n873,2,0,0,53.521126760563384,75,72,73.5,1,0,0.0,1.0,0.0,0.0,0.0,0.0\\r\\n874,4,1,1,57.74647887323943,64,70,67.0,0,1,0.0,1.0,0.0,0.0,0.0,0.0\\r\\n875,3,0,0,29.577464788732392,42,48,45.0,0,1,0.0,1.0,0.0,0.0,0.0,0.0\\r\\n876,0,1,0,56.33802816901407,84,82,83.0,1,0,0.0,0.0,0.0,0.0,1.0,0.0\\r\\n877,2,1,1,32.394366197183096,61,66,63.5,1,0,0.0,1.0,0.0,0.0,0.0,0.0\\r\\n878,2,0,1,25.352112676056343,62,66,64.0,1,0,0.0,1.0,0.0,0.0,0.0,0.0\\r\\n879,1,0,0,23.943661971830984,61,55,58.0,1,0,1.0,0.0,0.0,0.0,0.0,0.0\\r\\n880,4,1,0,54.92957746478873,70,66,68.0,1,0,0.0,0.0,0.0,0.0,1.0,0.0\\r\\n881,4,1,1,100.0,100,100,100.0,0,1,0.0,1.0,0.0,0.0,0.0,0.0\\r\\n882,2,1,0,21.12676056338028,61,52,56.5,1,0,0.0,0.0,1.0,0.0,0.0,0.0\\r\\n883,2,1,1,39.43661971830985,77,80,78.5,1,0,1.0,0.0,0.0,0.0,0.0,0.0\\r\\n884,1,1,1,87.32394366197184,96,91,93.5,0,1,0.0,0.0,0.0,0.0,1.0,0.0\\r\\n885,3,0,0,56.33802816901407,70,67,68.5,0,1,0.0,0.0,1.0,0.0,0.0,0.0\\r\\n886,2,0,0,8.450704225352112,53,46,49.5,1,0,0.0,0.0,1.0,0.0,0.0,0.0\\r\\n887,3,1,0,60.56338028169014,66,66,66.0,0,1,0.0,0.0,1.0,0.0,0.0,0.0\\r\\n888,1,0,0,35.2112676056338,65,65,65.0,1,0,1.0,0.0,0.0,0.0,0.0,0.0\\r\\n889,3,0,0,63.38028169014084,70,69,69.5,0,1,0.0,0.0,1.0,0.0,0.0,0.0\\r\\n890,4,1,1,63.38028169014084,64,60,62.0,0,1,0.0,0.0,0.0,0.0,0.0,1.0\\r\\n891,4,0,0,49.29577464788732,56,52,54.0,0,1,1.0,0.0,0.0,0.0,0.0,0.0\\r\\n892,3,0,1,50.704225352112665,61,71,66.0,1,0,0.0,0.0,1.0,0.0,0.0,0.0\\r\\n893,4,0,1,23.943661971830984,43,44,43.5,0,1,1.0,0.0,0.0,0.0,0.0,0.0\\r\\n894,2,0,0,26.76056338028169,56,51,53.5,1,0,0.0,0.0,0.0,0.0,0.0,1.0\\r\\n895,2,0,1,53.521126760563384,74,70,72.0,0,1,0.0,0.0,0.0,0.0,1.0,0.0\\r\\n896,3,0,0,46.478873239436616,57,62,59.5,0,1,0.0,0.0,0.0,0.0,1.0,0.0\\r\\n897,3,0,1,45.07042253521126,71,73,72.0,0,1,1.0,0.0,0.0,0.0,0.0,0.0\\r\\n898,2,0,1,57.74647887323943,75,74,74.5,0,1,0.0,1.0,0.0,0.0,0.0,0.0\\r\\n899,2,1,1,97.18309859154928,87,90,88.5,0,1,1.0,0.0,0.0,0.0,0.0,0.0\\r\\n900,3,0,0,57.74647887323943,63,58,60.5,0,1,0.0,0.0,0.0,0.0,1.0,0.0\\r\\n901,0,1,0,53.521126760563384,57,53,55.0,0,1,1.0,0.0,0.0,0.0,0.0,0.0\\r\\n902,4,0,0,39.43661971830985,58,57,57.5,1,0,0.0,0.0,1.0,0.0,0.0,0.0\\r\\n903,3,1,1,78.87323943661971,81,85,83.0,0,1,0.0,0.0,0.0,0.0,1.0,0.0\\r\\n904,3,1,1,67.6056338028169,68,69,68.5,0,1,0.0,0.0,0.0,0.0,0.0,1.0\\r\\n905,2,0,1,60.56338028169014,66,72,69.0,0,1,0.0,0.0,0.0,1.0,0.0,0.0\\r\\n906,3,1,0,69.01408450704224,91,96,93.5,1,0,0.0,0.0,0.0,1.0,0.0,0.0\\r\\n907,2,1,0,73.2394366197183,66,64,65.0,0,1,0.0,0.0,1.0,0.0,0.0,0.0\\r\\n908,0,0,0,45.07042253521126,62,61,61.5,0,1,0.0,0.0,0.0,0.0,0.0,1.0\\r\\n909,1,1,0,40.84507042253521,68,61,64.5,1,0,0.0,0.0,1.0,0.0,0.0,0.0\\r\\n910,2,1,0,35.2112676056338,61,58,59.5,1,0,1.0,0.0,0.0,0.0,0.0,0.0\\r\\n911,1,1,0,74.64788732394365,82,80,81.0,0,1,0.0,0.0,1.0,0.0,0.0,0.0\\r\\n912,1,0,1,28.169014084507033,50,52,51.0,0,1,0.0,0.0,0.0,0.0,0.0,1.0\\r\\n913,4,0,1,39.43661971830985,75,73,74.0,1,0,0.0,0.0,1.0,0.0,0.0,0.0\\r\\n914,4,1,0,91.5492957746479,73,71,72.0,0,1,0.0,0.0,1.0,0.0,0.0,0.0\\r\\n915,3,1,1,64.7887323943662,77,83,80.0,1,0,0.0,0.0,0.0,0.0,1.0,0.0\\r\\n916,4,0,0,63.38028169014084,74,72,73.0,1,0,0.0,0.0,0.0,0.0,0.0,1.0\\r\\n917,2,1,1,40.84507042253521,52,54,53.0,0,1,0.0,0.0,1.0,0.0,0.0,0.0\\r\\n918,2,1,0,46.478873239436616,69,69,69.0,1,0,0.0,0.0,0.0,0.0,1.0,0.0\\r\\n919,4,1,0,60.56338028169014,57,62,59.5,0,1,1.0,0.0,0.0,0.0,0.0,0.0\\r\\n920,2,1,0,77.46478873239437,87,81,84.0,0,1,0.0,0.0,0.0,0.0,1.0,0.0\\r\\n921,3,1,0,88.73239436619718,100,100,100.0,1,0,0.0,0.0,0.0,1.0,0.0,0.0\\r\\n922,3,1,0,22.535211267605632,63,59,61.0,1,0,0.0,0.0,1.0,0.0,0.0,0.0\\r\\n923,2,1,0,64.7887323943662,81,71,76.0,0,1,0.0,0.0,1.0,0.0,0.0,0.0\\r\\n924,0,1,0,38.028169014084504,58,64,61.0,1,0,0.0,0.0,0.0,0.0,1.0,0.0\\r\\n925,3,0,0,26.76056338028169,54,53,53.5,1,0,0.0,0.0,0.0,0.0,0.0,1.0\\r\\n926,4,1,0,100.0,100,100,100.0,1,0,1.0,0.0,0.0,0.0,0.0,0.0\\r\\n927,2,0,1,50.704225352112665,76,75,75.5,1,0,0.0,0.0,0.0,0.0,0.0,1.0\\r\\n928,3,1,0,60.56338028169014,57,58,57.5,0,1,0.0,0.0,0.0,0.0,1.0,0.0\\r\\n929,3,1,0,46.478873239436616,70,72,71.0,1,0,0.0,0.0,0.0,0.0,1.0,0.0\\r\\n930,0,1,1,52.112676056338024,68,64,66.0,0,1,0.0,0.0,0.0,0.0,0.0,1.0\\r\\n931,2,1,0,47.887323943661976,63,60,61.5,0,1,0.0,0.0,0.0,0.0,1.0,0.0\\r\\n932,4,1,0,54.92957746478873,76,67,71.5,1,0,1.0,0.0,0.0,0.0,0.0,0.0\\r\\n933,1,1,0,64.7887323943662,84,80,82.0,1,0,0.0,1.0,0.0,0.0,0.0,0.0\\r\\n934,3,1,0,84.50704225352112,100,100,100.0,1,0,0.0,1.0,0.0,0.0,0.0,0.0\\r\\n935,2,1,1,69.01408450704224,72,69,70.5,0,1,0.0,0.0,0.0,0.0,0.0,1.0\\r\\n936,0,0,1,33.80281690140844,50,60,55.0,1,0,0.0,0.0,1.0,0.0,0.0,0.0\\r\\n937,3,0,0,28.169014084507033,65,61,63.0,1,0,0.0,0.0,0.0,0.0,1.0,0.0\\r\\n938,0,1,0,35.2112676056338,63,67,65.0,1,0,0.0,0.0,0.0,0.0,1.0,0.0\\r\\n939,2,1,1,49.29577464788732,82,77,79.5,1,0,0.0,0.0,0.0,0.0,1.0,0.0\\r\\n940,1,0,1,43.66197183098591,62,60,61.0,0,1,0.0,0.0,0.0,0.0,1.0,0.0\\r\\n941,2,1,0,46.478873239436616,65,58,61.5,0,1,1.0,0.0,0.0,0.0,0.0,0.0\\r\\n942,3,1,1,36.61971830985916,41,48,44.5,0,1,0.0,0.0,1.0,0.0,0.0,0.0\\r\\n943,2,1,0,87.32394366197184,95,94,94.5,1,0,1.0,0.0,0.0,0.0,0.0,0.0\\r\\n944,1,1,1,70.42253521126761,85,86,85.5,0,1,0.0,0.0,0.0,0.0,0.0,1.0\\r\\n945,0,1,1,69.01408450704224,87,91,89.0,1,0,0.0,0.0,0.0,0.0,1.0,0.0\\r\\n946,2,1,0,63.38028169014084,75,82,78.5,1,0,0.0,0.0,0.0,0.0,0.0,1.0\\r\\n947,0,1,0,39.43661971830985,51,54,52.5,0,1,0.0,0.0,1.0,0.0,0.0,0.0\\r\\n948,2,1,0,15.492957746478872,59,51,55.0,1,0,1.0,0.0,0.0,0.0,0.0,0.0\\r\\n949,4,1,1,73.2394366197183,75,76,75.5,0,1,0.0,0.0,0.0,0.0,0.0,1.0\\r\\n950,0,0,0,21.12676056338028,45,45,45.0,1,0,0.0,0.0,0.0,0.0,0.0,1.0\\r\\n951,3,0,1,53.521126760563384,86,83,84.5,1,0,0.0,0.0,0.0,0.0,1.0,0.0\\r\\n952,4,0,1,80.28169014084506,81,75,78.0,0,1,0.0,0.0,1.0,0.0,0.0,0.0\\r\\n953,1,1,1,50.704225352112665,82,78,80.0,1,0,0.0,0.0,0.0,0.0,0.0,1.0\\r\\n954,3,0,0,36.61971830985916,76,76,76.0,1,0,1.0,0.0,0.0,0.0,0.0,0.0\\r\\n955,3,0,0,46.478873239436616,72,74,73.0,1,0,0.0,1.0,0.0,0.0,0.0,0.0\\r\\n956,0,1,0,47.887323943661976,63,62,62.5,0,1,0.0,0.0,1.0,0.0,0.0,0.0\\r\\n957,4,1,1,83.09859154929578,99,95,97.0,1,0,0.0,0.0,0.0,1.0,0.0,0.0\\r\\n958,2,0,0,46.478873239436616,55,55,55.0,0,1,0.0,0.0,1.0,0.0,0.0,0.0\\r\\n959,2,0,1,42.25352112676057,71,65,68.0,1,0,0.0,0.0,1.0,0.0,0.0,0.0\\r\\n960,3,1,1,54.92957746478873,78,77,77.5,1,0,0.0,0.0,0.0,0.0,1.0,0.0\\r\\n961,3,0,0,67.6056338028169,86,86,86.0,1,0,0.0,0.0,0.0,0.0,1.0,0.0\\r\\n\""
      ]
     },
     "execution_count": 181,
     "metadata": {},
     "output_type": "execute_result"
    }
   ],
   "source": [
    "#generar un archivo nuevo\n",
    "students.to_csv()"
   ]
  },
  {
   "cell_type": "code",
   "execution_count": 183,
   "id": "f26a4b6d",
   "metadata": {},
   "outputs": [
    {
     "data": {
      "text/html": [
       "<a href='estudiantes.csv' target='_blank'>estudiantes.csv</a><br>"
      ],
      "text/plain": [
       "C:\\Users\\Sol\\Python Datos\\estudiantes.csv"
      ]
     },
     "execution_count": 183,
     "metadata": {},
     "output_type": "execute_result"
    }
   ],
   "source": [
    "#para descargar el archivo nuevo\n",
    "from IPython.display import FileLink\n",
    "\n",
    "students.to_csv('estudiantes.csv', index=False)\n",
    "\n",
    "FileLink('estudiantes.csv')"
   ]
  },
  {
   "cell_type": "code",
   "execution_count": null,
   "id": "2a058cfd",
   "metadata": {},
   "outputs": [],
   "source": [
    "#estimar cual podria ser la nota mas alta de los estudiantes, o estimar si un estudiante podria aprobar o no."
   ]
  }
 ],
 "metadata": {
  "kernelspec": {
   "display_name": "Python 3",
   "language": "python",
   "name": "python3"
  },
  "language_info": {
   "codemirror_mode": {
    "name": "ipython",
    "version": 3
   },
   "file_extension": ".py",
   "mimetype": "text/x-python",
   "name": "python",
   "nbconvert_exporter": "python",
   "pygments_lexer": "ipython3",
   "version": "3.8.8"
  }
 },
 "nbformat": 4,
 "nbformat_minor": 5
}
